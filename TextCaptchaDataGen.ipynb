{
 "cells": [
  {
   "cell_type": "markdown",
   "id": "4012da16",
   "metadata": {},
   "source": [
    "## Creating Captcha Text Images from scratch\n",
    "__[captcha 4.0](https://pypi.org/project/captcha/)__ & __[random](https://docs.python.org/3/library/random.html#random.choices)__"
   ]
  },
  {
   "cell_type": "code",
   "execution_count": 1,
   "id": "c5276698",
   "metadata": {},
   "outputs": [],
   "source": [
    "from captcha.image import ImageCaptcha"
   ]
  },
  {
   "cell_type": "code",
   "execution_count": 2,
   "id": "2cda1f80",
   "metadata": {},
   "outputs": [],
   "source": [
    "image = ImageCaptcha(width = 280, height = 90)"
   ]
  },
  {
   "cell_type": "code",
   "execution_count": 19,
   "id": "c907446d",
   "metadata": {},
   "outputs": [],
   "source": [
    "import random\n",
    "import string\n",
    "i = 0\n",
    "\n",
    "while i <= 6:\n",
    "    \n",
    "    data = image.generate(''.join(random.choices(string.ascii_uppercase + string.digits, k=5)))\n",
    "    image.write(''.join(random.choices(string.ascii_uppercase + string.digits, k=5)), str(i)+\".png\")\n",
    "    i += 1\n"
   ]
  },
  {
   "cell_type": "code",
   "execution_count": 22,
   "id": "c7c74375",
   "metadata": {},
   "outputs": [
    {
     "name": "stdout",
     "output_type": "stream",
     "text": [
      "螢\n",
      "螢薋\n",
      "螢薋蒚\n",
      "螢薋蒚淣\n",
      "螢薋蒚淣劼\n",
      "螢薋蒚淣劼乺\n",
      "螢薋蒚淣劼乺蜑\n",
      "螢薋蒚淣劼乺蜑蓰\n",
      "螢薋蒚淣劼乺蜑蓰卟\n",
      "螢薋蒚淣劼乺蜑蓰卟獇\n"
     ]
    }
   ],
   "source": [
    "def GB2312():\n",
    "    head = random.randint(0x4E00, 0x9FA5)\n",
    "    return head\n",
    "\n",
    "s=''\n",
    "for d in range(10):\n",
    "    s=s+chr(GB2312())\n",
    "    print(s)"
   ]
  },
  {
   "cell_type": "code",
   "execution_count": null,
   "id": "9061be6c",
   "metadata": {},
   "outputs": [],
   "source": []
  }
 ],
 "metadata": {
  "kernelspec": {
   "display_name": "Python 3 (ipykernel)",
   "language": "python",
   "name": "python3"
  },
  "language_info": {
   "codemirror_mode": {
    "name": "ipython",
    "version": 3
   },
   "file_extension": ".py",
   "mimetype": "text/x-python",
   "name": "python",
   "nbconvert_exporter": "python",
   "pygments_lexer": "ipython3",
   "version": "3.9.12"
  }
 },
 "nbformat": 4,
 "nbformat_minor": 5
}
