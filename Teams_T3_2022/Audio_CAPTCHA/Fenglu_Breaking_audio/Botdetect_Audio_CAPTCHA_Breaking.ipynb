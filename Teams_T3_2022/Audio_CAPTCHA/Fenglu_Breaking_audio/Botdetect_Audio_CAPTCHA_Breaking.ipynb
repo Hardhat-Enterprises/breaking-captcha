{
  "nbformat": 4,
  "nbformat_minor": 0,
  "metadata": {
    "colab": {
      "provenance": []
    },
    "kernelspec": {
      "name": "python3",
      "display_name": "Python 3"
    },
    "language_info": {
      "name": "python"
    },
    "accelerator": "GPU",
    "gpuClass": "standard"
  },
  "cells": [
    {
      "cell_type": "code",
      "execution_count": 101,
      "metadata": {
        "colab": {
          "base_uri": "https://localhost:8080/"
        },
        "id": "U8aAtD3xw9dH",
        "outputId": "daa61513-1d19-42be-be29-5b6fa9b0681b"
      },
      "outputs": [
        {
          "output_type": "stream",
          "name": "stdout",
          "text": [
            "Drive already mounted at /content/drive; to attempt to forcibly remount, call drive.mount(\"/content/drive\", force_remount=True).\n"
          ]
        }
      ],
      "source": [
        "import librosa\n",
        "import librosa.display\n",
        "import torch\n",
        "import torchvision\n",
        "from torch.utils.data import Dataset, DataLoader\n",
        "import numpy as np\n",
        "import math\n",
        "import torch.nn as nn\n",
        "import matplotlib.pyplot as plt\n",
        "import string\n",
        "import io\n",
        "import os\n",
        "import unicodedata\n",
        "import string\n",
        "import glob\n",
        "\n",
        "import torch\n",
        "import random\n",
        "\n",
        "from google.colab import drive\n",
        "drive.mount('/content/drive')\n"
      ]
    },
    {
      "cell_type": "markdown",
      "source": [
        "### Model : LSTM + Linear for classification\n",
        "### Data: lenght 1 audio CAPTCHAs from the botdetect website \n",
        "### input features: Mel-Frequency Ceptrum Coefficients (MFCC)\n",
        "### output classes: 26 + 10 ( 26 Captical letters + 10 digits)"
      ],
      "metadata": {
        "id": "pnrgnAa4Ls-C"
      }
    },
    {
      "cell_type": "markdown",
      "source": [
        "### Data Preparation"
      ],
      "metadata": {
        "id": "u-jnxfXxvlID"
      }
    },
    {
      "cell_type": "code",
      "source": [
        "input_size = 13\n",
        "\n",
        "#num_layers \n",
        "learning_rate = 0.001\n",
        "# class numbers (26 Captical letters + 10 digits)\n",
        "\n",
        "num_classes = 36  #26 + 10\n",
        "\n",
        "batch_size = 64\n",
        "# extract features from audio file\n",
        "def extract_mfcc(audio_path):\n",
        "  x, sr = librosa.load(audio_path)\n",
        "  mfccs = librosa.feature.mfcc(x, sr=sr,n_mfcc=input_size)\n",
        "  return mfccs.T"
      ],
      "metadata": {
        "id": "y0oUmfL15D2u"
      },
      "execution_count": 102,
      "outputs": []
    },
    {
      "cell_type": "code",
      "source": [
        "t = string.ascii_uppercase+string.digits\n",
        "lookup = dict()\n",
        "for x, y in enumerate([*t]):\n",
        "  lookup[y] = x"
      ],
      "metadata": {
        "id": "EkK8WxkFz0DD"
      },
      "execution_count": 103,
      "outputs": []
    },
    {
      "cell_type": "code",
      "source": [
        "class CAPTCHADataset(Dataset):\n",
        "  def __init__(self):\n",
        "    super().__init__()\n",
        "    file_path = '/content/drive/MyDrive/Deakin_2022_T3/SIT782_CapstoneB/CAPTCHAs/botdetect'\n",
        "    audio_dataset = []\n",
        "    for x in glob.glob(os.path.join(file_path,'*.wav')):\n",
        "      mfcc = extract_mfcc(x)\n",
        "      audio_dataset.append(torch.Tensor(mfcc))\n",
        "    \n",
        "    self.x_data = torch.nn.utils.rnn.pad_sequence(audio_dataset,batch_first=True,padding_value=0)\n",
        "    with open(os.path.join(file_path, 'labels.txt')) as f:\n",
        "      self.y_data = [lookup[x.strip()] for x in f.readlines()]\n",
        "    self.min_len = min(len(self.x_data),len(self.y_data))\n",
        "    \n",
        "  def __getitem__(self, index):\n",
        "      sample = self.x_data[index], self.y_data[index]\n",
        "      return sample\n",
        "    \n",
        "  def __len__(self):\n",
        "      return self.min_len\n"
      ],
      "metadata": {
        "id": "PyQt0XsknOFJ"
      },
      "execution_count": 104,
      "outputs": []
    },
    {
      "cell_type": "code",
      "source": [
        "dataset = CAPTCHADataset()"
      ],
      "metadata": {
        "id": "GUOlI-Niq9Ji"
      },
      "execution_count": 105,
      "outputs": []
    },
    {
      "cell_type": "code",
      "source": [
        "device = torch.device('cuda' if torch.cuda.is_available() else 'cpu')\n",
        "num_epochs = 200\n",
        "\n",
        "num_iterations = math.ceil(len(dataset)/batch_size)\n",
        "class LSTM(nn.Module):\n",
        "  def __init__(self, input_size, hidden_size,num_layers, num_classes):\n",
        "    super().__init__()\n",
        "    self.hidden_size = hidden_size\n",
        "    self.num_layers = num_layers\n",
        "    self.lstm = nn.LSTM(input_size, hidden_size, num_layers, batch_first=True)\n",
        "    self.fc = nn.Linear(hidden_size, num_classes )\n",
        "\n",
        "  def forward(self, x):\n",
        "    h0 = torch.zeros(self.num_layers, x.size(0), self.hidden_size).to(device)\n",
        "    c0 = torch.zeros(self.num_layers, x.size(0), self.hidden_size).to(device)\n",
        "\n",
        "    out, _ = self.lstm(x,(h0,c0))\n",
        "    out = out[:, -1, :]\n",
        "\n",
        "    out = self.fc(out)\n",
        "    return out\n"
      ],
      "metadata": {
        "id": "xOqy_wR1hFiC"
      },
      "execution_count": 106,
      "outputs": []
    },
    {
      "cell_type": "markdown",
      "source": [
        "### Train test split"
      ],
      "metadata": {
        "id": "plTrAT8wxCb9"
      }
    },
    {
      "cell_type": "code",
      "source": [
        "dataset_train, dataset_validation, dataset_test = torch.utils.data.random_split(dataset, [0.8,0.1,0.1],generator=torch.Generator().manual_seed(42))"
      ],
      "metadata": {
        "id": "Da0GXR7KxBUK"
      },
      "execution_count": 107,
      "outputs": []
    },
    {
      "cell_type": "code",
      "source": [
        "data_loader_train = DataLoader(dataset=dataset_train, batch_size=batch_size, shuffle=True,num_workers=2)\n",
        "data_loader_validation = DataLoader(dataset=dataset_validation, batch_size=batch_size, shuffle=False,num_workers=2)\n",
        "data_loader_test = DataLoader(dataset=dataset_test, batch_size=batch_size, shuffle=False,num_workers=2)"
      ],
      "metadata": {
        "id": "dXUnMhOx3gth"
      },
      "execution_count": 108,
      "outputs": []
    },
    {
      "cell_type": "markdown",
      "source": [
        "adjust the learning rate for better performance with ExponentialLR"
      ],
      "metadata": {
        "id": "xaNJ88z6VAC8"
      }
    },
    {
      "cell_type": "code",
      "source": [
        "\n",
        "def train_LSTM_model(model):\n",
        "  model = model.to(device)\n",
        "  criterion = nn.CrossEntropyLoss()\n",
        "  optimizer = torch.optim.Adam(model.parameters(), lr=learning_rate)\n",
        "  scheduler = torch.optim.lr_scheduler.ExponentialLR(optimizer, gamma=0.9)\n",
        "  model_loss = []\n",
        "  for epoch in range(num_epochs):\n",
        "    for batch_idx, (data, targets) in enumerate(data_loader_train):\n",
        "    \n",
        "      data = data.to(device=device).squeeze(1)\n",
        "      targets = targets.to(device=device)\n",
        "      scores = model(data)\n",
        "      loss = criterion(scores, targets)\n",
        "  \n",
        "      if (batch_idx) % 20 == 0:\n",
        "        print(f'epoch {epoch+1}/{num_epochs}, step {batch_idx+1}/{num_iterations} loss {loss}')\n",
        "      optimizer.zero_grad()\n",
        "      loss.backward()\n",
        "      optimizer.step()\n",
        "    model_loss.append(loss.item()) \n",
        "    scheduler.step()\n",
        "  plt.title('Training loss')\n",
        "  plt.xlabel('epoch')\n",
        "  plt.ylabel('loss')\n",
        "  plt.plot(model_loss)\n",
        "  return model\n"
      ],
      "metadata": {
        "id": "Eva9d8G5OLgY"
      },
      "execution_count": 112,
      "outputs": []
    },
    {
      "cell_type": "code",
      "source": [
        "def model_accuracy(model,data_loader):\n",
        "  with torch.no_grad():\n",
        "    correct = 0\n",
        "    samples = 0\n",
        "    for data, targets in data_loader:\n",
        "      data = data.to(device=device).squeeze(1)\n",
        "      targets = targets.to(device=device)\n",
        "      samples += targets.size(0)\n",
        "      outputs = model(data)\n",
        "      _, predicted = torch.max(outputs.data,1)\n",
        "      correct += (predicted == targets).sum().item()\n",
        "  accuracy = 100 * correct/samples\n",
        "  print(f'model accuracy is {accuracy:.3f}%')"
      ],
      "metadata": {
        "id": "8Dsc1z-HPgSr"
      },
      "execution_count": 113,
      "outputs": []
    },
    {
      "cell_type": "markdown",
      "source": [
        "### Hyperparameter tunning"
      ],
      "metadata": {
        "id": "r9E8t_iuuoi5"
      }
    },
    {
      "cell_type": "code",
      "source": [
        "hidden_size = 256\n",
        "num_layers=2\n",
        "\n",
        "model_1 = LSTM(input_size, hidden_size, num_layers, num_classes)\n",
        "model_1 = train_LSTM_model(model_1)\n",
        "model_accuracy(model_1,data_loader_validation)"
      ],
      "metadata": {
        "id": "d8y7BbUp0tdW",
        "colab": {
          "base_uri": "https://localhost:8080/",
          "height": 1000
        },
        "outputId": "09dfe3ca-864a-4523-c5cb-990fcf4a2f45"
      },
      "execution_count": 114,
      "outputs": [
        {
          "output_type": "stream",
          "name": "stdout",
          "text": [
            "epoch 1/200, step 1/2 loss 3.577308177947998\n",
            "epoch 2/200, step 1/2 loss 3.539684295654297\n",
            "epoch 3/200, step 1/2 loss 3.500013828277588\n",
            "epoch 4/200, step 1/2 loss 3.4427361488342285\n",
            "epoch 5/200, step 1/2 loss 3.363452196121216\n",
            "epoch 6/200, step 1/2 loss 3.1512291431427\n",
            "epoch 7/200, step 1/2 loss 3.115847110748291\n",
            "epoch 8/200, step 1/2 loss 2.967494010925293\n",
            "epoch 9/200, step 1/2 loss 3.042778491973877\n",
            "epoch 10/200, step 1/2 loss 2.980602741241455\n",
            "epoch 11/200, step 1/2 loss 3.026465654373169\n",
            "epoch 12/200, step 1/2 loss 2.9736826419830322\n",
            "epoch 13/200, step 1/2 loss 3.0221056938171387\n",
            "epoch 14/200, step 1/2 loss 3.0327415466308594\n",
            "epoch 15/200, step 1/2 loss 3.0409131050109863\n",
            "epoch 16/200, step 1/2 loss 2.972987174987793\n",
            "epoch 17/200, step 1/2 loss 3.018983840942383\n",
            "epoch 18/200, step 1/2 loss 2.9347736835479736\n",
            "epoch 19/200, step 1/2 loss 2.9724040031433105\n",
            "epoch 20/200, step 1/2 loss 2.8850953578948975\n",
            "epoch 21/200, step 1/2 loss 2.964601755142212\n",
            "epoch 22/200, step 1/2 loss 2.9592530727386475\n",
            "epoch 23/200, step 1/2 loss 2.9414758682250977\n",
            "epoch 24/200, step 1/2 loss 2.999527931213379\n",
            "epoch 25/200, step 1/2 loss 2.9344637393951416\n",
            "epoch 26/200, step 1/2 loss 2.9265012741088867\n",
            "epoch 27/200, step 1/2 loss 2.948958158493042\n",
            "epoch 28/200, step 1/2 loss 2.866100549697876\n",
            "epoch 29/200, step 1/2 loss 3.0047051906585693\n",
            "epoch 30/200, step 1/2 loss 2.9527552127838135\n",
            "epoch 31/200, step 1/2 loss 2.940201997756958\n",
            "epoch 32/200, step 1/2 loss 2.9143905639648438\n",
            "epoch 33/200, step 1/2 loss 2.8889596462249756\n",
            "epoch 34/200, step 1/2 loss 2.945798873901367\n",
            "epoch 35/200, step 1/2 loss 3.0179715156555176\n",
            "epoch 36/200, step 1/2 loss 2.9056038856506348\n",
            "epoch 37/200, step 1/2 loss 2.973801374435425\n",
            "epoch 38/200, step 1/2 loss 2.926875352859497\n",
            "epoch 39/200, step 1/2 loss 2.9738004207611084\n",
            "epoch 40/200, step 1/2 loss 2.9600775241851807\n",
            "epoch 41/200, step 1/2 loss 2.859809398651123\n",
            "epoch 42/200, step 1/2 loss 3.077439308166504\n",
            "epoch 43/200, step 1/2 loss 2.8993945121765137\n",
            "epoch 44/200, step 1/2 loss 2.9287302494049072\n",
            "epoch 45/200, step 1/2 loss 2.978416681289673\n",
            "epoch 46/200, step 1/2 loss 2.947653293609619\n",
            "epoch 47/200, step 1/2 loss 2.9724843502044678\n",
            "epoch 48/200, step 1/2 loss 2.967512369155884\n",
            "epoch 49/200, step 1/2 loss 2.897392511367798\n",
            "epoch 50/200, step 1/2 loss 3.02535080909729\n",
            "epoch 51/200, step 1/2 loss 2.8763389587402344\n",
            "epoch 52/200, step 1/2 loss 2.9378068447113037\n",
            "epoch 53/200, step 1/2 loss 2.9227030277252197\n",
            "epoch 54/200, step 1/2 loss 2.948578119277954\n",
            "epoch 55/200, step 1/2 loss 2.9730682373046875\n",
            "epoch 56/200, step 1/2 loss 2.9701037406921387\n",
            "epoch 57/200, step 1/2 loss 2.8931217193603516\n",
            "epoch 58/200, step 1/2 loss 3.0028910636901855\n",
            "epoch 59/200, step 1/2 loss 2.9680593013763428\n",
            "epoch 60/200, step 1/2 loss 2.935930013656616\n",
            "epoch 61/200, step 1/2 loss 2.9021615982055664\n",
            "epoch 62/200, step 1/2 loss 3.0375285148620605\n",
            "epoch 63/200, step 1/2 loss 2.975924253463745\n",
            "epoch 64/200, step 1/2 loss 2.8922483921051025\n",
            "epoch 65/200, step 1/2 loss 2.7855284214019775\n",
            "epoch 66/200, step 1/2 loss 2.9453439712524414\n",
            "epoch 67/200, step 1/2 loss 3.0109286308288574\n",
            "epoch 68/200, step 1/2 loss 3.0210981369018555\n",
            "epoch 69/200, step 1/2 loss 3.0460457801818848\n",
            "epoch 70/200, step 1/2 loss 2.9431827068328857\n",
            "epoch 71/200, step 1/2 loss 2.9764082431793213\n",
            "epoch 72/200, step 1/2 loss 3.00346040725708\n",
            "epoch 73/200, step 1/2 loss 2.9829418659210205\n",
            "epoch 74/200, step 1/2 loss 3.007014274597168\n",
            "epoch 75/200, step 1/2 loss 3.013357162475586\n",
            "epoch 76/200, step 1/2 loss 3.02221417427063\n",
            "epoch 77/200, step 1/2 loss 2.959498405456543\n",
            "epoch 78/200, step 1/2 loss 2.972198724746704\n",
            "epoch 79/200, step 1/2 loss 2.9678120613098145\n",
            "epoch 80/200, step 1/2 loss 2.9592678546905518\n",
            "epoch 81/200, step 1/2 loss 2.9903833866119385\n",
            "epoch 82/200, step 1/2 loss 2.9946396350860596\n",
            "epoch 83/200, step 1/2 loss 2.9269230365753174\n",
            "epoch 84/200, step 1/2 loss 2.935816526412964\n",
            "epoch 85/200, step 1/2 loss 2.9795806407928467\n",
            "epoch 86/200, step 1/2 loss 2.8583121299743652\n",
            "epoch 87/200, step 1/2 loss 2.9330756664276123\n",
            "epoch 88/200, step 1/2 loss 2.9594202041625977\n",
            "epoch 89/200, step 1/2 loss 2.950204372406006\n",
            "epoch 90/200, step 1/2 loss 2.936147689819336\n",
            "epoch 91/200, step 1/2 loss 3.0214383602142334\n",
            "epoch 92/200, step 1/2 loss 2.8674545288085938\n",
            "epoch 93/200, step 1/2 loss 2.992142915725708\n",
            "epoch 94/200, step 1/2 loss 2.9714603424072266\n",
            "epoch 95/200, step 1/2 loss 2.8790056705474854\n",
            "epoch 96/200, step 1/2 loss 2.9669413566589355\n",
            "epoch 97/200, step 1/2 loss 2.9544973373413086\n",
            "epoch 98/200, step 1/2 loss 2.9945642948150635\n",
            "epoch 99/200, step 1/2 loss 3.0641233921051025\n",
            "epoch 100/200, step 1/2 loss 2.9618144035339355\n",
            "epoch 101/200, step 1/2 loss 2.957193613052368\n",
            "epoch 102/200, step 1/2 loss 2.9238569736480713\n",
            "epoch 103/200, step 1/2 loss 2.915907382965088\n",
            "epoch 104/200, step 1/2 loss 2.9516732692718506\n",
            "epoch 105/200, step 1/2 loss 2.9690191745758057\n",
            "epoch 106/200, step 1/2 loss 2.98919415473938\n",
            "epoch 107/200, step 1/2 loss 2.9014415740966797\n",
            "epoch 108/200, step 1/2 loss 2.992125988006592\n",
            "epoch 109/200, step 1/2 loss 2.9481489658355713\n",
            "epoch 110/200, step 1/2 loss 2.8867549896240234\n",
            "epoch 111/200, step 1/2 loss 3.0087103843688965\n",
            "epoch 112/200, step 1/2 loss 3.0216710567474365\n",
            "epoch 113/200, step 1/2 loss 2.882767915725708\n",
            "epoch 114/200, step 1/2 loss 3.0059852600097656\n",
            "epoch 115/200, step 1/2 loss 2.8754725456237793\n",
            "epoch 116/200, step 1/2 loss 3.0144097805023193\n",
            "epoch 117/200, step 1/2 loss 2.949960708618164\n",
            "epoch 118/200, step 1/2 loss 2.9337728023529053\n",
            "epoch 119/200, step 1/2 loss 3.0076346397399902\n",
            "epoch 120/200, step 1/2 loss 2.9567065238952637\n",
            "epoch 121/200, step 1/2 loss 2.954798698425293\n",
            "epoch 122/200, step 1/2 loss 2.890542984008789\n",
            "epoch 123/200, step 1/2 loss 2.904670238494873\n",
            "epoch 124/200, step 1/2 loss 2.9621357917785645\n",
            "epoch 125/200, step 1/2 loss 2.9595935344696045\n",
            "epoch 126/200, step 1/2 loss 3.0283632278442383\n",
            "epoch 127/200, step 1/2 loss 2.8356027603149414\n",
            "epoch 128/200, step 1/2 loss 2.984034538269043\n",
            "epoch 129/200, step 1/2 loss 2.971248149871826\n",
            "epoch 130/200, step 1/2 loss 2.894786834716797\n",
            "epoch 131/200, step 1/2 loss 2.9651496410369873\n",
            "epoch 132/200, step 1/2 loss 2.992063045501709\n",
            "epoch 133/200, step 1/2 loss 2.9795124530792236\n",
            "epoch 134/200, step 1/2 loss 2.9452290534973145\n",
            "epoch 135/200, step 1/2 loss 2.9671897888183594\n",
            "epoch 136/200, step 1/2 loss 2.933004140853882\n",
            "epoch 137/200, step 1/2 loss 2.857682228088379\n",
            "epoch 138/200, step 1/2 loss 2.9833860397338867\n",
            "epoch 139/200, step 1/2 loss 3.007622480392456\n",
            "epoch 140/200, step 1/2 loss 2.973921060562134\n",
            "epoch 141/200, step 1/2 loss 2.915771007537842\n",
            "epoch 142/200, step 1/2 loss 2.9220235347747803\n",
            "epoch 143/200, step 1/2 loss 2.9567668437957764\n",
            "epoch 144/200, step 1/2 loss 2.9591104984283447\n",
            "epoch 145/200, step 1/2 loss 2.9446470737457275\n",
            "epoch 146/200, step 1/2 loss 2.9310648441314697\n",
            "epoch 147/200, step 1/2 loss 2.9715588092803955\n",
            "epoch 148/200, step 1/2 loss 2.9562995433807373\n",
            "epoch 149/200, step 1/2 loss 3.0185863971710205\n",
            "epoch 150/200, step 1/2 loss 3.024956226348877\n",
            "epoch 151/200, step 1/2 loss 2.8400697708129883\n",
            "epoch 152/200, step 1/2 loss 2.9328067302703857\n",
            "epoch 153/200, step 1/2 loss 2.9437854290008545\n",
            "epoch 154/200, step 1/2 loss 2.9662671089172363\n",
            "epoch 155/200, step 1/2 loss 3.0259196758270264\n",
            "epoch 156/200, step 1/2 loss 3.0007259845733643\n",
            "epoch 157/200, step 1/2 loss 2.9361369609832764\n",
            "epoch 158/200, step 1/2 loss 2.922536849975586\n",
            "epoch 159/200, step 1/2 loss 2.8628880977630615\n",
            "epoch 160/200, step 1/2 loss 2.935336112976074\n",
            "epoch 161/200, step 1/2 loss 3.0007777214050293\n",
            "epoch 162/200, step 1/2 loss 2.9983718395233154\n",
            "epoch 163/200, step 1/2 loss 2.890695333480835\n",
            "epoch 164/200, step 1/2 loss 2.928607702255249\n",
            "epoch 165/200, step 1/2 loss 2.8388307094573975\n",
            "epoch 166/200, step 1/2 loss 2.97540545463562\n",
            "epoch 167/200, step 1/2 loss 2.9196484088897705\n",
            "epoch 168/200, step 1/2 loss 2.973672866821289\n",
            "epoch 169/200, step 1/2 loss 2.9536163806915283\n",
            "epoch 170/200, step 1/2 loss 2.970019578933716\n",
            "epoch 171/200, step 1/2 loss 2.965502977371216\n",
            "epoch 172/200, step 1/2 loss 3.027785301208496\n",
            "epoch 173/200, step 1/2 loss 2.9552197456359863\n",
            "epoch 174/200, step 1/2 loss 3.0195119380950928\n",
            "epoch 175/200, step 1/2 loss 2.867262601852417\n",
            "epoch 176/200, step 1/2 loss 2.9237523078918457\n",
            "epoch 177/200, step 1/2 loss 2.952392816543579\n",
            "epoch 178/200, step 1/2 loss 2.9680750370025635\n",
            "epoch 179/200, step 1/2 loss 2.8835511207580566\n",
            "epoch 180/200, step 1/2 loss 2.8709161281585693\n",
            "epoch 181/200, step 1/2 loss 2.9232122898101807\n",
            "epoch 182/200, step 1/2 loss 3.035647392272949\n",
            "epoch 183/200, step 1/2 loss 2.9994747638702393\n",
            "epoch 184/200, step 1/2 loss 2.908953905105591\n",
            "epoch 185/200, step 1/2 loss 2.983052968978882\n",
            "epoch 186/200, step 1/2 loss 2.9464430809020996\n",
            "epoch 187/200, step 1/2 loss 2.879647731781006\n",
            "epoch 188/200, step 1/2 loss 2.9495561122894287\n",
            "epoch 189/200, step 1/2 loss 2.871119499206543\n",
            "epoch 190/200, step 1/2 loss 2.939734935760498\n",
            "epoch 191/200, step 1/2 loss 2.9529519081115723\n",
            "epoch 192/200, step 1/2 loss 2.9162306785583496\n",
            "epoch 193/200, step 1/2 loss 2.894822597503662\n",
            "epoch 194/200, step 1/2 loss 2.972268581390381\n",
            "epoch 195/200, step 1/2 loss 2.9367713928222656\n",
            "epoch 196/200, step 1/2 loss 2.8695273399353027\n",
            "epoch 197/200, step 1/2 loss 2.951206922531128\n",
            "epoch 198/200, step 1/2 loss 2.9093689918518066\n",
            "epoch 199/200, step 1/2 loss 2.9167771339416504\n",
            "epoch 200/200, step 1/2 loss 2.947645425796509\n",
            "model accuracy is 18.182%\n"
          ]
        },
        {
          "output_type": "display_data",
          "data": {
            "text/plain": [
              "<Figure size 432x288 with 1 Axes>"
            ],
            "image/png": "[encoded data removed]"
          },
          "metadata": {
            "needs_background": "light"
          }
        }
      ]
    },
    {
      "cell_type": "code",
      "source": [
        "hidden_size = 128\n",
        "num_layers=4\n",
        "\n",
        "model_2 = LSTM(input_size, hidden_size, num_layers, num_classes)\n",
        "model_2 = train_LSTM_model(model_2)\n",
        "model_accuracy(model_2,data_loader_validation)"
      ],
      "metadata": {
        "id": "sOVmWlBF0tLy",
        "colab": {
          "base_uri": "https://localhost:8080/",
          "height": 1000
        },
        "outputId": "d4c26edd-04c4-4964-892e-64d8f957bfff"
      },
      "execution_count": 115,
      "outputs": [
        {
          "output_type": "stream",
          "name": "stdout",
          "text": [
            "epoch 1/200, step 1/2 loss 3.5849621295928955\n",
            "epoch 2/200, step 1/2 loss 3.5648155212402344\n",
            "epoch 3/200, step 1/2 loss 3.5420634746551514\n",
            "epoch 4/200, step 1/2 loss 3.5186405181884766\n",
            "epoch 5/200, step 1/2 loss 3.488999843597412\n",
            "epoch 6/200, step 1/2 loss 3.418623447418213\n",
            "epoch 7/200, step 1/2 loss 3.315079927444458\n",
            "epoch 8/200, step 1/2 loss 3.1851279735565186\n",
            "epoch 9/200, step 1/2 loss 3.1733179092407227\n",
            "epoch 10/200, step 1/2 loss 3.183204412460327\n",
            "epoch 11/200, step 1/2 loss 3.1098990440368652\n",
            "epoch 12/200, step 1/2 loss 3.090230941772461\n",
            "epoch 13/200, step 1/2 loss 3.0506832599639893\n",
            "epoch 14/200, step 1/2 loss 3.0860726833343506\n",
            "epoch 15/200, step 1/2 loss 3.0752668380737305\n",
            "epoch 16/200, step 1/2 loss 3.1211531162261963\n",
            "epoch 17/200, step 1/2 loss 3.1483545303344727\n",
            "epoch 18/200, step 1/2 loss 2.990130662918091\n",
            "epoch 19/200, step 1/2 loss 2.9836108684539795\n",
            "epoch 20/200, step 1/2 loss 3.0501723289489746\n",
            "epoch 21/200, step 1/2 loss 3.137721538543701\n",
            "epoch 22/200, step 1/2 loss 3.0866832733154297\n",
            "epoch 23/200, step 1/2 loss 3.0756969451904297\n",
            "epoch 24/200, step 1/2 loss 3.0797226428985596\n",
            "epoch 25/200, step 1/2 loss 3.05163836479187\n",
            "epoch 26/200, step 1/2 loss 3.0459702014923096\n",
            "epoch 27/200, step 1/2 loss 3.0353894233703613\n",
            "epoch 28/200, step 1/2 loss 3.036231517791748\n",
            "epoch 29/200, step 1/2 loss 2.9466967582702637\n",
            "epoch 30/200, step 1/2 loss 2.997947931289673\n",
            "epoch 31/200, step 1/2 loss 3.083894968032837\n",
            "epoch 32/200, step 1/2 loss 3.0067148208618164\n",
            "epoch 33/200, step 1/2 loss 2.926257848739624\n",
            "epoch 34/200, step 1/2 loss 3.1305935382843018\n",
            "epoch 35/200, step 1/2 loss 3.0524747371673584\n",
            "epoch 36/200, step 1/2 loss 3.023616075515747\n",
            "epoch 37/200, step 1/2 loss 3.105585813522339\n",
            "epoch 38/200, step 1/2 loss 3.032963752746582\n",
            "epoch 39/200, step 1/2 loss 3.049318790435791\n",
            "epoch 40/200, step 1/2 loss 3.02648663520813\n",
            "epoch 41/200, step 1/2 loss 3.1110191345214844\n",
            "epoch 42/200, step 1/2 loss 3.1025795936584473\n",
            "epoch 43/200, step 1/2 loss 3.123213052749634\n",
            "epoch 44/200, step 1/2 loss 3.1023473739624023\n",
            "epoch 45/200, step 1/2 loss 3.1013288497924805\n",
            "epoch 46/200, step 1/2 loss 2.9961071014404297\n",
            "epoch 47/200, step 1/2 loss 2.9731812477111816\n",
            "epoch 48/200, step 1/2 loss 3.0587077140808105\n",
            "epoch 49/200, step 1/2 loss 3.1018848419189453\n",
            "epoch 50/200, step 1/2 loss 3.0272955894470215\n",
            "epoch 51/200, step 1/2 loss 3.026437997817993\n",
            "epoch 52/200, step 1/2 loss 3.0856947898864746\n",
            "epoch 53/200, step 1/2 loss 2.988671064376831\n",
            "epoch 54/200, step 1/2 loss 3.048544406890869\n",
            "epoch 55/200, step 1/2 loss 3.095151901245117\n",
            "epoch 56/200, step 1/2 loss 3.073240041732788\n",
            "epoch 57/200, step 1/2 loss 3.047545909881592\n",
            "epoch 58/200, step 1/2 loss 3.09490966796875\n",
            "epoch 59/200, step 1/2 loss 3.086463689804077\n",
            "epoch 60/200, step 1/2 loss 3.0353996753692627\n",
            "epoch 61/200, step 1/2 loss 3.0745394229888916\n",
            "epoch 62/200, step 1/2 loss 2.9922661781311035\n",
            "epoch 63/200, step 1/2 loss 3.055680751800537\n",
            "epoch 64/200, step 1/2 loss 3.009511947631836\n",
            "epoch 65/200, step 1/2 loss 3.10471510887146\n",
            "epoch 66/200, step 1/2 loss 3.070394992828369\n",
            "epoch 67/200, step 1/2 loss 3.064223527908325\n",
            "epoch 68/200, step 1/2 loss 3.085033655166626\n",
            "epoch 69/200, step 1/2 loss 3.026487350463867\n",
            "epoch 70/200, step 1/2 loss 3.051292657852173\n",
            "epoch 71/200, step 1/2 loss 3.055593252182007\n",
            "epoch 72/200, step 1/2 loss 3.0539703369140625\n",
            "epoch 73/200, step 1/2 loss 3.059962511062622\n",
            "epoch 74/200, step 1/2 loss 3.0900990962982178\n",
            "epoch 75/200, step 1/2 loss 3.077986717224121\n",
            "epoch 76/200, step 1/2 loss 3.0288538932800293\n",
            "epoch 77/200, step 1/2 loss 3.038188934326172\n",
            "epoch 78/200, step 1/2 loss 3.0840487480163574\n",
            "epoch 79/200, step 1/2 loss 3.0358223915100098\n",
            "epoch 80/200, step 1/2 loss 2.977719783782959\n",
            "epoch 81/200, step 1/2 loss 3.073350667953491\n",
            "epoch 82/200, step 1/2 loss 3.007197141647339\n",
            "epoch 83/200, step 1/2 loss 3.061326503753662\n",
            "epoch 84/200, step 1/2 loss 3.0930094718933105\n",
            "epoch 85/200, step 1/2 loss 3.0875401496887207\n",
            "epoch 86/200, step 1/2 loss 3.0914385318756104\n",
            "epoch 87/200, step 1/2 loss 2.931774139404297\n",
            "epoch 88/200, step 1/2 loss 2.998690605163574\n",
            "epoch 89/200, step 1/2 loss 3.0847625732421875\n",
            "epoch 90/200, step 1/2 loss 3.0004544258117676\n",
            "epoch 91/200, step 1/2 loss 3.0733866691589355\n",
            "epoch 92/200, step 1/2 loss 3.0425517559051514\n",
            "epoch 93/200, step 1/2 loss 3.0680689811706543\n",
            "epoch 94/200, step 1/2 loss 2.9687907695770264\n",
            "epoch 95/200, step 1/2 loss 3.0472726821899414\n",
            "epoch 96/200, step 1/2 loss 3.104743242263794\n",
            "epoch 97/200, step 1/2 loss 3.046647071838379\n",
            "epoch 98/200, step 1/2 loss 3.1302616596221924\n",
            "epoch 99/200, step 1/2 loss 3.027771472930908\n",
            "epoch 100/200, step 1/2 loss 3.0497260093688965\n",
            "epoch 101/200, step 1/2 loss 3.0413057804107666\n",
            "epoch 102/200, step 1/2 loss 3.059138774871826\n",
            "epoch 103/200, step 1/2 loss 3.0409557819366455\n",
            "epoch 104/200, step 1/2 loss 3.0323448181152344\n",
            "epoch 105/200, step 1/2 loss 3.098407030105591\n",
            "epoch 106/200, step 1/2 loss 3.1207075119018555\n",
            "epoch 107/200, step 1/2 loss 3.115522861480713\n",
            "epoch 108/200, step 1/2 loss 3.0518887042999268\n",
            "epoch 109/200, step 1/2 loss 3.057443857192993\n",
            "epoch 110/200, step 1/2 loss 2.9655723571777344\n",
            "epoch 111/200, step 1/2 loss 3.0392024517059326\n",
            "epoch 112/200, step 1/2 loss 3.0270369052886963\n",
            "epoch 113/200, step 1/2 loss 2.963876247406006\n",
            "epoch 114/200, step 1/2 loss 3.0312230587005615\n",
            "epoch 115/200, step 1/2 loss 3.033524513244629\n",
            "epoch 116/200, step 1/2 loss 3.0774993896484375\n",
            "epoch 117/200, step 1/2 loss 3.084392547607422\n",
            "epoch 118/200, step 1/2 loss 2.909943103790283\n",
            "epoch 119/200, step 1/2 loss 2.9557833671569824\n",
            "epoch 120/200, step 1/2 loss 3.018389940261841\n",
            "epoch 121/200, step 1/2 loss 3.061720609664917\n",
            "epoch 122/200, step 1/2 loss 2.9550108909606934\n",
            "epoch 123/200, step 1/2 loss 3.025729179382324\n",
            "epoch 124/200, step 1/2 loss 3.0533909797668457\n",
            "epoch 125/200, step 1/2 loss 3.035949945449829\n",
            "epoch 126/200, step 1/2 loss 3.121891975402832\n",
            "epoch 127/200, step 1/2 loss 3.0720863342285156\n",
            "epoch 128/200, step 1/2 loss 2.98207426071167\n",
            "epoch 129/200, step 1/2 loss 3.0175907611846924\n",
            "epoch 130/200, step 1/2 loss 3.0479164123535156\n",
            "epoch 131/200, step 1/2 loss 3.039651870727539\n",
            "epoch 132/200, step 1/2 loss 3.07503604888916\n",
            "epoch 133/200, step 1/2 loss 3.0598466396331787\n",
            "epoch 134/200, step 1/2 loss 2.988410234451294\n",
            "epoch 135/200, step 1/2 loss 2.999840497970581\n",
            "epoch 136/200, step 1/2 loss 2.989365577697754\n",
            "epoch 137/200, step 1/2 loss 3.0569233894348145\n",
            "epoch 138/200, step 1/2 loss 3.098092555999756\n",
            "epoch 139/200, step 1/2 loss 2.97611927986145\n",
            "epoch 140/200, step 1/2 loss 3.0282702445983887\n",
            "epoch 141/200, step 1/2 loss 3.025198459625244\n",
            "epoch 142/200, step 1/2 loss 3.0496842861175537\n",
            "epoch 143/200, step 1/2 loss 3.005070209503174\n",
            "epoch 144/200, step 1/2 loss 3.1131155490875244\n",
            "epoch 145/200, step 1/2 loss 3.056891441345215\n",
            "epoch 146/200, step 1/2 loss 3.0415170192718506\n",
            "epoch 147/200, step 1/2 loss 2.9831395149230957\n",
            "epoch 148/200, step 1/2 loss 3.009007215499878\n",
            "epoch 149/200, step 1/2 loss 3.1192474365234375\n",
            "epoch 150/200, step 1/2 loss 2.983334541320801\n",
            "epoch 151/200, step 1/2 loss 3.0545756816864014\n",
            "epoch 152/200, step 1/2 loss 3.001272678375244\n",
            "epoch 153/200, step 1/2 loss 3.08134388923645\n",
            "epoch 154/200, step 1/2 loss 3.050203800201416\n",
            "epoch 155/200, step 1/2 loss 3.0323779582977295\n",
            "epoch 156/200, step 1/2 loss 3.020704984664917\n",
            "epoch 157/200, step 1/2 loss 2.961437702178955\n",
            "epoch 158/200, step 1/2 loss 3.024582624435425\n",
            "epoch 159/200, step 1/2 loss 3.039262056350708\n",
            "epoch 160/200, step 1/2 loss 3.0142390727996826\n",
            "epoch 161/200, step 1/2 loss 3.0956878662109375\n",
            "epoch 162/200, step 1/2 loss 3.0919289588928223\n",
            "epoch 163/200, step 1/2 loss 3.070477247238159\n",
            "epoch 164/200, step 1/2 loss 2.9938697814941406\n",
            "epoch 165/200, step 1/2 loss 3.0553979873657227\n",
            "epoch 166/200, step 1/2 loss 3.035102367401123\n",
            "epoch 167/200, step 1/2 loss 3.0046451091766357\n",
            "epoch 168/200, step 1/2 loss 3.003690004348755\n",
            "epoch 169/200, step 1/2 loss 3.0132205486297607\n",
            "epoch 170/200, step 1/2 loss 2.9710021018981934\n",
            "epoch 171/200, step 1/2 loss 3.0219955444335938\n",
            "epoch 172/200, step 1/2 loss 3.0613977909088135\n",
            "epoch 173/200, step 1/2 loss 3.0774242877960205\n",
            "epoch 174/200, step 1/2 loss 3.024168014526367\n",
            "epoch 175/200, step 1/2 loss 3.099170684814453\n",
            "epoch 176/200, step 1/2 loss 3.02982759475708\n",
            "epoch 177/200, step 1/2 loss 3.0758283138275146\n",
            "epoch 178/200, step 1/2 loss 3.0040488243103027\n",
            "epoch 179/200, step 1/2 loss 3.047758102416992\n",
            "epoch 180/200, step 1/2 loss 3.046645402908325\n",
            "epoch 181/200, step 1/2 loss 3.021362781524658\n",
            "epoch 182/200, step 1/2 loss 3.0290310382843018\n",
            "epoch 183/200, step 1/2 loss 3.00789213180542\n",
            "epoch 184/200, step 1/2 loss 3.080108642578125\n",
            "epoch 185/200, step 1/2 loss 3.0468268394470215\n",
            "epoch 186/200, step 1/2 loss 3.0380806922912598\n",
            "epoch 187/200, step 1/2 loss 3.1414108276367188\n",
            "epoch 188/200, step 1/2 loss 3.027634382247925\n",
            "epoch 189/200, step 1/2 loss 3.025156259536743\n",
            "epoch 190/200, step 1/2 loss 3.007591724395752\n",
            "epoch 191/200, step 1/2 loss 3.104483127593994\n",
            "epoch 192/200, step 1/2 loss 3.069990396499634\n",
            "epoch 193/200, step 1/2 loss 3.074129581451416\n",
            "epoch 194/200, step 1/2 loss 3.0975279808044434\n",
            "epoch 195/200, step 1/2 loss 3.0604958534240723\n",
            "epoch 196/200, step 1/2 loss 3.099984645843506\n",
            "epoch 197/200, step 1/2 loss 3.068481922149658\n",
            "epoch 198/200, step 1/2 loss 3.0132153034210205\n",
            "epoch 199/200, step 1/2 loss 3.07731294631958\n",
            "epoch 200/200, step 1/2 loss 3.0997612476348877\n",
            "model accuracy is 18.182%\n"
          ]
        },
        {
          "output_type": "display_data",
          "data": {
            "text/plain": [
              "<Figure size 432x288 with 1 Axes>"
            ],
            "image/png": "[encoded data removed]"
          },
          "metadata": {
            "needs_background": "light"
          }
        }
      ]
    },
    {
      "cell_type": "markdown",
      "source": [
        "### Testing"
      ],
      "metadata": {
        "id": "c3BtSG3A9XQk"
      }
    },
    {
      "cell_type": "code",
      "source": [
        "# model_2 has higher accuracy than model_1,so I choose model_2\n",
        "model_accuracy(model_2,data_loader_test)"
      ],
      "metadata": {
        "id": "9gAgtzk40tI_",
        "colab": {
          "base_uri": "https://localhost:8080/"
        },
        "outputId": "ed5008ee-602d-4d3d-a49d-05f76b6986bf"
      },
      "execution_count": 116,
      "outputs": [
        {
          "output_type": "stream",
          "name": "stdout",
          "text": [
            "model accuracy is 18.182%\n"
          ]
        }
      ]
    },
    {
      "cell_type": "markdown",
      "source": [],
      "metadata": {
        "id": "b8vGopzcN_yT"
      }
    },
    {
      "cell_type": "code",
      "source": [],
      "metadata": {
        "id": "NrMB-3T10tBN"
      },
      "execution_count": null,
      "outputs": []
    },
    {
      "cell_type": "code",
      "source": [],
      "metadata": {
        "id": "5OSomlml0s-G"
      },
      "execution_count": null,
      "outputs": []
    }
  ]
}