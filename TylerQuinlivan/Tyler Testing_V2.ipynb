{
 "cells": [
  {
   "cell_type": "markdown",
   "id": "fb87214b",
   "metadata": {},
   "source": [
    "## BREAKING IMAGE CAPTCHA CNN MODEL WITH CIFAR-10 Dataset"
   ]
  },
  {
   "cell_type": "code",
   "execution_count": 34,
   "id": "257b9199",
   "metadata": {
    "scrolled": true
   },
   "outputs": [],
   "source": [
    "### Import various libraries ###\n",
    "import tensorflow as tf \n",
    "import numpy as np\n",
    "import graphviz\n",
    "import pandas as pd\n",
    "import matplotlib.pyplot as plt\n",
    "import pydot\n",
    "import seaborn as sns\n",
    "import timeit\n",
    "\n",
    "from tensorflow import keras\n",
    "from tensorflow.keras import datasets, layers, models\n",
    "from tensorflow.keras.callbacks import ModelCheckpoint\n",
    "from keras.utils.vis_utils import plot_model\n",
    "from tensorflow.keras.layers import BatchNormalization\n",
    "from keras.utils import np_utils\n",
    "\n",
    "%matplotlib inline"
   ]
  },
  {
   "cell_type": "code",
   "execution_count": 2,
   "id": "69e2af28",
   "metadata": {
    "scrolled": true
   },
   "outputs": [
    {
     "data": {
      "text/plain": [
       "[]"
      ]
     },
     "execution_count": 2,
     "metadata": {},
     "output_type": "execute_result"
    }
   ],
   "source": [
    "# Is a CUDA GPU set up correctly?\n",
    "tf.config.list_physical_devices('GPU')"
   ]
  },
  {
   "cell_type": "code",
   "execution_count": 3,
   "id": "fbb5511d",
   "metadata": {
    "scrolled": true
   },
   "outputs": [],
   "source": [
    "### Import CIFAR-10 Data ###\n",
    "(X_train, Y_train), (X_test, Y_test) = datasets.cifar10.load_data()"
   ]
  },
  {
   "cell_type": "code",
   "execution_count": 4,
   "id": "020d120e",
   "metadata": {
    "scrolled": true
   },
   "outputs": [
    {
     "name": "stdout",
     "output_type": "stream",
     "text": [
      "(50000, 32, 32, 3)\n",
      "(10000, 32, 32, 3)\n"
     ]
    }
   ],
   "source": [
    "### Shape of the Training data ###\n",
    "print(X_train.shape)\n",
    "print(X_test.shape)"
   ]
  },
  {
   "cell_type": "code",
   "execution_count": 5,
   "id": "dbb14a1d",
   "metadata": {
    "scrolled": true
   },
   "outputs": [
    {
     "name": "stdout",
     "output_type": "stream",
     "text": [
      "(50000, 1)\n",
      "(10000, 1)\n"
     ]
    }
   ],
   "source": [
    "### Shape of the Test data ###\n",
    "print(Y_train.shape)\n",
    "print(Y_test.shape)"
   ]
  },
  {
   "cell_type": "code",
   "execution_count": 6,
   "id": "f3cb37a3",
   "metadata": {
    "scrolled": true
   },
   "outputs": [
    {
     "data": {
      "text/plain": [
       "array([[6],\n",
       "       [9],\n",
       "       [9],\n",
       "       [4],\n",
       "       [1],\n",
       "       [1],\n",
       "       [2],\n",
       "       [7],\n",
       "       [8],\n",
       "       [3]], dtype=uint8)"
      ]
     },
     "execution_count": 6,
     "metadata": {},
     "output_type": "execute_result"
    }
   ],
   "source": [
    "### Dimensionality of Y_train ###\n",
    "Y_train[:10]"
   ]
  },
  {
   "cell_type": "code",
   "execution_count": 7,
   "id": "a1c7de90",
   "metadata": {
    "scrolled": true
   },
   "outputs": [
    {
     "data": {
      "text/plain": [
       "array([6, 9, 9, 4, 1, 1, 2, 7, 8, 3], dtype=uint8)"
      ]
     },
     "execution_count": 7,
     "metadata": {},
     "output_type": "execute_result"
    }
   ],
   "source": [
    "### Convert Y_train from a 2 dimensional to 1 dimensional array ###\n",
    "Y_train = Y_train.reshape(-1,)\n",
    "Y_train[:10]"
   ]
  },
  {
   "cell_type": "code",
   "execution_count": 8,
   "id": "fdaed65e",
   "metadata": {
    "scrolled": true
   },
   "outputs": [],
   "source": [
    "### Plot sample image ###\n",
    "# plt.imshow(X_train[35])"
   ]
  },
  {
   "cell_type": "code",
   "execution_count": 9,
   "id": "f6764287",
   "metadata": {
    "scrolled": true
   },
   "outputs": [],
   "source": [
    "### Assign the classes with their actual names and not numbered labels ###\n",
    "classes = [\"airplane\",\"automobile\",\"bird\",\"cat\",\"deer\",\"dog\",\"frog\",\"horse\",\"ship\",\"truck\"]"
   ]
  },
  {
   "cell_type": "code",
   "execution_count": 10,
   "id": "42be500d",
   "metadata": {
    "scrolled": true
   },
   "outputs": [
    {
     "data": {
      "image/png": "[encoded data removed]",
      "text/plain": [
       "<Figure size 1080x144 with 1 Axes>"
      ]
     },
     "metadata": {
      "needs_background": "light"
     },
     "output_type": "display_data"
    }
   ],
   "source": [
    "### Plot sample image again with the proper class label ###\n",
    "def plot_sample(X, y, index):\n",
    "    plt.figure(figsize = (15,2))\n",
    "    plt.imshow(X[index])\n",
    "    plt.xlabel(classes[y[index]])\n",
    "    \n",
    "plot_sample(X_train,Y_train,35)"
   ]
  },
  {
   "cell_type": "code",
   "execution_count": 11,
   "id": "5dd79b57",
   "metadata": {
    "scrolled": true
   },
   "outputs": [],
   "source": [
    "### Normalize data by dividing both X train test by 255 ###\n",
    "X_train = X_train / 255.0\n",
    "X_test = X_test / 255.0"
   ]
  },
  {
   "cell_type": "markdown",
   "id": "d78f023e",
   "metadata": {},
   "source": [
    "## Tyler Model 1 - Adam Amsgrad, no layer dropout"
   ]
  },
  {
   "cell_type": "code",
   "execution_count": 103,
   "id": "0f47eb49",
   "metadata": {
    "scrolled": true
   },
   "outputs": [],
   "source": [
    "### Build a convolutional neural network to compare its performance ###\n",
    "\n",
    "# 79% accuracy @ 40 epochs\n",
    "cnetwork_adamamsgrad = models.Sequential([\n",
    "    layers.Conv2D(16, (3, 3), activation='relu', padding='same', input_shape=(32, 32, 3)),\n",
    "    layers.MaxPooling2D((2, 2)),\n",
    "    layers.BatchNormalization(),\n",
    "    \n",
    "    layers.Conv2D(32, (3, 3), activation='relu', padding='same'),\n",
    "    layers.MaxPooling2D((2, 2)),\n",
    "    layers.BatchNormalization(),\n",
    "    \n",
    "    layers.Conv2D(64, (3, 3), activation='relu', padding='same'),\n",
    "    layers.MaxPooling2D((2, 2)),\n",
    "    layers.BatchNormalization(),\n",
    "    \n",
    "    layers.Conv2D(128, (3, 3), activation='relu', padding='same'),\n",
    "    layers.MaxPooling2D((2, 2)),\n",
    "    layers.BatchNormalization(),\n",
    "    \n",
    "    layers.Flatten(),\n",
    "    layers.Dense(64, activation='relu'),\n",
    "    layers.Dropout(0.2),\n",
    "    layers.Dense(10, activation='softmax')\n",
    "])"
   ]
  },
  {
   "cell_type": "code",
   "execution_count": 104,
   "id": "caaa8db3",
   "metadata": {},
   "outputs": [
    {
     "name": "stdout",
     "output_type": "stream",
     "text": [
      "Epoch 1/50\n",
      "391/391 [==============================] - 4s 9ms/step - loss: 1.4560 - accuracy: 0.4766 - val_loss: 1.9660 - val_accuracy: 0.3709\n",
      "Epoch 2/50\n",
      "391/391 [==============================] - 3s 7ms/step - loss: 1.0682 - accuracy: 0.6193 - val_loss: 1.0378 - val_accuracy: 0.6395\n",
      "Epoch 3/50\n",
      "391/391 [==============================] - 3s 7ms/step - loss: 0.9042 - accuracy: 0.6806 - val_loss: 0.9942 - val_accuracy: 0.6494\n",
      "Epoch 4/50\n",
      "391/391 [==============================] - 3s 7ms/step - loss: 0.7853 - accuracy: 0.7224 - val_loss: 0.9516 - val_accuracy: 0.6775\n",
      "Epoch 5/50\n",
      "391/391 [==============================] - 3s 7ms/step - loss: 0.6961 - accuracy: 0.7553 - val_loss: 0.9533 - val_accuracy: 0.6801\n",
      "Epoch 6/50\n",
      "391/391 [==============================] - 3s 7ms/step - loss: 0.6223 - accuracy: 0.7816 - val_loss: 0.8629 - val_accuracy: 0.7045\n",
      "Epoch 7/50\n",
      "391/391 [==============================] - 3s 7ms/step - loss: 0.5565 - accuracy: 0.8015 - val_loss: 0.9587 - val_accuracy: 0.6886\n",
      "Epoch 8/50\n",
      "391/391 [==============================] - 3s 7ms/step - loss: 0.5045 - accuracy: 0.8204 - val_loss: 0.8777 - val_accuracy: 0.7075\n",
      "Epoch 9/50\n",
      "391/391 [==============================] - 3s 8ms/step - loss: 0.4527 - accuracy: 0.8371 - val_loss: 1.0393 - val_accuracy: 0.6827\n",
      "Epoch 10/50\n",
      "391/391 [==============================] - 3s 7ms/step - loss: 0.4103 - accuracy: 0.8533 - val_loss: 0.9992 - val_accuracy: 0.6983\n",
      "Epoch 11/50\n",
      "391/391 [==============================] - 3s 7ms/step - loss: 0.3678 - accuracy: 0.8685 - val_loss: 1.0986 - val_accuracy: 0.6823\n",
      "Epoch 12/50\n",
      "391/391 [==============================] - 3s 7ms/step - loss: 0.3414 - accuracy: 0.8767 - val_loss: 1.0452 - val_accuracy: 0.7092\n",
      "Epoch 13/50\n",
      "391/391 [==============================] - 3s 8ms/step - loss: 0.3062 - accuracy: 0.8901 - val_loss: 1.0415 - val_accuracy: 0.7132\n",
      "Epoch 14/50\n",
      "391/391 [==============================] - 3s 8ms/step - loss: 0.2773 - accuracy: 0.9005 - val_loss: 1.1551 - val_accuracy: 0.7038\n",
      "Epoch 15/50\n",
      "391/391 [==============================] - 3s 8ms/step - loss: 0.2582 - accuracy: 0.9051 - val_loss: 1.1520 - val_accuracy: 0.6991\n",
      "Epoch 16/50\n",
      "391/391 [==============================] - 3s 7ms/step - loss: 0.2370 - accuracy: 0.9148 - val_loss: 1.1484 - val_accuracy: 0.7080\n",
      "Epoch 17/50\n",
      "391/391 [==============================] - 3s 7ms/step - loss: 0.2161 - accuracy: 0.9213 - val_loss: 1.3269 - val_accuracy: 0.6914\n",
      "Epoch 18/50\n",
      "391/391 [==============================] - 3s 8ms/step - loss: 0.2044 - accuracy: 0.9265 - val_loss: 1.3181 - val_accuracy: 0.6912\n",
      "Epoch 19/50\n",
      "391/391 [==============================] - 3s 8ms/step - loss: 0.1919 - accuracy: 0.9303 - val_loss: 1.7214 - val_accuracy: 0.6533\n",
      "Epoch 20/50\n",
      "391/391 [==============================] - 3s 8ms/step - loss: 0.1844 - accuracy: 0.9338 - val_loss: 1.5289 - val_accuracy: 0.6713\n",
      "Epoch 21/50\n",
      "391/391 [==============================] - 3s 8ms/step - loss: 0.1609 - accuracy: 0.9424 - val_loss: 1.3469 - val_accuracy: 0.7062\n",
      "Epoch 22/50\n",
      "391/391 [==============================] - 3s 8ms/step - loss: 0.1475 - accuracy: 0.9470 - val_loss: 1.4833 - val_accuracy: 0.6962\n",
      "Epoch 23/50\n",
      "391/391 [==============================] - 3s 8ms/step - loss: 0.1438 - accuracy: 0.9481 - val_loss: 1.5532 - val_accuracy: 0.6951\n",
      "Epoch 24/50\n",
      "391/391 [==============================] - 3s 8ms/step - loss: 0.1320 - accuracy: 0.9531 - val_loss: 1.3740 - val_accuracy: 0.7179\n",
      "Epoch 25/50\n",
      "391/391 [==============================] - 3s 8ms/step - loss: 0.1287 - accuracy: 0.9543 - val_loss: 1.5771 - val_accuracy: 0.6945\n",
      "Epoch 26/50\n",
      "391/391 [==============================] - 3s 8ms/step - loss: 0.1302 - accuracy: 0.9537 - val_loss: 1.4335 - val_accuracy: 0.7206\n",
      "Epoch 27/50\n",
      "391/391 [==============================] - 3s 8ms/step - loss: 0.1265 - accuracy: 0.9551 - val_loss: 1.4092 - val_accuracy: 0.7229\n",
      "Epoch 28/50\n",
      "391/391 [==============================] - 3s 8ms/step - loss: 0.1103 - accuracy: 0.9599 - val_loss: 1.5469 - val_accuracy: 0.7195\n",
      "Epoch 29/50\n",
      "391/391 [==============================] - 3s 8ms/step - loss: 0.1080 - accuracy: 0.9614 - val_loss: 1.5899 - val_accuracy: 0.7115\n",
      "Epoch 30/50\n",
      "391/391 [==============================] - 3s 8ms/step - loss: 0.1018 - accuracy: 0.9632 - val_loss: 1.5307 - val_accuracy: 0.7186\n",
      "Epoch 31/50\n",
      "391/391 [==============================] - 3s 8ms/step - loss: 0.0951 - accuracy: 0.9667 - val_loss: 1.6946 - val_accuracy: 0.7037\n",
      "Epoch 32/50\n",
      "391/391 [==============================] - 3s 8ms/step - loss: 0.0897 - accuracy: 0.9687 - val_loss: 1.8189 - val_accuracy: 0.6988\n",
      "Epoch 33/50\n",
      "391/391 [==============================] - 3s 8ms/step - loss: 0.0891 - accuracy: 0.9680 - val_loss: 1.5956 - val_accuracy: 0.7181\n",
      "Epoch 34/50\n",
      "391/391 [==============================] - 3s 8ms/step - loss: 0.0854 - accuracy: 0.9696 - val_loss: 1.6701 - val_accuracy: 0.7127\n",
      "Epoch 35/50\n",
      "391/391 [==============================] - 3s 8ms/step - loss: 0.0785 - accuracy: 0.9724 - val_loss: 1.7524 - val_accuracy: 0.7057\n",
      "Epoch 36/50\n",
      "391/391 [==============================] - 3s 8ms/step - loss: 0.0800 - accuracy: 0.9717 - val_loss: 1.6309 - val_accuracy: 0.7141\n",
      "Epoch 37/50\n",
      "391/391 [==============================] - 3s 7ms/step - loss: 0.0736 - accuracy: 0.9744 - val_loss: 1.6737 - val_accuracy: 0.7182\n",
      "Epoch 38/50\n",
      "391/391 [==============================] - 3s 8ms/step - loss: 0.0708 - accuracy: 0.9750 - val_loss: 1.7325 - val_accuracy: 0.7151\n",
      "Epoch 39/50\n",
      "391/391 [==============================] - 3s 8ms/step - loss: 0.0748 - accuracy: 0.9736 - val_loss: 1.7949 - val_accuracy: 0.7036\n",
      "Epoch 40/50\n",
      "391/391 [==============================] - 3s 8ms/step - loss: 0.0690 - accuracy: 0.9763 - val_loss: 1.7994 - val_accuracy: 0.7119\n",
      "Epoch 41/50\n",
      "391/391 [==============================] - 3s 8ms/step - loss: 0.0628 - accuracy: 0.9777 - val_loss: 1.7891 - val_accuracy: 0.7235\n",
      "Epoch 42/50\n",
      "391/391 [==============================] - 3s 7ms/step - loss: 0.0650 - accuracy: 0.9772 - val_loss: 2.0669 - val_accuracy: 0.6973\n",
      "Epoch 43/50\n",
      "391/391 [==============================] - 3s 8ms/step - loss: 0.0614 - accuracy: 0.9787 - val_loss: 1.8582 - val_accuracy: 0.7178\n",
      "Epoch 44/50\n",
      "391/391 [==============================] - 3s 8ms/step - loss: 0.0614 - accuracy: 0.9787 - val_loss: 1.8438 - val_accuracy: 0.7147\n",
      "Epoch 45/50\n",
      "391/391 [==============================] - 3s 8ms/step - loss: 0.0656 - accuracy: 0.9765 - val_loss: 1.8414 - val_accuracy: 0.7189\n",
      "Epoch 46/50\n",
      "391/391 [==============================] - 3s 8ms/step - loss: 0.0606 - accuracy: 0.9783 - val_loss: 1.8730 - val_accuracy: 0.7146\n",
      "Epoch 47/50\n",
      "391/391 [==============================] - 3s 8ms/step - loss: 0.0591 - accuracy: 0.9793 - val_loss: 2.2367 - val_accuracy: 0.6822\n",
      "Epoch 48/50\n",
      "391/391 [==============================] - 3s 8ms/step - loss: 0.0554 - accuracy: 0.9808 - val_loss: 2.1610 - val_accuracy: 0.6988\n",
      "Epoch 49/50\n",
      "391/391 [==============================] - 3s 8ms/step - loss: 0.0503 - accuracy: 0.9820 - val_loss: 1.9447 - val_accuracy: 0.7178\n",
      "Epoch 50/50\n",
      "391/391 [==============================] - 3s 8ms/step - loss: 0.0503 - accuracy: 0.9822 - val_loss: 1.9916 - val_accuracy: 0.7188\n"
     ]
    }
   ],
   "source": [
    "### Compile and Fit the model ###\n",
    "from tensorflow.keras.optimizers import Adam\n",
    "\n",
    "cnetwork_adamamsgrad.compile(optimizer=Adam(amsgrad=True), \n",
    "              loss='sparse_categorical_crossentropy',\n",
    "              metrics=['accuracy'])\n",
    "\n",
    "### Fitting the model with batch size of 128 and 20 training epochs ###\n",
    "history_adamamsgrad = cnetwork_adamamsgrad.fit(X_train, \n",
    "                    Y_train, \n",
    "                    epochs=50,\n",
    "                    batch_size=128,\n",
    "                    verbose=1,\n",
    "                    validation_data=(X_test,Y_test))"
   ]
  },
  {
   "cell_type": "code",
   "execution_count": 105,
   "id": "663d5b2d",
   "metadata": {
    "scrolled": true
   },
   "outputs": [
    {
     "name": "stdout",
     "output_type": "stream",
     "text": [
      "313/313 [==============================] - 1s 3ms/step - loss: 1.9916 - accuracy: 0.7188\n"
     ]
    },
    {
     "data": {
      "text/plain": [
       "[1.9916419982910156, 0.7188000082969666]"
      ]
     },
     "execution_count": 105,
     "metadata": {},
     "output_type": "execute_result"
    }
   ],
   "source": [
    "cnetwork_adamamsgrad.evaluate(X_test,Y_test)"
   ]
  },
  {
   "cell_type": "code",
   "execution_count": 106,
   "id": "5f5ad9c5",
   "metadata": {
    "scrolled": true
   },
   "outputs": [
    {
     "data": {
      "image/png": "[encoded data removed]",
      "text/plain": [
       "<Figure size 432x288 with 1 Axes>"
      ]
     },
     "metadata": {
      "needs_background": "light"
     },
     "output_type": "display_data"
    }
   ],
   "source": [
    "### Plot the comparison between training and test accuracy ###\n",
    "plt.plot(range(1,1+len(history_adamamsgrad.history['accuracy'])), history_adamamsgrad.history['accuracy'])\n",
    "plt.plot(range(1,1+len(history_adamamsgrad.history['val_accuracy'])), history_adamamsgrad.history['val_accuracy'])\n",
    "plt.title('Model Accuracy vs Number of Epochs')\n",
    "plt.ylabel('Accuracy')\n",
    "plt.xlabel('Epoch Number')\n",
    "plt.legend(['train', 'test'], loc='best')\n",
    "plt.xticks(np.arange(0,50,1))\n",
    "plt.show()"
   ]
  },
  {
   "cell_type": "markdown",
   "id": "6071ad69",
   "metadata": {},
   "source": [
    "## Model 2: blah"
   ]
  },
  {
   "cell_type": "markdown",
   "id": "d37ef5c8",
   "metadata": {},
   "source": [
    "## Model 3: Incrementing filter size in each layer w/ dropout"
   ]
  },
  {
   "cell_type": "code",
   "execution_count": 127,
   "id": "4c68c3bd",
   "metadata": {
    "scrolled": true
   },
   "outputs": [],
   "source": [
    "# ~80% @ 40 epochs\n",
    "model_3 = tf.keras.Sequential([\n",
    "    layers.Conv2D(32, (3, 3), activation='relu', padding='same', input_shape=(32, 32, 3)),\n",
    "    layers.MaxPooling2D(pool_size=(2,2)),\n",
    "    layers.Dropout(0.1),\n",
    "    layers.BatchNormalization(),\n",
    "    \n",
    "    layers.Conv2D(64, 3, activation='relu', padding='same'),\n",
    "    layers.MaxPooling2D(2),\n",
    "    layers.Dropout(0.12),\n",
    "    layers.BatchNormalization(),\n",
    "    \n",
    "    layers.Conv2D(128, 3, activation='relu', padding='same'),\n",
    "    layers.MaxPooling2D(2),\n",
    "    layers.Dropout(0.1),\n",
    "    layers.BatchNormalization(),\n",
    "    \n",
    "    layers.Flatten(),\n",
    "    \n",
    "    layers.Dense(128, activation='relu'),\n",
    "    layers.Dropout(0.2),\n",
    "    layers.BatchNormalization(),\n",
    "    \n",
    "    layers.Dense(64, activation='relu'),\n",
    "    layers.Dropout(0.2),\n",
    "    layers.BatchNormalization(),\n",
    "    \n",
    "    layers.Dense(len(classes), activation='softmax'),\n",
    "])"
   ]
  },
  {
   "cell_type": "code",
   "execution_count": 128,
   "id": "eb41d91d",
   "metadata": {
    "scrolled": true
   },
   "outputs": [
    {
     "name": "stdout",
     "output_type": "stream",
     "text": [
      "Epoch 1/30\n",
      "391/391 [==============================] - 6s 13ms/step - loss: 1.5560 - accuracy: 0.4467 - val_loss: 5.7158 - val_accuracy: 0.1008\n",
      "Epoch 2/30\n",
      "391/391 [==============================] - 5s 12ms/step - loss: 1.1166 - accuracy: 0.6032 - val_loss: 1.1459 - val_accuracy: 0.5984\n",
      "Epoch 3/30\n",
      "391/391 [==============================] - 5s 12ms/step - loss: 0.9573 - accuracy: 0.6665 - val_loss: 0.9340 - val_accuracy: 0.6743\n",
      "Epoch 4/30\n",
      "391/391 [==============================] - 5s 12ms/step - loss: 0.8434 - accuracy: 0.7059 - val_loss: 0.9081 - val_accuracy: 0.6797\n",
      "Epoch 5/30\n",
      "391/391 [==============================] - 5s 11ms/step - loss: 0.7697 - accuracy: 0.7316 - val_loss: 0.9988 - val_accuracy: 0.6702\n",
      "Epoch 6/30\n",
      "391/391 [==============================] - 4s 11ms/step - loss: 0.7083 - accuracy: 0.7554 - val_loss: 1.0359 - val_accuracy: 0.6564\n",
      "Epoch 7/30\n",
      "391/391 [==============================] - 5s 12ms/step - loss: 0.6684 - accuracy: 0.7699 - val_loss: 0.7008 - val_accuracy: 0.7618\n",
      "Epoch 8/30\n",
      "391/391 [==============================] - 4s 11ms/step - loss: 0.6124 - accuracy: 0.7894 - val_loss: 0.7188 - val_accuracy: 0.7588\n",
      "Epoch 9/30\n",
      "391/391 [==============================] - 5s 12ms/step - loss: 0.5841 - accuracy: 0.7970 - val_loss: 0.7649 - val_accuracy: 0.7496\n",
      "Epoch 10/30\n",
      "391/391 [==============================] - 5s 12ms/step - loss: 0.5455 - accuracy: 0.8140 - val_loss: 0.7339 - val_accuracy: 0.7553\n",
      "Epoch 11/30\n",
      "391/391 [==============================] - 4s 11ms/step - loss: 0.5142 - accuracy: 0.8231 - val_loss: 0.7009 - val_accuracy: 0.7647\n",
      "Epoch 12/30\n",
      "391/391 [==============================] - 5s 12ms/step - loss: 0.4905 - accuracy: 0.8294 - val_loss: 0.6651 - val_accuracy: 0.7755\n",
      "Epoch 13/30\n",
      "391/391 [==============================] - 5s 12ms/step - loss: 0.4711 - accuracy: 0.8377 - val_loss: 0.6772 - val_accuracy: 0.7773\n",
      "Epoch 14/30\n",
      "391/391 [==============================] - 4s 11ms/step - loss: 0.4481 - accuracy: 0.8444 - val_loss: 0.6605 - val_accuracy: 0.7828\n",
      "Epoch 15/30\n",
      "391/391 [==============================] - 5s 11ms/step - loss: 0.4290 - accuracy: 0.8491 - val_loss: 0.6658 - val_accuracy: 0.7826\n",
      "Epoch 16/30\n",
      "391/391 [==============================] - 4s 11ms/step - loss: 0.4161 - accuracy: 0.8562 - val_loss: 0.6955 - val_accuracy: 0.7721\n",
      "Epoch 17/30\n",
      "391/391 [==============================] - 5s 12ms/step - loss: 0.3965 - accuracy: 0.8611 - val_loss: 0.7611 - val_accuracy: 0.7605\n",
      "Epoch 18/30\n",
      "391/391 [==============================] - 5s 12ms/step - loss: 0.3812 - accuracy: 0.8676 - val_loss: 0.7071 - val_accuracy: 0.7722\n",
      "Epoch 19/30\n",
      "391/391 [==============================] - 5s 13ms/step - loss: 0.3707 - accuracy: 0.8698 - val_loss: 0.6796 - val_accuracy: 0.7907\n",
      "Epoch 20/30\n",
      "391/391 [==============================] - 5s 13ms/step - loss: 0.3598 - accuracy: 0.8739 - val_loss: 0.8889 - val_accuracy: 0.7320\n",
      "Epoch 21/30\n",
      "391/391 [==============================] - 5s 12ms/step - loss: 0.3516 - accuracy: 0.8781 - val_loss: 0.7737 - val_accuracy: 0.7649\n",
      "Epoch 22/30\n",
      "391/391 [==============================] - 5s 12ms/step - loss: 0.3340 - accuracy: 0.8839 - val_loss: 0.6387 - val_accuracy: 0.7994\n",
      "Epoch 23/30\n",
      "391/391 [==============================] - 5s 12ms/step - loss: 0.3288 - accuracy: 0.8855 - val_loss: 0.6742 - val_accuracy: 0.7910\n",
      "Epoch 24/30\n",
      "391/391 [==============================] - 5s 12ms/step - loss: 0.3195 - accuracy: 0.8874 - val_loss: 0.6553 - val_accuracy: 0.7941\n",
      "Epoch 25/30\n",
      "391/391 [==============================] - 5s 12ms/step - loss: 0.3126 - accuracy: 0.8912 - val_loss: 0.6980 - val_accuracy: 0.7837\n",
      "Epoch 26/30\n",
      "391/391 [==============================] - 5s 12ms/step - loss: 0.3020 - accuracy: 0.8942 - val_loss: 0.6830 - val_accuracy: 0.7941\n",
      "Epoch 27/30\n",
      "391/391 [==============================] - 5s 12ms/step - loss: 0.2944 - accuracy: 0.8972 - val_loss: 0.6786 - val_accuracy: 0.7978\n",
      "Epoch 28/30\n",
      "391/391 [==============================] - 5s 12ms/step - loss: 0.2784 - accuracy: 0.9028 - val_loss: 0.7163 - val_accuracy: 0.7882\n",
      "Epoch 29/30\n",
      "391/391 [==============================] - 5s 12ms/step - loss: 0.2777 - accuracy: 0.9030 - val_loss: 0.6725 - val_accuracy: 0.7976\n",
      "Epoch 30/30\n",
      "391/391 [==============================] - 5s 13ms/step - loss: 0.2698 - accuracy: 0.9052 - val_loss: 0.6511 - val_accuracy: 0.8085\n"
     ]
    }
   ],
   "source": [
    "### Compile and Fit the model ###\n",
    "from tensorflow.keras.optimizers import Adam\n",
    "\n",
    "model_3.compile(optimizer=Adam(amsgrad=True), \n",
    "              loss='sparse_categorical_crossentropy',\n",
    "              metrics=['accuracy'])\n",
    "\n",
    "### Fitting the model with batch size of 128 and 20 training epochs ###\n",
    "history_3 = model_3.fit(X_train, \n",
    "                    Y_train, \n",
    "                    epochs=30,\n",
    "                    batch_size=128,\n",
    "                    verbose=1,\n",
    "                    validation_data=(X_test,Y_test))"
   ]
  },
  {
   "cell_type": "code",
   "execution_count": 129,
   "id": "0a05fe44",
   "metadata": {
    "scrolled": true
   },
   "outputs": [
    {
     "name": "stdout",
     "output_type": "stream",
     "text": [
      "313/313 [==============================] - 1s 4ms/step - loss: 0.6511 - accuracy: 0.8085\n"
     ]
    },
    {
     "data": {
      "text/plain": [
       "[0.6511107683181763, 0.8084999918937683]"
      ]
     },
     "execution_count": 129,
     "metadata": {},
     "output_type": "execute_result"
    }
   ],
   "source": [
    "model_3.evaluate(X_test,Y_test)"
   ]
  },
  {
   "cell_type": "code",
   "execution_count": 130,
   "id": "f00732af",
   "metadata": {
    "scrolled": true
   },
   "outputs": [
    {
     "data": {
      "image/png": "[encoded data removed]",
      "text/plain": [
       "<Figure size 432x288 with 1 Axes>"
      ]
     },
     "metadata": {
      "needs_background": "light"
     },
     "output_type": "display_data"
    }
   ],
   "source": [
    "### Plot the comparison between training and test accuracy ###\n",
    "plt.plot(range(1,1+len(history_3.history['accuracy'])), history_3.history['accuracy'])\n",
    "plt.plot(range(1,1+len(history_3.history['val_accuracy'])), history_3.history['val_accuracy'])\n",
    "plt.title('Model Accuracy vs Number of Epochs')\n",
    "plt.ylabel('Accuracy')\n",
    "plt.xlabel('Epoch Number')\n",
    "plt.legend(['train', 'test'], loc='best')\n",
    "plt.xticks(np.arange(0,50,5))\n",
    "plt.show()"
   ]
  },
  {
   "cell_type": "markdown",
   "id": "c53d5f6a",
   "metadata": {},
   "source": [
    "## Model 4: resnet"
   ]
  },
  {
   "cell_type": "code",
   "execution_count": 12,
   "id": "ef1397ac",
   "metadata": {},
   "outputs": [],
   "source": [
    "# ResNet152 @ 20 epochs: 32% acc\n",
    "# Base model from lib\n",
    "model_resnet_base = tf.keras.applications.ResNet50(weights='imagenet', \n",
    "                                                    include_top=False, \n",
    "                                                    input_shape=(32,32,3))\n",
    "for layer in model_resnet_base.layers:\n",
    "  layer.trainable = False"
   ]
  },
  {
   "cell_type": "code",
   "execution_count": 13,
   "id": "8ff691c6",
   "metadata": {},
   "outputs": [],
   "source": [
    "# Customisable output layers\n",
    "x = model_resnet_base.output\n",
    "\n",
    "x = layers.Flatten()(x)\n",
    "x = layers.Dense(64, activation='relu')(x)\n",
    "x = layers.BatchNormalization()(x)\n",
    "\n",
    "x = layers.Flatten()(x)\n",
    "x = layers.Dense(32, activation='relu')(x)\n",
    "x = layers.BatchNormalization()(x)\n",
    "\n",
    "x = layers.Dense(16, activation='relu')(x)\n",
    "x = layers.Dropout(0.2)(x)\n",
    "x = layers.BatchNormalization()(x)\n",
    "\n",
    "x = layers.Dense(len(classes), activation='softmax')(x)\n",
    "\n",
    "model_resnet_output = x"
   ]
  },
  {
   "cell_type": "code",
   "execution_count": 14,
   "id": "2298f428",
   "metadata": {},
   "outputs": [],
   "source": [
    "resnet_model = tf.keras.Model(inputs=model_resnet_base.input, outputs=model_resnet_output)\n",
    "resnet_model.compile(optimizer='adam', \n",
    "                     loss='sparse_categorical_crossentropy',\n",
    "                     metrics=['accuracy'])"
   ]
  },
  {
   "cell_type": "code",
   "execution_count": 15,
   "id": "2cad4406",
   "metadata": {},
   "outputs": [
    {
     "name": "stdout",
     "output_type": "stream",
     "text": [
      "Epoch 1/20\n",
      "782/782 [==============================] - 43s 53ms/step - loss: 1.8923 - accuracy: 0.3229 - val_loss: 2.3858 - val_accuracy: 0.2838\n",
      "Epoch 2/20\n",
      "782/782 [==============================] - 40s 51ms/step - loss: 1.7008 - accuracy: 0.3889 - val_loss: 2.7844 - val_accuracy: 0.1917\n",
      "Epoch 3/20\n",
      "782/782 [==============================] - 41s 53ms/step - loss: 1.6574 - accuracy: 0.4077 - val_loss: 6.1767 - val_accuracy: 0.1589\n",
      "Epoch 4/20\n",
      "782/782 [==============================] - 41s 53ms/step - loss: 1.6252 - accuracy: 0.4270 - val_loss: 2.4186 - val_accuracy: 0.2462\n",
      "Epoch 5/20\n",
      "782/782 [==============================] - 39s 50ms/step - loss: 1.6033 - accuracy: 0.4326 - val_loss: 3.9191 - val_accuracy: 0.1587\n",
      "Epoch 6/20\n",
      "782/782 [==============================] - 40s 52ms/step - loss: 1.5887 - accuracy: 0.4374 - val_loss: 3.0063 - val_accuracy: 0.2161\n",
      "Epoch 7/20\n",
      "782/782 [==============================] - 40s 51ms/step - loss: 1.5769 - accuracy: 0.4438 - val_loss: 2.3547 - val_accuracy: 0.2585\n",
      "Epoch 8/20\n",
      "782/782 [==============================] - 39s 50ms/step - loss: 1.5629 - accuracy: 0.4480 - val_loss: 2.8490 - val_accuracy: 0.2150\n",
      "Epoch 9/20\n",
      "782/782 [==============================] - 40s 51ms/step - loss: 1.5609 - accuracy: 0.4495 - val_loss: 5.7014 - val_accuracy: 0.1473\n",
      "Epoch 10/20\n",
      "782/782 [==============================] - 39s 50ms/step - loss: 1.5487 - accuracy: 0.4551 - val_loss: 3.1272 - val_accuracy: 0.2453\n",
      "Epoch 11/20\n",
      "782/782 [==============================] - 39s 50ms/step - loss: 1.5357 - accuracy: 0.4590 - val_loss: 5.2332 - val_accuracy: 0.1322\n",
      "Epoch 12/20\n",
      "782/782 [==============================] - 39s 50ms/step - loss: 1.5354 - accuracy: 0.4589 - val_loss: 8.3654 - val_accuracy: 0.1200\n",
      "Epoch 13/20\n",
      "782/782 [==============================] - 39s 50ms/step - loss: 1.5322 - accuracy: 0.4638 - val_loss: 3.6503 - val_accuracy: 0.2002\n",
      "Epoch 14/20\n",
      "782/782 [==============================] - 40s 51ms/step - loss: 1.5227 - accuracy: 0.4654 - val_loss: 4.4524 - val_accuracy: 0.1587\n",
      "Epoch 15/20\n",
      "782/782 [==============================] - 40s 51ms/step - loss: 1.5228 - accuracy: 0.4662 - val_loss: 3.7142 - val_accuracy: 0.1405\n",
      "Epoch 16/20\n",
      "782/782 [==============================] - 39s 50ms/step - loss: 1.5101 - accuracy: 0.4707 - val_loss: 2.6560 - val_accuracy: 0.2893\n",
      "Epoch 17/20\n",
      "782/782 [==============================] - 39s 50ms/step - loss: 1.5105 - accuracy: 0.4694 - val_loss: 5.8945 - val_accuracy: 0.1758\n",
      "Epoch 18/20\n",
      "782/782 [==============================] - 39s 50ms/step - loss: 1.5047 - accuracy: 0.4740 - val_loss: 4.6688 - val_accuracy: 0.1674\n",
      "Epoch 19/20\n",
      "782/782 [==============================] - 39s 50ms/step - loss: 1.4971 - accuracy: 0.4777 - val_loss: 5.4207 - val_accuracy: 0.1739\n",
      "Epoch 20/20\n",
      "782/782 [==============================] - 40s 51ms/step - loss: 1.4960 - accuracy: 0.4772 - val_loss: 2.0153 - val_accuracy: 0.3143\n"
     ]
    }
   ],
   "source": [
    "history_resnet = resnet_model.fit(X_train, \n",
    "                                  Y_train, \n",
    "                                  batch_size=64, \n",
    "                                  epochs=20, \n",
    "                                  validation_data=(X_test, Y_test))"
   ]
  },
  {
   "cell_type": "code",
   "execution_count": 16,
   "id": "3f3388d3",
   "metadata": {},
   "outputs": [
    {
     "name": "stdout",
     "output_type": "stream",
     "text": [
      "313/313 [==============================] - 9s 28ms/step - loss: 2.0153 - accuracy: 0.3143\n"
     ]
    },
    {
     "data": {
      "text/plain": [
       "[2.015301465988159, 0.314300000667572]"
      ]
     },
     "execution_count": 16,
     "metadata": {},
     "output_type": "execute_result"
    }
   ],
   "source": [
    "resnet_model.evaluate(X_test,Y_test)"
   ]
  },
  {
   "cell_type": "code",
   "execution_count": 17,
   "id": "28361fd6",
   "metadata": {},
   "outputs": [
    {
     "data": {
      "image/png": "[encoded data removed]",
      "text/plain": [
       "<Figure size 432x288 with 1 Axes>"
      ]
     },
     "metadata": {
      "needs_background": "light"
     },
     "output_type": "display_data"
    }
   ],
   "source": [
    "### Plot the comparison between training and test accuracy ###\n",
    "plt.plot(range(1,1+len(history_resnet.history['accuracy'])), history_resnet.history['accuracy'])\n",
    "plt.plot(range(1,1+len(history_resnet.history['val_accuracy'])), history_resnet.history['val_accuracy'])\n",
    "plt.title('Model Accuracy vs Number of Epochs')\n",
    "plt.ylabel('Accuracy')\n",
    "plt.xlabel('Epoch Number')\n",
    "plt.legend(['train', 'test'], loc='best')\n",
    "plt.xticks(np.arange(0,50,5))\n",
    "plt.show()"
   ]
  },
  {
   "cell_type": "markdown",
   "id": "68051c53",
   "metadata": {},
   "source": [
    "## Model 5: experimenting on model 3 w/ weight decay"
   ]
  },
  {
   "cell_type": "code",
   "execution_count": 80,
   "id": "9e538d10",
   "metadata": {},
   "outputs": [],
   "source": [
    "start_time = timeit.default_timer()\n",
    "\n",
    "weight_decay = 1e-4\n",
    "\n",
    "# 77% @ 50 epochs\n",
    "model_5 = tf.keras.Sequential([\n",
    "    layers.Conv2D(16, (3, 3), activation='relu', padding='same', input_shape=(32, 32, 3),\n",
    "                 kernel_regularizer=tf.keras.regularizers.l2(weight_decay)),\n",
    "    layers.MaxPooling2D(pool_size=(2,2)),\n",
    "    layers.Dropout(0.2),\n",
    "    layers.BatchNormalization(),\n",
    "    \n",
    "    layers.Conv2D(32, 3, activation='relu', padding='same',\n",
    "                 kernel_regularizer=tf.keras.regularizers.l2(weight_decay)),\n",
    "    layers.MaxPooling2D(pool_size=(2,2)),\n",
    "    layers.Dropout(0.2),\n",
    "    layers.BatchNormalization(),\n",
    "    \n",
    "    layers.Conv2D(64, 3, activation='relu', padding='same',\n",
    "                 kernel_regularizer=tf.keras.regularizers.l2(weight_decay)),\n",
    "    layers.MaxPooling2D(2),\n",
    "    layers.Dropout(0.2),\n",
    "    layers.BatchNormalization(),\n",
    "    \n",
    "    #layers.Conv2D(128, 3, activation='relu', padding='same'),\n",
    "    #layers.MaxPooling2D(2),\n",
    "    #layers.Dropout(0.2),\n",
    "    #layers.BatchNormalization(),\n",
    "    \n",
    "    layers.Flatten(),\n",
    "    \n",
    "    #layers.Dense(128, activation='relu'),\n",
    "    #layers.Dropout(0.2),\n",
    "    #layers.BatchNormalization(),\n",
    "    \n",
    "    layers.Dense(64, activation='relu'),\n",
    "    layers.Dropout(0.2),\n",
    "    layers.BatchNormalization(),\n",
    "    \n",
    "    layers.Dense(32, activation='relu'),\n",
    "    layers.Dropout(0.2),\n",
    "    layers.BatchNormalization(),\n",
    "    \n",
    "    layers.Dense(len(classes), activation='softmax'),\n",
    "])"
   ]
  },
  {
   "cell_type": "code",
   "execution_count": 81,
   "id": "b0646e09",
   "metadata": {
    "scrolled": true
   },
   "outputs": [
    {
     "name": "stdout",
     "output_type": "stream",
     "text": [
      "Epoch 1/50\n",
      "391/391 [==============================] - 10s 23ms/step - loss: 1.8939 - accuracy: 0.3212 - val_loss: 2.8282 - val_accuracy: 0.1327\n",
      "Epoch 2/50\n",
      "391/391 [==============================] - 9s 22ms/step - loss: 1.4969 - accuracy: 0.4588 - val_loss: 1.3999 - val_accuracy: 0.5072\n",
      "Epoch 3/50\n",
      "391/391 [==============================] - 9s 22ms/step - loss: 1.3383 - accuracy: 0.5255 - val_loss: 1.1399 - val_accuracy: 0.5934\n",
      "Epoch 4/50\n",
      "391/391 [==============================] - 9s 22ms/step - loss: 1.2305 - accuracy: 0.5665 - val_loss: 1.1010 - val_accuracy: 0.6069\n",
      "Epoch 5/50\n",
      "391/391 [==============================] - 9s 22ms/step - loss: 1.1453 - accuracy: 0.5996 - val_loss: 1.1107 - val_accuracy: 0.6125\n",
      "Epoch 6/50\n",
      "391/391 [==============================] - 8s 21ms/step - loss: 1.0895 - accuracy: 0.6203 - val_loss: 0.9537 - val_accuracy: 0.6737\n",
      "Epoch 7/50\n",
      "391/391 [==============================] - 8s 22ms/step - loss: 1.0456 - accuracy: 0.6410 - val_loss: 0.9577 - val_accuracy: 0.6639\n",
      "Epoch 8/50\n",
      "391/391 [==============================] - 8s 21ms/step - loss: 1.0147 - accuracy: 0.6513 - val_loss: 0.8547 - val_accuracy: 0.7031\n",
      "Epoch 9/50\n",
      "391/391 [==============================] - 8s 21ms/step - loss: 0.9830 - accuracy: 0.6660 - val_loss: 0.8139 - val_accuracy: 0.7225\n",
      "Epoch 10/50\n",
      "391/391 [==============================] - 8s 21ms/step - loss: 0.9602 - accuracy: 0.6728 - val_loss: 0.8622 - val_accuracy: 0.7038\n",
      "Epoch 11/50\n",
      "391/391 [==============================] - 8s 21ms/step - loss: 0.9392 - accuracy: 0.6815 - val_loss: 0.8431 - val_accuracy: 0.7055\n",
      "Epoch 12/50\n",
      "391/391 [==============================] - 9s 22ms/step - loss: 0.9197 - accuracy: 0.6905 - val_loss: 0.8781 - val_accuracy: 0.7020\n",
      "Epoch 13/50\n",
      "391/391 [==============================] - 9s 22ms/step - loss: 0.9102 - accuracy: 0.6922 - val_loss: 1.0809 - val_accuracy: 0.6396\n",
      "Epoch 14/50\n",
      "391/391 [==============================] - 9s 22ms/step - loss: 0.8969 - accuracy: 0.6990 - val_loss: 1.4315 - val_accuracy: 0.5598\n",
      "Epoch 15/50\n",
      "391/391 [==============================] - 9s 22ms/step - loss: 0.8720 - accuracy: 0.7067 - val_loss: 0.7556 - val_accuracy: 0.7459\n",
      "Epoch 16/50\n",
      "391/391 [==============================] - 8s 22ms/step - loss: 0.8725 - accuracy: 0.7066 - val_loss: 0.9323 - val_accuracy: 0.6841\n",
      "Epoch 17/50\n",
      "391/391 [==============================] - 8s 22ms/step - loss: 0.8648 - accuracy: 0.7097 - val_loss: 0.8018 - val_accuracy: 0.7231\n",
      "Epoch 18/50\n",
      "391/391 [==============================] - 8s 22ms/step - loss: 0.8506 - accuracy: 0.7134 - val_loss: 0.8123 - val_accuracy: 0.7247\n",
      "Epoch 19/50\n",
      "391/391 [==============================] - 9s 22ms/step - loss: 0.8419 - accuracy: 0.7183 - val_loss: 0.7831 - val_accuracy: 0.7328\n",
      "Epoch 20/50\n",
      "391/391 [==============================] - 8s 22ms/step - loss: 0.8380 - accuracy: 0.7179 - val_loss: 0.8479 - val_accuracy: 0.7127\n",
      "Epoch 21/50\n",
      "391/391 [==============================] - 8s 22ms/step - loss: 0.8311 - accuracy: 0.7215 - val_loss: 0.7588 - val_accuracy: 0.7407\n",
      "Epoch 22/50\n",
      "391/391 [==============================] - 8s 22ms/step - loss: 0.8258 - accuracy: 0.7239 - val_loss: 0.8313 - val_accuracy: 0.7198\n",
      "Epoch 23/50\n",
      "391/391 [==============================] - 9s 22ms/step - loss: 0.8194 - accuracy: 0.7268 - val_loss: 0.9257 - val_accuracy: 0.6863\n",
      "Epoch 24/50\n",
      "391/391 [==============================] - 9s 22ms/step - loss: 0.8162 - accuracy: 0.7278 - val_loss: 0.8315 - val_accuracy: 0.7133\n",
      "Epoch 25/50\n",
      "391/391 [==============================] - 8s 22ms/step - loss: 0.8108 - accuracy: 0.7289 - val_loss: 0.7545 - val_accuracy: 0.7418\n",
      "Epoch 26/50\n",
      "391/391 [==============================] - 8s 22ms/step - loss: 0.8001 - accuracy: 0.7339 - val_loss: 0.8164 - val_accuracy: 0.7224\n",
      "Epoch 27/50\n",
      "391/391 [==============================] - 9s 22ms/step - loss: 0.8024 - accuracy: 0.7330 - val_loss: 0.7345 - val_accuracy: 0.7492\n",
      "Epoch 28/50\n",
      "391/391 [==============================] - 8s 22ms/step - loss: 0.8000 - accuracy: 0.7349 - val_loss: 0.8156 - val_accuracy: 0.7250\n",
      "Epoch 29/50\n",
      "391/391 [==============================] - 9s 22ms/step - loss: 0.7945 - accuracy: 0.7343 - val_loss: 0.7437 - val_accuracy: 0.7543\n",
      "Epoch 30/50\n",
      "391/391 [==============================] - 9s 22ms/step - loss: 0.7857 - accuracy: 0.7385 - val_loss: 0.7115 - val_accuracy: 0.7622\n",
      "Epoch 31/50\n",
      "391/391 [==============================] - 8s 22ms/step - loss: 0.7852 - accuracy: 0.7399 - val_loss: 0.7300 - val_accuracy: 0.7557\n",
      "Epoch 32/50\n",
      "391/391 [==============================] - 9s 22ms/step - loss: 0.7801 - accuracy: 0.7405 - val_loss: 0.7614 - val_accuracy: 0.7427\n",
      "Epoch 33/50\n",
      "391/391 [==============================] - 8s 22ms/step - loss: 0.7764 - accuracy: 0.7431 - val_loss: 0.7162 - val_accuracy: 0.7575\n",
      "Epoch 34/50\n",
      "391/391 [==============================] - 8s 21ms/step - loss: 0.7709 - accuracy: 0.7423 - val_loss: 0.7361 - val_accuracy: 0.7517\n",
      "Epoch 35/50\n",
      "391/391 [==============================] - 8s 21ms/step - loss: 0.7737 - accuracy: 0.7464 - val_loss: 0.8231 - val_accuracy: 0.7247\n",
      "Epoch 36/50\n",
      "391/391 [==============================] - 8s 21ms/step - loss: 0.7722 - accuracy: 0.7452 - val_loss: 0.7027 - val_accuracy: 0.7631\n",
      "Epoch 37/50\n",
      "391/391 [==============================] - 8s 21ms/step - loss: 0.7611 - accuracy: 0.7478 - val_loss: 0.7489 - val_accuracy: 0.7485\n",
      "Epoch 38/50\n",
      "391/391 [==============================] - 8s 21ms/step - loss: 0.7606 - accuracy: 0.7487 - val_loss: 0.6961 - val_accuracy: 0.7693\n",
      "Epoch 39/50\n",
      "391/391 [==============================] - 8s 21ms/step - loss: 0.7635 - accuracy: 0.7460 - val_loss: 0.7667 - val_accuracy: 0.7474\n",
      "Epoch 40/50\n",
      "391/391 [==============================] - 8s 21ms/step - loss: 0.7565 - accuracy: 0.7508 - val_loss: 0.7111 - val_accuracy: 0.7668\n",
      "Epoch 41/50\n",
      "391/391 [==============================] - 8s 21ms/step - loss: 0.7623 - accuracy: 0.7490 - val_loss: 0.7052 - val_accuracy: 0.7640\n",
      "Epoch 42/50\n",
      "391/391 [==============================] - 8s 21ms/step - loss: 0.7509 - accuracy: 0.7514 - val_loss: 0.6654 - val_accuracy: 0.7787\n",
      "Epoch 43/50\n",
      "391/391 [==============================] - 8s 21ms/step - loss: 0.7512 - accuracy: 0.7527 - val_loss: 0.7973 - val_accuracy: 0.7322\n",
      "Epoch 44/50\n",
      "391/391 [==============================] - 8s 21ms/step - loss: 0.7458 - accuracy: 0.7553 - val_loss: 0.6879 - val_accuracy: 0.7681\n",
      "Epoch 45/50\n",
      "391/391 [==============================] - 8s 21ms/step - loss: 0.7434 - accuracy: 0.7543 - val_loss: 0.6833 - val_accuracy: 0.7740\n",
      "Epoch 46/50\n",
      "391/391 [==============================] - 8s 21ms/step - loss: 0.7416 - accuracy: 0.7570 - val_loss: 0.6884 - val_accuracy: 0.7689\n",
      "Epoch 47/50\n",
      "391/391 [==============================] - 8s 21ms/step - loss: 0.7418 - accuracy: 0.7566 - val_loss: 0.6720 - val_accuracy: 0.7773\n",
      "Epoch 48/50\n",
      "391/391 [==============================] - 8s 21ms/step - loss: 0.7446 - accuracy: 0.7563 - val_loss: 0.6765 - val_accuracy: 0.7748\n",
      "Epoch 49/50\n",
      "391/391 [==============================] - 8s 21ms/step - loss: 0.7408 - accuracy: 0.7564 - val_loss: 0.7089 - val_accuracy: 0.7631\n",
      "Epoch 50/50\n",
      "391/391 [==============================] - 8s 21ms/step - loss: 0.7328 - accuracy: 0.7581 - val_loss: 0.6792 - val_accuracy: 0.7734\n"
     ]
    }
   ],
   "source": [
    "### Compile and Fit the model ###\n",
    "from tensorflow.keras.optimizers import Adam\n",
    "\n",
    "\n",
    "model_5.compile(optimizer=Adam(amsgrad=True), \n",
    "              loss='sparse_categorical_crossentropy',\n",
    "              metrics=['accuracy'])\n",
    "\n",
    "\n",
    "\n",
    "### Fitting the model with batch size of 128 and 20 training epochs ###\n",
    "history_5 = model_5.fit(X_train, \n",
    "                    Y_train, \n",
    "                    epochs=50,\n",
    "                    batch_size=128,\n",
    "                    verbose=1,\n",
    "                    validation_data=(X_test,Y_test))\n"
   ]
  },
  {
   "cell_type": "code",
   "execution_count": 82,
   "id": "4f70e6e1",
   "metadata": {},
   "outputs": [
    {
     "name": "stdout",
     "output_type": "stream",
     "text": [
      "313/313 [==============================] - 1s 2ms/step - loss: 0.6792 - accuracy: 0.7734\n"
     ]
    },
    {
     "data": {
      "text/plain": [
       "[0.6791932582855225, 0.7734000086784363]"
      ]
     },
     "execution_count": 82,
     "metadata": {},
     "output_type": "execute_result"
    }
   ],
   "source": [
    "model_5.evaluate(X_test,Y_test)"
   ]
  },
  {
   "cell_type": "code",
   "execution_count": 83,
   "id": "0cd3a598",
   "metadata": {},
   "outputs": [
    {
     "data": {
      "image/png": "[encoded data removed]",
      "text/plain": [
       "<Figure size 432x288 with 1 Axes>"
      ]
     },
     "metadata": {
      "needs_background": "light"
     },
     "output_type": "display_data"
    }
   ],
   "source": [
    "### Plot the comparison between training and test accuracy ###\n",
    "plt.plot(range(1,1+len(history_5.history['accuracy'])), history_5.history['accuracy'])\n",
    "plt.plot(range(1,1+len(history_5.history['val_accuracy'])), history_5.history['val_accuracy'])\n",
    "plt.title('Model Accuracy vs Number of Epochs')\n",
    "plt.ylabel('Accuracy')\n",
    "plt.xlabel('Epoch Number')\n",
    "plt.legend(['train', 'test'], loc='best')\n",
    "plt.xticks(np.arange(0, 60, 5))\n",
    "plt.show()"
   ]
  },
  {
   "cell_type": "code",
   "execution_count": 84,
   "id": "201b9290",
   "metadata": {},
   "outputs": [
    {
     "name": "stdout",
     "output_type": "stream",
     "text": [
      "Time Taken: 7.07 mins\n"
     ]
    }
   ],
   "source": [
    "mins = (timeit.default_timer() - start_time) / 60\n",
    "print(f'Time Taken: {mins:.2f} mins')"
   ]
  },
  {
   "cell_type": "markdown",
   "id": "e0f96f2c",
   "metadata": {},
   "source": [
    "## Model 6: Giovenale's model\n",
    "https://www.kaggle.com/c/cifar-10/discussion/40237"
   ]
  },
  {
   "cell_type": "code",
   "execution_count": 70,
   "id": "f3369b1e",
   "metadata": {},
   "outputs": [],
   "source": [
    "start_time = timeit.default_timer()\n",
    "\n",
    "\n",
    "baseMapNum = 32\n",
    "weight_decay = 1e-4\n",
    "\n",
    "# 84% @ 40 epochs\n",
    "model_6 = tf.keras.Sequential([\n",
    "    layers.Conv2D(baseMapNum, (3,3), padding='same', activation='relu', input_shape=X_train.shape[1:],\n",
    "                  kernel_regularizer=tf.keras.regularizers.l2(weight_decay)),\n",
    "    layers.BatchNormalization(),\n",
    "    layers.Conv2D(baseMapNum, (3,3), padding='same', activation='relu', \n",
    "                  kernel_regularizer=tf.keras.regularizers.l2(weight_decay)),\n",
    "    layers.BatchNormalization(),\n",
    "    layers.MaxPooling2D(pool_size=(2,2)),\n",
    "    layers.Dropout(0.2),\n",
    "    \n",
    "    layers.Conv2D(2*baseMapNum, (3,3), padding='same', activation='relu', \n",
    "                  kernel_regularizer=tf.keras.regularizers.l2(weight_decay)),\n",
    "    layers.BatchNormalization(),\n",
    "    layers.Conv2D(2*baseMapNum, (3,3), padding='same', activation='relu', \n",
    "                  kernel_regularizer=tf.keras.regularizers.l2(weight_decay)),\n",
    "    layers.BatchNormalization(),\n",
    "    layers.MaxPooling2D(pool_size=(2,2)),\n",
    "    layers.Dropout(0.3),  \n",
    "   \n",
    "    layers.Conv2D(4*baseMapNum, (3,3), padding='same', activation='relu', \n",
    "                  kernel_regularizer=tf.keras.regularizers.l2(weight_decay)),\n",
    "    layers.BatchNormalization(),\n",
    "    layers.BatchNormalization(),\n",
    "    layers.MaxPooling2D(pool_size=(2,2)),\n",
    "    layers.Dropout(0.4),\n",
    "    \n",
    "    layers.Flatten(),\n",
    "    layers.Dense(len(classes), activation='softmax'),\n",
    "    \n",
    "])"
   ]
  },
  {
   "cell_type": "code",
   "execution_count": 71,
   "id": "1556119c",
   "metadata": {},
   "outputs": [
    {
     "name": "stdout",
     "output_type": "stream",
     "text": [
      "Epoch 1/80\n",
      "391/391 [==============================] - 44s 108ms/step - loss: 1.8597 - accuracy: 0.4343 - val_loss: 2.8190 - val_accuracy: 0.2193\n",
      "Epoch 2/80\n",
      "391/391 [==============================] - 41s 106ms/step - loss: 1.2974 - accuracy: 0.5923 - val_loss: 1.0741 - val_accuracy: 0.6361\n",
      "Epoch 3/80\n",
      "391/391 [==============================] - 42s 107ms/step - loss: 1.0995 - accuracy: 0.6570 - val_loss: 1.0955 - val_accuracy: 0.6510\n",
      "Epoch 4/80\n",
      "391/391 [==============================] - 42s 106ms/step - loss: 0.9689 - accuracy: 0.6908 - val_loss: 0.8959 - val_accuracy: 0.7067\n",
      "Epoch 5/80\n",
      "391/391 [==============================] - 41s 106ms/step - loss: 0.8668 - accuracy: 0.7193 - val_loss: 0.9062 - val_accuracy: 0.7019\n",
      "Epoch 6/80\n",
      "391/391 [==============================] - 42s 107ms/step - loss: 0.8088 - accuracy: 0.7352 - val_loss: 0.8318 - val_accuracy: 0.7181\n",
      "Epoch 7/80\n",
      "391/391 [==============================] - 41s 106ms/step - loss: 0.7335 - accuracy: 0.7569 - val_loss: 0.7355 - val_accuracy: 0.7594\n",
      "Epoch 8/80\n",
      "391/391 [==============================] - 42s 107ms/step - loss: 0.6917 - accuracy: 0.7713 - val_loss: 0.7332 - val_accuracy: 0.7624\n",
      "Epoch 9/80\n",
      "391/391 [==============================] - 42s 108ms/step - loss: 0.6590 - accuracy: 0.7825 - val_loss: 0.6390 - val_accuracy: 0.7950\n",
      "Epoch 10/80\n",
      "391/391 [==============================] - 44s 111ms/step - loss: 0.6244 - accuracy: 0.7971 - val_loss: 0.6774 - val_accuracy: 0.7823\n",
      "Epoch 11/80\n",
      "391/391 [==============================] - 42s 108ms/step - loss: 0.6040 - accuracy: 0.8038 - val_loss: 0.6187 - val_accuracy: 0.7989\n",
      "Epoch 12/80\n",
      "391/391 [==============================] - 42s 106ms/step - loss: 0.5814 - accuracy: 0.8092 - val_loss: 0.6353 - val_accuracy: 0.7937\n",
      "Epoch 13/80\n",
      "391/391 [==============================] - 42s 107ms/step - loss: 0.5636 - accuracy: 0.8174 - val_loss: 0.6225 - val_accuracy: 0.8024\n",
      "Epoch 14/80\n",
      "391/391 [==============================] - 43s 110ms/step - loss: 0.5479 - accuracy: 0.8244 - val_loss: 0.6798 - val_accuracy: 0.7831\n",
      "Epoch 15/80\n",
      "391/391 [==============================] - 45s 114ms/step - loss: 0.5313 - accuracy: 0.8290 - val_loss: 0.6019 - val_accuracy: 0.8079\n",
      "Epoch 16/80\n",
      "391/391 [==============================] - 43s 111ms/step - loss: 0.5123 - accuracy: 0.8353 - val_loss: 0.6536 - val_accuracy: 0.7973\n",
      "Epoch 17/80\n",
      "391/391 [==============================] - 43s 110ms/step - loss: 0.5116 - accuracy: 0.8353 - val_loss: 0.6251 - val_accuracy: 0.8031\n",
      "Epoch 18/80\n",
      "391/391 [==============================] - 43s 109ms/step - loss: 0.4942 - accuracy: 0.8430 - val_loss: 0.7949 - val_accuracy: 0.7501\n",
      "Epoch 19/80\n",
      "391/391 [==============================] - 44s 112ms/step - loss: 0.4895 - accuracy: 0.8438 - val_loss: 0.5860 - val_accuracy: 0.8168\n",
      "Epoch 20/80\n",
      "391/391 [==============================] - 43s 111ms/step - loss: 0.4743 - accuracy: 0.8484 - val_loss: 0.7074 - val_accuracy: 0.7833\n",
      "Epoch 21/80\n",
      "391/391 [==============================] - 41s 106ms/step - loss: 0.4697 - accuracy: 0.8522 - val_loss: 0.5682 - val_accuracy: 0.8275\n",
      "Epoch 22/80\n",
      "391/391 [==============================] - 42s 107ms/step - loss: 0.4656 - accuracy: 0.8533 - val_loss: 0.5708 - val_accuracy: 0.8267\n",
      "Epoch 23/80\n",
      "391/391 [==============================] - 42s 108ms/step - loss: 0.4521 - accuracy: 0.8593 - val_loss: 0.6041 - val_accuracy: 0.8164\n",
      "Epoch 24/80\n",
      "391/391 [==============================] - 41s 106ms/step - loss: 0.4446 - accuracy: 0.8596 - val_loss: 0.6036 - val_accuracy: 0.8121\n",
      "Epoch 25/80\n",
      "391/391 [==============================] - 41s 106ms/step - loss: 0.4445 - accuracy: 0.8621 - val_loss: 0.5963 - val_accuracy: 0.8198\n",
      "Epoch 26/80\n",
      "391/391 [==============================] - 42s 106ms/step - loss: 0.4361 - accuracy: 0.8648 - val_loss: 0.5983 - val_accuracy: 0.8208\n",
      "Epoch 27/80\n",
      "391/391 [==============================] - 41s 106ms/step - loss: 0.4354 - accuracy: 0.8654 - val_loss: 0.6398 - val_accuracy: 0.8124\n",
      "Epoch 28/80\n",
      "391/391 [==============================] - 42s 109ms/step - loss: 0.4292 - accuracy: 0.8656 - val_loss: 0.5891 - val_accuracy: 0.8247\n",
      "Epoch 29/80\n",
      "391/391 [==============================] - 43s 110ms/step - loss: 0.4209 - accuracy: 0.8709 - val_loss: 0.5481 - val_accuracy: 0.8394\n",
      "Epoch 30/80\n",
      "391/391 [==============================] - 42s 106ms/step - loss: 0.4126 - accuracy: 0.8746 - val_loss: 0.5507 - val_accuracy: 0.8375\n",
      "Epoch 31/80\n",
      "391/391 [==============================] - 43s 110ms/step - loss: 0.4087 - accuracy: 0.8743 - val_loss: 0.5898 - val_accuracy: 0.8185\n",
      "Epoch 32/80\n",
      "391/391 [==============================] - 43s 109ms/step - loss: 0.4055 - accuracy: 0.8777 - val_loss: 0.6258 - val_accuracy: 0.8062\n",
      "Epoch 33/80\n",
      "391/391 [==============================] - 43s 111ms/step - loss: 0.4033 - accuracy: 0.8773 - val_loss: 0.5410 - val_accuracy: 0.8409\n",
      "Epoch 34/80\n",
      "391/391 [==============================] - 43s 109ms/step - loss: 0.4018 - accuracy: 0.8773 - val_loss: 0.5544 - val_accuracy: 0.8370\n",
      "Epoch 35/80\n",
      "391/391 [==============================] - 42s 107ms/step - loss: 0.3974 - accuracy: 0.8788 - val_loss: 0.6211 - val_accuracy: 0.8184\n",
      "Epoch 36/80\n",
      "391/391 [==============================] - 44s 113ms/step - loss: 0.3967 - accuracy: 0.8811 - val_loss: 0.6178 - val_accuracy: 0.8156\n",
      "Epoch 37/80\n",
      "391/391 [==============================] - 41s 106ms/step - loss: 0.3918 - accuracy: 0.8831 - val_loss: 0.5491 - val_accuracy: 0.8430\n",
      "Epoch 38/80\n",
      "391/391 [==============================] - 42s 108ms/step - loss: 0.3920 - accuracy: 0.8825 - val_loss: 0.5983 - val_accuracy: 0.8258\n",
      "Epoch 39/80\n",
      "391/391 [==============================] - 42s 108ms/step - loss: 0.3877 - accuracy: 0.8843 - val_loss: 0.5390 - val_accuracy: 0.8444\n",
      "Epoch 40/80\n",
      "391/391 [==============================] - 43s 109ms/step - loss: 0.3835 - accuracy: 0.8868 - val_loss: 0.6350 - val_accuracy: 0.8164\n",
      "Epoch 41/80\n",
      "391/391 [==============================] - 43s 109ms/step - loss: 0.3812 - accuracy: 0.8851 - val_loss: 0.5660 - val_accuracy: 0.8338\n",
      "Epoch 42/80\n",
      "391/391 [==============================] - 43s 109ms/step - loss: 0.3801 - accuracy: 0.8877 - val_loss: 0.5818 - val_accuracy: 0.8305\n",
      "Epoch 43/80\n",
      "391/391 [==============================] - 43s 109ms/step - loss: 0.3826 - accuracy: 0.8881 - val_loss: 0.5855 - val_accuracy: 0.8291\n",
      "Epoch 44/80\n",
      "391/391 [==============================] - 43s 109ms/step - loss: 0.3710 - accuracy: 0.8916 - val_loss: 0.5486 - val_accuracy: 0.8407\n",
      "Epoch 45/80\n",
      "391/391 [==============================] - 42s 108ms/step - loss: 0.3733 - accuracy: 0.8909 - val_loss: 0.5362 - val_accuracy: 0.8452\n",
      "Epoch 46/80\n",
      "391/391 [==============================] - 42s 107ms/step - loss: 0.3676 - accuracy: 0.8934 - val_loss: 0.6004 - val_accuracy: 0.8251\n",
      "Epoch 47/80\n",
      "391/391 [==============================] - 42s 108ms/step - loss: 0.3710 - accuracy: 0.8917 - val_loss: 0.5938 - val_accuracy: 0.8290\n",
      "Epoch 48/80\n",
      "391/391 [==============================] - 42s 109ms/step - loss: 0.3652 - accuracy: 0.8953 - val_loss: 0.5493 - val_accuracy: 0.8455\n",
      "Epoch 49/80\n",
      "391/391 [==============================] - 43s 109ms/step - loss: 0.3628 - accuracy: 0.8960 - val_loss: 0.5546 - val_accuracy: 0.8435\n",
      "Epoch 50/80\n",
      "391/391 [==============================] - 44s 111ms/step - loss: 0.3622 - accuracy: 0.8941 - val_loss: 0.5463 - val_accuracy: 0.8461\n",
      "Epoch 51/80\n",
      "391/391 [==============================] - 44s 111ms/step - loss: 0.3619 - accuracy: 0.8968 - val_loss: 0.6551 - val_accuracy: 0.8131\n",
      "Epoch 52/80\n",
      "391/391 [==============================] - 44s 112ms/step - loss: 0.3632 - accuracy: 0.8957 - val_loss: 0.5178 - val_accuracy: 0.8557\n",
      "Epoch 53/80\n",
      "391/391 [==============================] - 44s 114ms/step - loss: 0.3583 - accuracy: 0.8971 - val_loss: 0.6282 - val_accuracy: 0.8211\n",
      "Epoch 54/80\n",
      "391/391 [==============================] - 43s 111ms/step - loss: 0.3604 - accuracy: 0.8971 - val_loss: 0.6001 - val_accuracy: 0.8364\n",
      "Epoch 55/80\n",
      "391/391 [==============================] - 44s 113ms/step - loss: 0.3546 - accuracy: 0.8995 - val_loss: 0.5332 - val_accuracy: 0.8523\n",
      "Epoch 56/80\n",
      "391/391 [==============================] - 46s 117ms/step - loss: 0.3554 - accuracy: 0.8988 - val_loss: 0.6267 - val_accuracy: 0.8207\n",
      "Epoch 57/80\n"
     ]
    },
    {
     "name": "stdout",
     "output_type": "stream",
     "text": [
      "391/391 [==============================] - 44s 112ms/step - loss: 0.3487 - accuracy: 0.9008 - val_loss: 0.5893 - val_accuracy: 0.8358\n",
      "Epoch 58/80\n",
      "391/391 [==============================] - 45s 115ms/step - loss: 0.3508 - accuracy: 0.9012 - val_loss: 0.6566 - val_accuracy: 0.8174\n",
      "Epoch 59/80\n",
      "391/391 [==============================] - 45s 115ms/step - loss: 0.3542 - accuracy: 0.8991 - val_loss: 0.6012 - val_accuracy: 0.8350\n",
      "Epoch 60/80\n",
      "391/391 [==============================] - 44s 112ms/step - loss: 0.3486 - accuracy: 0.9023 - val_loss: 0.5757 - val_accuracy: 0.8396\n",
      "Epoch 61/80\n",
      "391/391 [==============================] - 43s 110ms/step - loss: 0.3424 - accuracy: 0.9039 - val_loss: 0.5460 - val_accuracy: 0.8484\n",
      "Epoch 62/80\n",
      "391/391 [==============================] - 43s 109ms/step - loss: 0.3499 - accuracy: 0.9005 - val_loss: 0.5684 - val_accuracy: 0.8418\n",
      "Epoch 63/80\n",
      "391/391 [==============================] - 42s 108ms/step - loss: 0.3449 - accuracy: 0.9038 - val_loss: 0.5559 - val_accuracy: 0.8462\n",
      "Epoch 64/80\n",
      "391/391 [==============================] - 43s 109ms/step - loss: 0.3464 - accuracy: 0.9041 - val_loss: 0.5595 - val_accuracy: 0.8493\n",
      "Epoch 65/80\n",
      "391/391 [==============================] - 43s 111ms/step - loss: 0.3415 - accuracy: 0.9057 - val_loss: 0.5671 - val_accuracy: 0.8421\n",
      "Epoch 66/80\n",
      "391/391 [==============================] - 43s 111ms/step - loss: 0.3420 - accuracy: 0.9045 - val_loss: 0.6294 - val_accuracy: 0.8236\n",
      "Epoch 67/80\n",
      "391/391 [==============================] - 43s 111ms/step - loss: 0.3417 - accuracy: 0.9060 - val_loss: 0.5762 - val_accuracy: 0.8461\n",
      "Epoch 68/80\n",
      "391/391 [==============================] - 43s 110ms/step - loss: 0.3406 - accuracy: 0.9064 - val_loss: 0.6182 - val_accuracy: 0.8300\n",
      "Epoch 69/80\n",
      "391/391 [==============================] - 43s 110ms/step - loss: 0.3408 - accuracy: 0.9055 - val_loss: 0.5678 - val_accuracy: 0.8442\n",
      "Epoch 70/80\n",
      "391/391 [==============================] - 42s 109ms/step - loss: 0.3420 - accuracy: 0.9053 - val_loss: 0.5626 - val_accuracy: 0.8473\n",
      "Epoch 71/80\n",
      "391/391 [==============================] - 42s 108ms/step - loss: 0.3385 - accuracy: 0.9063 - val_loss: 0.5840 - val_accuracy: 0.8386\n",
      "Epoch 72/80\n",
      "391/391 [==============================] - 42s 109ms/step - loss: 0.3406 - accuracy: 0.9062 - val_loss: 0.6120 - val_accuracy: 0.8322\n",
      "Epoch 73/80\n",
      "391/391 [==============================] - 42s 108ms/step - loss: 0.3411 - accuracy: 0.9060 - val_loss: 0.5583 - val_accuracy: 0.8491\n",
      "Epoch 74/80\n",
      "391/391 [==============================] - 42s 108ms/step - loss: 0.3334 - accuracy: 0.9099 - val_loss: 0.5534 - val_accuracy: 0.8486\n",
      "Epoch 75/80\n",
      "391/391 [==============================] - 44s 113ms/step - loss: 0.3338 - accuracy: 0.9086 - val_loss: 0.5930 - val_accuracy: 0.8406\n",
      "Epoch 76/80\n",
      "391/391 [==============================] - 45s 116ms/step - loss: 0.3330 - accuracy: 0.9096 - val_loss: 0.5843 - val_accuracy: 0.8382\n",
      "Epoch 77/80\n",
      "391/391 [==============================] - 45s 115ms/step - loss: 0.3322 - accuracy: 0.9086 - val_loss: 0.5548 - val_accuracy: 0.8484\n",
      "Epoch 78/80\n",
      "391/391 [==============================] - 43s 110ms/step - loss: 0.3337 - accuracy: 0.9084 - val_loss: 0.5768 - val_accuracy: 0.8433\n",
      "Epoch 79/80\n",
      "391/391 [==============================] - 44s 112ms/step - loss: 0.3339 - accuracy: 0.9094 - val_loss: 0.5491 - val_accuracy: 0.8513\n",
      "Epoch 80/80\n",
      "391/391 [==============================] - 45s 115ms/step - loss: 0.3299 - accuracy: 0.9116 - val_loss: 0.5433 - val_accuracy: 0.8515\n"
     ]
    }
   ],
   "source": [
    "### Compile and Fit the model ###\n",
    "from tensorflow.keras.optimizers import Adam\n",
    "\n",
    "\n",
    "model_6.compile(optimizer=Adam(amsgrad=True), \n",
    "              loss='sparse_categorical_crossentropy',\n",
    "              metrics=['accuracy'])\n",
    "\n",
    "\n",
    "\n",
    "### Fitting the model with batch size of 128 and 20 training epochs ###\n",
    "history_6 = model_6.fit(X_train, \n",
    "                    Y_train, \n",
    "                    epochs=80,\n",
    "                    batch_size=128,\n",
    "                    verbose=1,\n",
    "                    validation_data=(X_test,Y_test))"
   ]
  },
  {
   "cell_type": "code",
   "execution_count": 72,
   "id": "f07b865c",
   "metadata": {},
   "outputs": [
    {
     "name": "stdout",
     "output_type": "stream",
     "text": [
      "313/313 [==============================] - 2s 6ms/step - loss: 0.5433 - accuracy: 0.8515\n"
     ]
    },
    {
     "data": {
      "text/plain": [
       "[0.5432793498039246, 0.8514999747276306]"
      ]
     },
     "execution_count": 72,
     "metadata": {},
     "output_type": "execute_result"
    }
   ],
   "source": [
    "model_6.evaluate(X_test,Y_test)"
   ]
  },
  {
   "cell_type": "code",
   "execution_count": 73,
   "id": "8250f932",
   "metadata": {},
   "outputs": [
    {
     "data": {
      "image/png": "[encoded data removed]",
      "text/plain": [
       "<Figure size 432x288 with 1 Axes>"
      ]
     },
     "metadata": {
      "needs_background": "light"
     },
     "output_type": "display_data"
    }
   ],
   "source": [
    "### Plot the comparison between training and test accuracy ###\n",
    "plt.plot(range(1,1+len(history_6.history['accuracy'])), history_6.history['accuracy'])\n",
    "plt.plot(range(1,1+len(history_6.history['val_accuracy'])), history_6.history['val_accuracy'])\n",
    "plt.title('Model Accuracy vs Number of Epochs')\n",
    "plt.ylabel('Accuracy')\n",
    "plt.xlabel('Epoch Number')\n",
    "plt.legend(['train', 'test'], loc='best')\n",
    "plt.xticks(np.arange(0, 100, 5))\n",
    "plt.show()"
   ]
  },
  {
   "cell_type": "code",
   "execution_count": 74,
   "id": "bcc10533",
   "metadata": {},
   "outputs": [
    {
     "name": "stdout",
     "output_type": "stream",
     "text": [
      "Time Taken: 57.18 mins\n"
     ]
    }
   ],
   "source": [
    "mins = (timeit.default_timer() - start_time) / 60\n",
    "print(f'Time Taken: {mins:.2f} mins')"
   ]
  }
 ],
 "metadata": {
  "kernelspec": {
   "display_name": "Python 3",
   "language": "python",
   "name": "python3"
  },
  "language_info": {
   "codemirror_mode": {
    "name": "ipython",
    "version": 3
   },
   "file_extension": ".py",
   "mimetype": "text/x-python",
   "name": "python",
   "nbconvert_exporter": "python",
   "pygments_lexer": "ipython3",
   "version": "3.8.10"
  }
 },
 "nbformat": 4,
 "nbformat_minor": 5
}
