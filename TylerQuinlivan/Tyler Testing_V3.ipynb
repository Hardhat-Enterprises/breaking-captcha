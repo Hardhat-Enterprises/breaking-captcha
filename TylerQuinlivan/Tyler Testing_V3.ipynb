{
 "cells": [
  {
   "cell_type": "markdown",
   "id": "46933d3c",
   "metadata": {},
   "source": [
    "## BREAKING IMAGE CAPTCHA CNN MODEL WITH CIFAR-10 Dataset"
   ]
  },
  {
   "cell_type": "code",
   "execution_count": 1,
   "id": "d563d957",
   "metadata": {
    "scrolled": true
   },
   "outputs": [],
   "source": [
    "### Import various libraries ###\n",
    "import tensorflow as tf \n",
    "import numpy as np\n",
    "import graphviz\n",
    "import pandas as pd\n",
    "import matplotlib.pyplot as plt\n",
    "import pydot\n",
    "import seaborn as sns\n",
    "import timeit\n",
    "\n",
    "from tensorflow import keras\n",
    "from tensorflow.keras import datasets, layers, models\n",
    "from tensorflow.keras.callbacks import ModelCheckpoint\n",
    "from keras.utils.vis_utils import plot_model\n",
    "from tensorflow.keras.layers import BatchNormalization\n",
    "from keras.utils import np_utils\n",
    "\n",
    "%matplotlib inline"
   ]
  },
  {
   "cell_type": "code",
   "execution_count": 2,
   "id": "7703ec0b",
   "metadata": {
    "scrolled": true
   },
   "outputs": [
    {
     "data": {
      "text/plain": [
       "[]"
      ]
     },
     "execution_count": 2,
     "metadata": {},
     "output_type": "execute_result"
    }
   ],
   "source": [
    "# Is a CUDA GPU set up correctly?\n",
    "tf.config.list_physical_devices('GPU')"
   ]
  },
  {
   "cell_type": "code",
   "execution_count": 3,
   "id": "22492b12",
   "metadata": {
    "scrolled": true
   },
   "outputs": [],
   "source": [
    "### Import CIFAR-10 Data ###\n",
    "(X_train, Y_train), (X_test, Y_test) = datasets.cifar10.load_data()"
   ]
  },
  {
   "cell_type": "code",
   "execution_count": 4,
   "id": "6013a97b",
   "metadata": {
    "scrolled": true
   },
   "outputs": [
    {
     "name": "stdout",
     "output_type": "stream",
     "text": [
      "(50000, 32, 32, 3)\n",
      "(10000, 32, 32, 3)\n"
     ]
    }
   ],
   "source": [
    "### Shape of the Training data ###\n",
    "print(X_train.shape)\n",
    "print(X_test.shape)"
   ]
  },
  {
   "cell_type": "code",
   "execution_count": 5,
   "id": "e612d9b3",
   "metadata": {
    "scrolled": true
   },
   "outputs": [
    {
     "name": "stdout",
     "output_type": "stream",
     "text": [
      "(50000, 1)\n",
      "(10000, 1)\n"
     ]
    }
   ],
   "source": [
    "### Shape of the Test data ###\n",
    "print(Y_train.shape)\n",
    "print(Y_test.shape)"
   ]
  },
  {
   "cell_type": "code",
   "execution_count": 6,
   "id": "505a5db4",
   "metadata": {
    "scrolled": true
   },
   "outputs": [
    {
     "data": {
      "text/plain": [
       "array([[6],\n",
       "       [9],\n",
       "       [9],\n",
       "       [4],\n",
       "       [1],\n",
       "       [1],\n",
       "       [2],\n",
       "       [7],\n",
       "       [8],\n",
       "       [3]], dtype=uint8)"
      ]
     },
     "execution_count": 6,
     "metadata": {},
     "output_type": "execute_result"
    }
   ],
   "source": [
    "### Dimensionality of Y_train ###\n",
    "Y_train[:10]"
   ]
  },
  {
   "cell_type": "code",
   "execution_count": 7,
   "id": "90aa7c4e",
   "metadata": {
    "scrolled": true
   },
   "outputs": [
    {
     "data": {
      "text/plain": [
       "array([6, 9, 9, 4, 1, 1, 2, 7, 8, 3], dtype=uint8)"
      ]
     },
     "execution_count": 7,
     "metadata": {},
     "output_type": "execute_result"
    }
   ],
   "source": [
    "### Convert Y_train from a 2 dimensional to 1 dimensional array ###\n",
    "Y_train = Y_train.reshape(-1,)\n",
    "Y_train[:10]"
   ]
  },
  {
   "cell_type": "code",
   "execution_count": 8,
   "id": "d8e0986a",
   "metadata": {
    "scrolled": true
   },
   "outputs": [],
   "source": [
    "### Plot sample image ###\n",
    "# plt.imshow(X_train[35])"
   ]
  },
  {
   "cell_type": "code",
   "execution_count": 9,
   "id": "fff4576f",
   "metadata": {
    "scrolled": true
   },
   "outputs": [],
   "source": [
    "### Assign the classes with their actual names and not numbered labels ###\n",
    "classes = [\"airplane\",\"automobile\",\"bird\",\"cat\",\"deer\",\"dog\",\"frog\",\"horse\",\"ship\",\"truck\"]"
   ]
  },
  {
   "cell_type": "code",
   "execution_count": 10,
   "id": "bddcadb6",
   "metadata": {
    "scrolled": true
   },
   "outputs": [
    {
     "data": {
      "image/png": "[encoded data removed]",
      "text/plain": [
       "<Figure size 1080x144 with 1 Axes>"
      ]
     },
     "metadata": {
      "needs_background": "light"
     },
     "output_type": "display_data"
    }
   ],
   "source": [
    "### Plot sample image again with the proper class label ###\n",
    "def plot_sample(X, y, index):\n",
    "    plt.figure(figsize = (15,2))\n",
    "    plt.imshow(X[index])\n",
    "    plt.xlabel(classes[y[index]])\n",
    "    \n",
    "plot_sample(X_train,Y_train,35)"
   ]
  },
  {
   "cell_type": "code",
   "execution_count": 11,
   "id": "9cc63f58",
   "metadata": {
    "scrolled": true
   },
   "outputs": [],
   "source": [
    "### Normalize data by dividing both X train test by 255 ###\n",
    "X_train = X_train / 255.0\n",
    "X_test = X_test / 255.0"
   ]
  },
  {
   "cell_type": "markdown",
   "id": "41a2899b",
   "metadata": {},
   "source": [
    "## Model 5: experimenting on model 3 w/ weight decay"
   ]
  },
  {
   "cell_type": "code",
   "execution_count": 22,
   "id": "6577818e",
   "metadata": {},
   "outputs": [],
   "source": [
    "start_time = timeit.default_timer()\n",
    "\n",
    "weight_decay = 1e-4\n",
    "\n",
    "# 81% @ 50 epochs\n",
    "model_5 = tf.keras.Sequential([\n",
    "    layers.Conv2D(32, (3, 3), activation='relu', padding='same', input_shape=(32, 32, 3),\n",
    "                 kernel_regularizer=tf.keras.regularizers.l2(weight_decay)),\n",
    "    layers.MaxPooling2D(pool_size=(2,2)),\n",
    "    layers.Dropout(0.1),\n",
    "    layers.BatchNormalization(),\n",
    "    \n",
    "    layers.Conv2D(64, 3, activation='relu', padding='same',\n",
    "                 kernel_regularizer=tf.keras.regularizers.l2(weight_decay)),\n",
    "    layers.MaxPooling2D(pool_size=(2,2)),\n",
    "    layers.Dropout(0.1),\n",
    "    layers.BatchNormalization(),\n",
    "    \n",
    "    layers.Conv2D(128, 3, activation='relu', padding='same',\n",
    "                 kernel_regularizer=tf.keras.regularizers.l2(weight_decay)),\n",
    "    layers.MaxPooling2D(2),\n",
    "    layers.Dropout(0.1),\n",
    "    layers.BatchNormalization(),\n",
    "    \n",
    "    layers.Conv2D(256, 3, activation='relu', padding='same'),\n",
    "    layers.MaxPooling2D(2),\n",
    "    layers.Dropout(0.2),\n",
    "    layers.BatchNormalization(),\n",
    "    \n",
    "    layers.Flatten(),\n",
    "    \n",
    "    layers.Dense(128, activation='relu'),\n",
    "    layers.Dropout(0.2),\n",
    "    layers.BatchNormalization(),\n",
    "    \n",
    "    layers.Dense(64, activation='relu'),\n",
    "    layers.Dropout(0.2),\n",
    "    layers.BatchNormalization(),\n",
    "    \n",
    "    layers.Dense(32, activation='relu'),\n",
    "    layers.Dropout(0.2),\n",
    "    layers.BatchNormalization(),\n",
    "    \n",
    "    layers.Dense(len(classes), activation='softmax'),\n",
    "])"
   ]
  },
  {
   "cell_type": "code",
   "execution_count": 23,
   "id": "0662d973",
   "metadata": {
    "scrolled": true
   },
   "outputs": [
    {
     "name": "stdout",
     "output_type": "stream",
     "text": [
      "Epoch 1/50\n",
      "391/391 [==============================] - 20s 47ms/step - loss: 1.7826 - accuracy: 0.3578 - val_loss: 4.3461 - val_accuracy: 0.1124\n",
      "Epoch 2/50\n",
      "391/391 [==============================] - 18s 45ms/step - loss: 1.3207 - accuracy: 0.5334 - val_loss: 1.1665 - val_accuracy: 0.5925\n",
      "Epoch 3/50\n",
      "391/391 [==============================] - 17s 45ms/step - loss: 1.1275 - accuracy: 0.6171 - val_loss: 0.9245 - val_accuracy: 0.6751\n",
      "Epoch 4/50\n",
      "391/391 [==============================] - 17s 45ms/step - loss: 0.9925 - accuracy: 0.6704 - val_loss: 1.0009 - val_accuracy: 0.6650\n",
      "Epoch 5/50\n",
      "391/391 [==============================] - 17s 45ms/step - loss: 0.9015 - accuracy: 0.7065 - val_loss: 1.1653 - val_accuracy: 0.6247\n",
      "Epoch 6/50\n",
      "391/391 [==============================] - 17s 44ms/step - loss: 0.8319 - accuracy: 0.7323 - val_loss: 0.8585 - val_accuracy: 0.7176\n",
      "Epoch 7/50\n",
      "391/391 [==============================] - 17s 45ms/step - loss: 0.7769 - accuracy: 0.7539 - val_loss: 0.7509 - val_accuracy: 0.7533\n",
      "Epoch 8/50\n",
      "391/391 [==============================] - 17s 45ms/step - loss: 0.7282 - accuracy: 0.7711 - val_loss: 0.7551 - val_accuracy: 0.7555\n",
      "Epoch 9/50\n",
      "391/391 [==============================] - 17s 44ms/step - loss: 0.6865 - accuracy: 0.7846 - val_loss: 0.7743 - val_accuracy: 0.7563\n",
      "Epoch 10/50\n",
      "391/391 [==============================] - 17s 44ms/step - loss: 0.6529 - accuracy: 0.7980 - val_loss: 0.9231 - val_accuracy: 0.7199\n",
      "Epoch 11/50\n",
      "391/391 [==============================] - 17s 45ms/step - loss: 0.6310 - accuracy: 0.8073 - val_loss: 0.6695 - val_accuracy: 0.7856\n",
      "Epoch 12/50\n",
      "391/391 [==============================] - 17s 44ms/step - loss: 0.5939 - accuracy: 0.8192 - val_loss: 0.7155 - val_accuracy: 0.7703\n",
      "Epoch 13/50\n",
      "391/391 [==============================] - 17s 44ms/step - loss: 0.5780 - accuracy: 0.8253 - val_loss: 0.6538 - val_accuracy: 0.7938\n",
      "Epoch 14/50\n",
      "391/391 [==============================] - 17s 44ms/step - loss: 0.5544 - accuracy: 0.8342 - val_loss: 0.7646 - val_accuracy: 0.7709\n",
      "Epoch 15/50\n",
      "391/391 [==============================] - 17s 44ms/step - loss: 0.5378 - accuracy: 0.8398 - val_loss: 0.6763 - val_accuracy: 0.7955\n",
      "Epoch 16/50\n",
      "391/391 [==============================] - 17s 44ms/step - loss: 0.5153 - accuracy: 0.8489 - val_loss: 0.7332 - val_accuracy: 0.7805\n",
      "Epoch 17/50\n",
      "391/391 [==============================] - 17s 43ms/step - loss: 0.5125 - accuracy: 0.8495 - val_loss: 0.7684 - val_accuracy: 0.7804\n",
      "Epoch 18/50\n",
      "391/391 [==============================] - 17s 43ms/step - loss: 0.4898 - accuracy: 0.8585 - val_loss: 0.7449 - val_accuracy: 0.7713\n",
      "Epoch 19/50\n",
      "391/391 [==============================] - 17s 44ms/step - loss: 0.4779 - accuracy: 0.8634 - val_loss: 0.7171 - val_accuracy: 0.7902\n",
      "Epoch 20/50\n",
      "391/391 [==============================] - 17s 44ms/step - loss: 0.4631 - accuracy: 0.8665 - val_loss: 0.8061 - val_accuracy: 0.7715\n",
      "Epoch 21/50\n",
      "391/391 [==============================] - 17s 44ms/step - loss: 0.4597 - accuracy: 0.8678 - val_loss: 0.6755 - val_accuracy: 0.8054\n",
      "Epoch 22/50\n",
      "391/391 [==============================] - 17s 44ms/step - loss: 0.4379 - accuracy: 0.8763 - val_loss: 0.7941 - val_accuracy: 0.7778\n",
      "Epoch 23/50\n",
      "391/391 [==============================] - 17s 44ms/step - loss: 0.4367 - accuracy: 0.8781 - val_loss: 0.6835 - val_accuracy: 0.8029\n",
      "Epoch 24/50\n",
      "391/391 [==============================] - 17s 44ms/step - loss: 0.4248 - accuracy: 0.8821 - val_loss: 0.8430 - val_accuracy: 0.7696\n",
      "Epoch 25/50\n",
      "391/391 [==============================] - 17s 45ms/step - loss: 0.4202 - accuracy: 0.8837 - val_loss: 0.6955 - val_accuracy: 0.7988\n",
      "Epoch 26/50\n",
      "391/391 [==============================] - 17s 44ms/step - loss: 0.4029 - accuracy: 0.8910 - val_loss: 0.7680 - val_accuracy: 0.7910\n",
      "Epoch 27/50\n",
      "391/391 [==============================] - 17s 44ms/step - loss: 0.3986 - accuracy: 0.8927 - val_loss: 0.8008 - val_accuracy: 0.7869\n",
      "Epoch 28/50\n",
      "391/391 [==============================] - 17s 44ms/step - loss: 0.3914 - accuracy: 0.8944 - val_loss: 0.6948 - val_accuracy: 0.8110\n",
      "Epoch 29/50\n",
      "391/391 [==============================] - 17s 44ms/step - loss: 0.3860 - accuracy: 0.8960 - val_loss: 0.7378 - val_accuracy: 0.7989\n",
      "Epoch 30/50\n",
      "391/391 [==============================] - 17s 44ms/step - loss: 0.3774 - accuracy: 0.8996 - val_loss: 0.7004 - val_accuracy: 0.8078\n",
      "Epoch 31/50\n",
      "391/391 [==============================] - 18s 46ms/step - loss: 0.3739 - accuracy: 0.9003 - val_loss: 0.6773 - val_accuracy: 0.8162\n",
      "Epoch 32/50\n",
      "391/391 [==============================] - 18s 45ms/step - loss: 0.3649 - accuracy: 0.9034 - val_loss: 0.6937 - val_accuracy: 0.8146\n",
      "Epoch 33/50\n",
      "391/391 [==============================] - 18s 45ms/step - loss: 0.3651 - accuracy: 0.9045 - val_loss: 0.7407 - val_accuracy: 0.8025\n",
      "Epoch 34/50\n",
      "391/391 [==============================] - 18s 45ms/step - loss: 0.3565 - accuracy: 0.9072 - val_loss: 0.9040 - val_accuracy: 0.7617\n",
      "Epoch 35/50\n",
      "391/391 [==============================] - 18s 45ms/step - loss: 0.3501 - accuracy: 0.9110 - val_loss: 0.7198 - val_accuracy: 0.8102\n",
      "Epoch 36/50\n",
      "391/391 [==============================] - 18s 45ms/step - loss: 0.3519 - accuracy: 0.9093 - val_loss: 0.7082 - val_accuracy: 0.8075\n",
      "Epoch 37/50\n",
      "391/391 [==============================] - 17s 45ms/step - loss: 0.3382 - accuracy: 0.9139 - val_loss: 0.7241 - val_accuracy: 0.8105\n",
      "Epoch 38/50\n",
      "391/391 [==============================] - 18s 46ms/step - loss: 0.3315 - accuracy: 0.9163 - val_loss: 0.7628 - val_accuracy: 0.8005\n",
      "Epoch 39/50\n",
      "391/391 [==============================] - 17s 44ms/step - loss: 0.3354 - accuracy: 0.9165 - val_loss: 1.0672 - val_accuracy: 0.7354\n",
      "Epoch 40/50\n",
      "391/391 [==============================] - 18s 45ms/step - loss: 0.3265 - accuracy: 0.9177 - val_loss: 0.7642 - val_accuracy: 0.8061\n",
      "Epoch 41/50\n",
      "391/391 [==============================] - 17s 44ms/step - loss: 0.3294 - accuracy: 0.9174 - val_loss: 0.8241 - val_accuracy: 0.7869\n",
      "Epoch 42/50\n",
      "391/391 [==============================] - 17s 44ms/step - loss: 0.3221 - accuracy: 0.9202 - val_loss: 0.7682 - val_accuracy: 0.8063\n",
      "Epoch 43/50\n",
      "391/391 [==============================] - 17s 44ms/step - loss: 0.3194 - accuracy: 0.9208 - val_loss: 0.7388 - val_accuracy: 0.8120\n",
      "Epoch 44/50\n",
      "391/391 [==============================] - 17s 44ms/step - loss: 0.3178 - accuracy: 0.9215 - val_loss: 0.7410 - val_accuracy: 0.8119\n",
      "Epoch 45/50\n",
      "391/391 [==============================] - 17s 44ms/step - loss: 0.3143 - accuracy: 0.9239 - val_loss: 0.7265 - val_accuracy: 0.8116\n",
      "Epoch 46/50\n",
      "391/391 [==============================] - 17s 44ms/step - loss: 0.3135 - accuracy: 0.9217 - val_loss: 0.7604 - val_accuracy: 0.8049\n",
      "Epoch 47/50\n",
      "391/391 [==============================] - 17s 44ms/step - loss: 0.3109 - accuracy: 0.9240 - val_loss: 0.7211 - val_accuracy: 0.8208\n",
      "Epoch 48/50\n",
      "391/391 [==============================] - 17s 44ms/step - loss: 0.3066 - accuracy: 0.9280 - val_loss: 0.7503 - val_accuracy: 0.8118\n",
      "Epoch 49/50\n",
      "391/391 [==============================] - 17s 44ms/step - loss: 0.3055 - accuracy: 0.9263 - val_loss: 0.7427 - val_accuracy: 0.8100\n",
      "Epoch 50/50\n",
      "391/391 [==============================] - 17s 44ms/step - loss: 0.3047 - accuracy: 0.9258 - val_loss: 0.7628 - val_accuracy: 0.8144\n"
     ]
    }
   ],
   "source": [
    "### Compile and Fit the model ###\n",
    "from tensorflow.keras.optimizers import Adam\n",
    "\n",
    "\n",
    "model_5.compile(optimizer=Adam(amsgrad=True), \n",
    "              loss='sparse_categorical_crossentropy',\n",
    "              metrics=['accuracy'])\n",
    "\n",
    "\n",
    "\n",
    "### Fitting the model with batch size of 128 and 20 training epochs ###\n",
    "history_5 = model_5.fit(X_train, \n",
    "                    Y_train, \n",
    "                    epochs=50,\n",
    "                    batch_size=128,\n",
    "                    verbose=1,\n",
    "                    validation_data=(X_test,Y_test))\n"
   ]
  },
  {
   "cell_type": "code",
   "execution_count": 24,
   "id": "01a95f78",
   "metadata": {},
   "outputs": [
    {
     "name": "stdout",
     "output_type": "stream",
     "text": [
      "313/313 [==============================] - 1s 4ms/step - loss: 0.7628 - accuracy: 0.8144\n"
     ]
    },
    {
     "data": {
      "text/plain": [
       "[0.7627822756767273, 0.8144000172615051]"
      ]
     },
     "execution_count": 24,
     "metadata": {},
     "output_type": "execute_result"
    }
   ],
   "source": [
    "model_5.evaluate(X_test,Y_test)"
   ]
  },
  {
   "cell_type": "code",
   "execution_count": 25,
   "id": "b850570b",
   "metadata": {},
   "outputs": [
    {
     "data": {
      "image/png": "[encoded data removed]",
      "text/plain": [
       "<Figure size 432x288 with 1 Axes>"
      ]
     },
     "metadata": {
      "needs_background": "light"
     },
     "output_type": "display_data"
    }
   ],
   "source": [
    "### Plot the comparison between training and test accuracy ###\n",
    "plt.plot(range(1,1+len(history_5.history['accuracy'])), history_5.history['accuracy'])\n",
    "plt.plot(range(1,1+len(history_5.history['val_accuracy'])), history_5.history['val_accuracy'])\n",
    "plt.title('Model Accuracy vs Number of Epochs')\n",
    "plt.ylabel('Accuracy')\n",
    "plt.xlabel('Epoch Number')\n",
    "plt.legend(['train', 'test'], loc='best')\n",
    "plt.xticks(np.arange(0, 60, 5))\n",
    "plt.show()"
   ]
  },
  {
   "cell_type": "code",
   "execution_count": 26,
   "id": "a8951932",
   "metadata": {},
   "outputs": [
    {
     "name": "stdout",
     "output_type": "stream",
     "text": [
      "Time Taken: 14.60 mins\n"
     ]
    }
   ],
   "source": [
    "mins = (timeit.default_timer() - start_time) / 60\n",
    "print(f'Time Taken: {mins:.2f} mins')"
   ]
  },
  {
   "cell_type": "markdown",
   "id": "ceb4bff8",
   "metadata": {},
   "source": [
    "## Model 6: Giovenale's model\n",
    "https://www.kaggle.com/c/cifar-10/discussion/40237"
   ]
  },
  {
   "cell_type": "code",
   "execution_count": 70,
   "id": "d6df2e54",
   "metadata": {},
   "outputs": [],
   "source": [
    "start_time = timeit.default_timer()\n",
    "\n",
    "\n",
    "baseMapNum = 32\n",
    "weight_decay = 1e-4\n",
    "\n",
    "# 84% @ 40 epochs\n",
    "model_6 = tf.keras.Sequential([\n",
    "    layers.Conv2D(baseMapNum, (3,3), padding='same', activation='relu', input_shape=X_train.shape[1:],\n",
    "                  kernel_regularizer=tf.keras.regularizers.l2(weight_decay)),\n",
    "    layers.BatchNormalization(),\n",
    "    layers.Conv2D(baseMapNum, (3,3), padding='same', activation='relu', \n",
    "                  kernel_regularizer=tf.keras.regularizers.l2(weight_decay)),\n",
    "    layers.BatchNormalization(),\n",
    "    layers.MaxPooling2D(pool_size=(2,2)),\n",
    "    layers.Dropout(0.2),\n",
    "    \n",
    "    layers.Conv2D(2*baseMapNum, (3,3), padding='same', activation='relu', \n",
    "                  kernel_regularizer=tf.keras.regularizers.l2(weight_decay)),\n",
    "    layers.BatchNormalization(),\n",
    "    layers.Conv2D(2*baseMapNum, (3,3), padding='same', activation='relu', \n",
    "                  kernel_regularizer=tf.keras.regularizers.l2(weight_decay)),\n",
    "    layers.BatchNormalization(),\n",
    "    layers.MaxPooling2D(pool_size=(2,2)),\n",
    "    layers.Dropout(0.3),  \n",
    "   \n",
    "    layers.Conv2D(4*baseMapNum, (3,3), padding='same', activation='relu', \n",
    "                  kernel_regularizer=tf.keras.regularizers.l2(weight_decay)),\n",
    "    layers.BatchNormalization(),\n",
    "    layers.BatchNormalization(),\n",
    "    layers.MaxPooling2D(pool_size=(2,2)),\n",
    "    layers.Dropout(0.4),\n",
    "    \n",
    "    layers.Flatten(),\n",
    "    layers.Dense(len(classes), activation='softmax'),\n",
    "    \n",
    "])"
   ]
  },
  {
   "cell_type": "code",
   "execution_count": 71,
   "id": "5b8859d6",
   "metadata": {},
   "outputs": [
    {
     "name": "stdout",
     "output_type": "stream",
     "text": [
      "Epoch 1/80\n",
      "391/391 [==============================] - 44s 108ms/step - loss: 1.8597 - accuracy: 0.4343 - val_loss: 2.8190 - val_accuracy: 0.2193\n",
      "Epoch 2/80\n",
      "391/391 [==============================] - 41s 106ms/step - loss: 1.2974 - accuracy: 0.5923 - val_loss: 1.0741 - val_accuracy: 0.6361\n",
      "Epoch 3/80\n",
      "391/391 [==============================] - 42s 107ms/step - loss: 1.0995 - accuracy: 0.6570 - val_loss: 1.0955 - val_accuracy: 0.6510\n",
      "Epoch 4/80\n",
      "391/391 [==============================] - 42s 106ms/step - loss: 0.9689 - accuracy: 0.6908 - val_loss: 0.8959 - val_accuracy: 0.7067\n",
      "Epoch 5/80\n",
      "391/391 [==============================] - 41s 106ms/step - loss: 0.8668 - accuracy: 0.7193 - val_loss: 0.9062 - val_accuracy: 0.7019\n",
      "Epoch 6/80\n",
      "391/391 [==============================] - 42s 107ms/step - loss: 0.8088 - accuracy: 0.7352 - val_loss: 0.8318 - val_accuracy: 0.7181\n",
      "Epoch 7/80\n",
      "391/391 [==============================] - 41s 106ms/step - loss: 0.7335 - accuracy: 0.7569 - val_loss: 0.7355 - val_accuracy: 0.7594\n",
      "Epoch 8/80\n",
      "391/391 [==============================] - 42s 107ms/step - loss: 0.6917 - accuracy: 0.7713 - val_loss: 0.7332 - val_accuracy: 0.7624\n",
      "Epoch 9/80\n",
      "391/391 [==============================] - 42s 108ms/step - loss: 0.6590 - accuracy: 0.7825 - val_loss: 0.6390 - val_accuracy: 0.7950\n",
      "Epoch 10/80\n",
      "391/391 [==============================] - 44s 111ms/step - loss: 0.6244 - accuracy: 0.7971 - val_loss: 0.6774 - val_accuracy: 0.7823\n",
      "Epoch 11/80\n",
      "391/391 [==============================] - 42s 108ms/step - loss: 0.6040 - accuracy: 0.8038 - val_loss: 0.6187 - val_accuracy: 0.7989\n",
      "Epoch 12/80\n",
      "391/391 [==============================] - 42s 106ms/step - loss: 0.5814 - accuracy: 0.8092 - val_loss: 0.6353 - val_accuracy: 0.7937\n",
      "Epoch 13/80\n",
      "391/391 [==============================] - 42s 107ms/step - loss: 0.5636 - accuracy: 0.8174 - val_loss: 0.6225 - val_accuracy: 0.8024\n",
      "Epoch 14/80\n",
      "391/391 [==============================] - 43s 110ms/step - loss: 0.5479 - accuracy: 0.8244 - val_loss: 0.6798 - val_accuracy: 0.7831\n",
      "Epoch 15/80\n",
      "391/391 [==============================] - 45s 114ms/step - loss: 0.5313 - accuracy: 0.8290 - val_loss: 0.6019 - val_accuracy: 0.8079\n",
      "Epoch 16/80\n",
      "391/391 [==============================] - 43s 111ms/step - loss: 0.5123 - accuracy: 0.8353 - val_loss: 0.6536 - val_accuracy: 0.7973\n",
      "Epoch 17/80\n",
      "391/391 [==============================] - 43s 110ms/step - loss: 0.5116 - accuracy: 0.8353 - val_loss: 0.6251 - val_accuracy: 0.8031\n",
      "Epoch 18/80\n",
      "391/391 [==============================] - 43s 109ms/step - loss: 0.4942 - accuracy: 0.8430 - val_loss: 0.7949 - val_accuracy: 0.7501\n",
      "Epoch 19/80\n",
      "391/391 [==============================] - 44s 112ms/step - loss: 0.4895 - accuracy: 0.8438 - val_loss: 0.5860 - val_accuracy: 0.8168\n",
      "Epoch 20/80\n",
      "391/391 [==============================] - 43s 111ms/step - loss: 0.4743 - accuracy: 0.8484 - val_loss: 0.7074 - val_accuracy: 0.7833\n",
      "Epoch 21/80\n",
      "391/391 [==============================] - 41s 106ms/step - loss: 0.4697 - accuracy: 0.8522 - val_loss: 0.5682 - val_accuracy: 0.8275\n",
      "Epoch 22/80\n",
      "391/391 [==============================] - 42s 107ms/step - loss: 0.4656 - accuracy: 0.8533 - val_loss: 0.5708 - val_accuracy: 0.8267\n",
      "Epoch 23/80\n",
      "391/391 [==============================] - 42s 108ms/step - loss: 0.4521 - accuracy: 0.8593 - val_loss: 0.6041 - val_accuracy: 0.8164\n",
      "Epoch 24/80\n",
      "391/391 [==============================] - 41s 106ms/step - loss: 0.4446 - accuracy: 0.8596 - val_loss: 0.6036 - val_accuracy: 0.8121\n",
      "Epoch 25/80\n",
      "391/391 [==============================] - 41s 106ms/step - loss: 0.4445 - accuracy: 0.8621 - val_loss: 0.5963 - val_accuracy: 0.8198\n",
      "Epoch 26/80\n",
      "391/391 [==============================] - 42s 106ms/step - loss: 0.4361 - accuracy: 0.8648 - val_loss: 0.5983 - val_accuracy: 0.8208\n",
      "Epoch 27/80\n",
      "391/391 [==============================] - 41s 106ms/step - loss: 0.4354 - accuracy: 0.8654 - val_loss: 0.6398 - val_accuracy: 0.8124\n",
      "Epoch 28/80\n",
      "391/391 [==============================] - 42s 109ms/step - loss: 0.4292 - accuracy: 0.8656 - val_loss: 0.5891 - val_accuracy: 0.8247\n",
      "Epoch 29/80\n",
      "391/391 [==============================] - 43s 110ms/step - loss: 0.4209 - accuracy: 0.8709 - val_loss: 0.5481 - val_accuracy: 0.8394\n",
      "Epoch 30/80\n",
      "391/391 [==============================] - 42s 106ms/step - loss: 0.4126 - accuracy: 0.8746 - val_loss: 0.5507 - val_accuracy: 0.8375\n",
      "Epoch 31/80\n",
      "391/391 [==============================] - 43s 110ms/step - loss: 0.4087 - accuracy: 0.8743 - val_loss: 0.5898 - val_accuracy: 0.8185\n",
      "Epoch 32/80\n",
      "391/391 [==============================] - 43s 109ms/step - loss: 0.4055 - accuracy: 0.8777 - val_loss: 0.6258 - val_accuracy: 0.8062\n",
      "Epoch 33/80\n",
      "391/391 [==============================] - 43s 111ms/step - loss: 0.4033 - accuracy: 0.8773 - val_loss: 0.5410 - val_accuracy: 0.8409\n",
      "Epoch 34/80\n",
      "391/391 [==============================] - 43s 109ms/step - loss: 0.4018 - accuracy: 0.8773 - val_loss: 0.5544 - val_accuracy: 0.8370\n",
      "Epoch 35/80\n",
      "391/391 [==============================] - 42s 107ms/step - loss: 0.3974 - accuracy: 0.8788 - val_loss: 0.6211 - val_accuracy: 0.8184\n",
      "Epoch 36/80\n",
      "391/391 [==============================] - 44s 113ms/step - loss: 0.3967 - accuracy: 0.8811 - val_loss: 0.6178 - val_accuracy: 0.8156\n",
      "Epoch 37/80\n",
      "391/391 [==============================] - 41s 106ms/step - loss: 0.3918 - accuracy: 0.8831 - val_loss: 0.5491 - val_accuracy: 0.8430\n",
      "Epoch 38/80\n",
      "391/391 [==============================] - 42s 108ms/step - loss: 0.3920 - accuracy: 0.8825 - val_loss: 0.5983 - val_accuracy: 0.8258\n",
      "Epoch 39/80\n",
      "391/391 [==============================] - 42s 108ms/step - loss: 0.3877 - accuracy: 0.8843 - val_loss: 0.5390 - val_accuracy: 0.8444\n",
      "Epoch 40/80\n",
      "391/391 [==============================] - 43s 109ms/step - loss: 0.3835 - accuracy: 0.8868 - val_loss: 0.6350 - val_accuracy: 0.8164\n",
      "Epoch 41/80\n",
      "391/391 [==============================] - 43s 109ms/step - loss: 0.3812 - accuracy: 0.8851 - val_loss: 0.5660 - val_accuracy: 0.8338\n",
      "Epoch 42/80\n",
      "391/391 [==============================] - 43s 109ms/step - loss: 0.3801 - accuracy: 0.8877 - val_loss: 0.5818 - val_accuracy: 0.8305\n",
      "Epoch 43/80\n",
      "391/391 [==============================] - 43s 109ms/step - loss: 0.3826 - accuracy: 0.8881 - val_loss: 0.5855 - val_accuracy: 0.8291\n",
      "Epoch 44/80\n",
      "391/391 [==============================] - 43s 109ms/step - loss: 0.3710 - accuracy: 0.8916 - val_loss: 0.5486 - val_accuracy: 0.8407\n",
      "Epoch 45/80\n",
      "391/391 [==============================] - 42s 108ms/step - loss: 0.3733 - accuracy: 0.8909 - val_loss: 0.5362 - val_accuracy: 0.8452\n",
      "Epoch 46/80\n",
      "391/391 [==============================] - 42s 107ms/step - loss: 0.3676 - accuracy: 0.8934 - val_loss: 0.6004 - val_accuracy: 0.8251\n",
      "Epoch 47/80\n",
      "391/391 [==============================] - 42s 108ms/step - loss: 0.3710 - accuracy: 0.8917 - val_loss: 0.5938 - val_accuracy: 0.8290\n",
      "Epoch 48/80\n",
      "391/391 [==============================] - 42s 109ms/step - loss: 0.3652 - accuracy: 0.8953 - val_loss: 0.5493 - val_accuracy: 0.8455\n",
      "Epoch 49/80\n",
      "391/391 [==============================] - 43s 109ms/step - loss: 0.3628 - accuracy: 0.8960 - val_loss: 0.5546 - val_accuracy: 0.8435\n",
      "Epoch 50/80\n",
      "391/391 [==============================] - 44s 111ms/step - loss: 0.3622 - accuracy: 0.8941 - val_loss: 0.5463 - val_accuracy: 0.8461\n",
      "Epoch 51/80\n",
      "391/391 [==============================] - 44s 111ms/step - loss: 0.3619 - accuracy: 0.8968 - val_loss: 0.6551 - val_accuracy: 0.8131\n",
      "Epoch 52/80\n",
      "391/391 [==============================] - 44s 112ms/step - loss: 0.3632 - accuracy: 0.8957 - val_loss: 0.5178 - val_accuracy: 0.8557\n",
      "Epoch 53/80\n",
      "391/391 [==============================] - 44s 114ms/step - loss: 0.3583 - accuracy: 0.8971 - val_loss: 0.6282 - val_accuracy: 0.8211\n",
      "Epoch 54/80\n",
      "391/391 [==============================] - 43s 111ms/step - loss: 0.3604 - accuracy: 0.8971 - val_loss: 0.6001 - val_accuracy: 0.8364\n",
      "Epoch 55/80\n",
      "391/391 [==============================] - 44s 113ms/step - loss: 0.3546 - accuracy: 0.8995 - val_loss: 0.5332 - val_accuracy: 0.8523\n",
      "Epoch 56/80\n",
      "391/391 [==============================] - 46s 117ms/step - loss: 0.3554 - accuracy: 0.8988 - val_loss: 0.6267 - val_accuracy: 0.8207\n",
      "Epoch 57/80\n",
      "391/391 [==============================] - 44s 112ms/step - loss: 0.3487 - accuracy: 0.9008 - val_loss: 0.5893 - val_accuracy: 0.8358\n",
      "Epoch 58/80\n",
      "391/391 [==============================] - 45s 115ms/step - loss: 0.3508 - accuracy: 0.9012 - val_loss: 0.6566 - val_accuracy: 0.8174\n",
      "Epoch 59/80\n",
      "391/391 [==============================] - 45s 115ms/step - loss: 0.3542 - accuracy: 0.8991 - val_loss: 0.6012 - val_accuracy: 0.8350\n",
      "Epoch 60/80\n",
      "391/391 [==============================] - 44s 112ms/step - loss: 0.3486 - accuracy: 0.9023 - val_loss: 0.5757 - val_accuracy: 0.8396\n",
      "Epoch 61/80\n",
      "391/391 [==============================] - 43s 110ms/step - loss: 0.3424 - accuracy: 0.9039 - val_loss: 0.5460 - val_accuracy: 0.8484\n",
      "Epoch 62/80\n",
      "391/391 [==============================] - 43s 109ms/step - loss: 0.3499 - accuracy: 0.9005 - val_loss: 0.5684 - val_accuracy: 0.8418\n",
      "Epoch 63/80\n",
      "391/391 [==============================] - 42s 108ms/step - loss: 0.3449 - accuracy: 0.9038 - val_loss: 0.5559 - val_accuracy: 0.8462\n",
      "Epoch 64/80\n",
      "391/391 [==============================] - 43s 109ms/step - loss: 0.3464 - accuracy: 0.9041 - val_loss: 0.5595 - val_accuracy: 0.8493\n",
      "Epoch 65/80\n",
      "391/391 [==============================] - 43s 111ms/step - loss: 0.3415 - accuracy: 0.9057 - val_loss: 0.5671 - val_accuracy: 0.8421\n",
      "Epoch 66/80\n",
      "391/391 [==============================] - 43s 111ms/step - loss: 0.3420 - accuracy: 0.9045 - val_loss: 0.6294 - val_accuracy: 0.8236\n",
      "Epoch 67/80\n",
      "391/391 [==============================] - 43s 111ms/step - loss: 0.3417 - accuracy: 0.9060 - val_loss: 0.5762 - val_accuracy: 0.8461\n",
      "Epoch 68/80\n",
      "391/391 [==============================] - 43s 110ms/step - loss: 0.3406 - accuracy: 0.9064 - val_loss: 0.6182 - val_accuracy: 0.8300\n",
      "Epoch 69/80\n",
      "391/391 [==============================] - 43s 110ms/step - loss: 0.3408 - accuracy: 0.9055 - val_loss: 0.5678 - val_accuracy: 0.8442\n",
      "Epoch 70/80\n",
      "391/391 [==============================] - 42s 109ms/step - loss: 0.3420 - accuracy: 0.9053 - val_loss: 0.5626 - val_accuracy: 0.8473\n",
      "Epoch 71/80\n",
      "391/391 [==============================] - 42s 108ms/step - loss: 0.3385 - accuracy: 0.9063 - val_loss: 0.5840 - val_accuracy: 0.8386\n",
      "Epoch 72/80\n",
      "391/391 [==============================] - 42s 109ms/step - loss: 0.3406 - accuracy: 0.9062 - val_loss: 0.6120 - val_accuracy: 0.8322\n",
      "Epoch 73/80\n",
      "391/391 [==============================] - 42s 108ms/step - loss: 0.3411 - accuracy: 0.9060 - val_loss: 0.5583 - val_accuracy: 0.8491\n",
      "Epoch 74/80\n",
      "391/391 [==============================] - 42s 108ms/step - loss: 0.3334 - accuracy: 0.9099 - val_loss: 0.5534 - val_accuracy: 0.8486\n",
      "Epoch 75/80\n",
      "391/391 [==============================] - 44s 113ms/step - loss: 0.3338 - accuracy: 0.9086 - val_loss: 0.5930 - val_accuracy: 0.8406\n",
      "Epoch 76/80\n",
      "391/391 [==============================] - 45s 116ms/step - loss: 0.3330 - accuracy: 0.9096 - val_loss: 0.5843 - val_accuracy: 0.8382\n",
      "Epoch 77/80\n",
      "391/391 [==============================] - 45s 115ms/step - loss: 0.3322 - accuracy: 0.9086 - val_loss: 0.5548 - val_accuracy: 0.8484\n",
      "Epoch 78/80\n",
      "391/391 [==============================] - 43s 110ms/step - loss: 0.3337 - accuracy: 0.9084 - val_loss: 0.5768 - val_accuracy: 0.8433\n",
      "Epoch 79/80\n",
      "391/391 [==============================] - 44s 112ms/step - loss: 0.3339 - accuracy: 0.9094 - val_loss: 0.5491 - val_accuracy: 0.8513\n",
      "Epoch 80/80\n",
      "391/391 [==============================] - 45s 115ms/step - loss: 0.3299 - accuracy: 0.9116 - val_loss: 0.5433 - val_accuracy: 0.8515\n"
     ]
    }
   ],
   "source": [
    "### Compile and Fit the model ###\n",
    "from tensorflow.keras.optimizers import Adam\n",
    "\n",
    "\n",
    "model_6.compile(optimizer=Adam(amsgrad=True), \n",
    "              loss='sparse_categorical_crossentropy',\n",
    "              metrics=['accuracy'])\n",
    "\n",
    "\n",
    "\n",
    "### Fitting the model with batch size of 128 and 20 training epochs ###\n",
    "history_6 = model_6.fit(X_train, \n",
    "                    Y_train, \n",
    "                    epochs=80,\n",
    "                    batch_size=128,\n",
    "                    verbose=1,\n",
    "                    validation_data=(X_test,Y_test))"
   ]
  },
  {
   "cell_type": "code",
   "execution_count": 72,
   "id": "515e7f6a",
   "metadata": {},
   "outputs": [
    {
     "name": "stdout",
     "output_type": "stream",
     "text": [
      "313/313 [==============================] - 2s 6ms/step - loss: 0.5433 - accuracy: 0.8515\n"
     ]
    },
    {
     "data": {
      "text/plain": [
       "[0.5432793498039246, 0.8514999747276306]"
      ]
     },
     "execution_count": 72,
     "metadata": {},
     "output_type": "execute_result"
    }
   ],
   "source": [
    "model_6.evaluate(X_test,Y_test)"
   ]
  },
  {
   "cell_type": "code",
   "execution_count": 73,
   "id": "6f9d227e",
   "metadata": {},
   "outputs": [
    {
     "data": {
      "image/png": "[encoded data removed]",
      "text/plain": [
       "<Figure size 432x288 with 1 Axes>"
      ]
     },
     "metadata": {
      "needs_background": "light"
     },
     "output_type": "display_data"
    }
   ],
   "source": [
    "### Plot the comparison between training and test accuracy ###\n",
    "plt.plot(range(1,1+len(history_6.history['accuracy'])), history_6.history['accuracy'])\n",
    "plt.plot(range(1,1+len(history_6.history['val_accuracy'])), history_6.history['val_accuracy'])\n",
    "plt.title('Model Accuracy vs Number of Epochs')\n",
    "plt.ylabel('Accuracy')\n",
    "plt.xlabel('Epoch Number')\n",
    "plt.legend(['train', 'test'], loc='best')\n",
    "plt.xticks(np.arange(0, 100, 5))\n",
    "plt.show()"
   ]
  },
  {
   "cell_type": "code",
   "execution_count": 74,
   "id": "c2a2f60b",
   "metadata": {},
   "outputs": [
    {
     "name": "stdout",
     "output_type": "stream",
     "text": [
      "Time Taken: 57.18 mins\n"
     ]
    }
   ],
   "source": [
    "mins = (timeit.default_timer() - start_time) / 60\n",
    "print(f'Time Taken: {mins:.2f} mins')"
   ]
  }
 ],
 "metadata": {
  "kernelspec": {
   "display_name": "Python 3",
   "language": "python",
   "name": "python3"
  },
  "language_info": {
   "codemirror_mode": {
    "name": "ipython",
    "version": 3
   },
   "file_extension": ".py",
   "mimetype": "text/x-python",
   "name": "python",
   "nbconvert_exporter": "python",
   "pygments_lexer": "ipython3",
   "version": "3.8.10"
  }
 },
 "nbformat": 4,
 "nbformat_minor": 5
}
