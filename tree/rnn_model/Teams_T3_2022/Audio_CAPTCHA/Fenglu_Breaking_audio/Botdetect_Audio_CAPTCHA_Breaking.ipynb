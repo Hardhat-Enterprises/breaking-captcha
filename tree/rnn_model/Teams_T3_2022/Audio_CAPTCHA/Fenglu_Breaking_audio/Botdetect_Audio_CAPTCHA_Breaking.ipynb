{
  "nbformat": 4,
  "nbformat_minor": 0,
  "metadata": {
    "colab": {
      "provenance": [],
      "authorship_tag": "ABX9TyPqD0/yT9GPBCHjyLP8KfFn",
      "include_colab_link": true
    },
    "kernelspec": {
      "name": "python3",
      "display_name": "Python 3"
    },
    "language_info": {
      "name": "python"
    },
    "accelerator": "GPU",
    "gpuClass": "standard"
  },
  "cells": [
    {
      "cell_type": "markdown",
      "metadata": {
        "id": "view-in-github",
        "colab_type": "text"
      },
      "source": [
        "<a href=\"https://colab.research.google.com/github/Xiaolumang/breaking-captcha/blob/main/tree/rnn_model/Teams_T3_2022/Audio_CAPTCHA/Fenglu_Breaking_audio/Botdetect_Audio_CAPTCHA_Breaking.ipynb\" target=\"_parent\"><img src=\"https://colab.research.google.com/assets/colab-badge.svg\" alt=\"Open In Colab\"/></a>"
      ]
    },
    {
      "cell_type": "code",
      "execution_count": null,
      "metadata": {
        "colab": {
          "base_uri": "https://localhost:8080/"
        },
        "id": "U8aAtD3xw9dH",
        "outputId": "ad17a9f0-a771-4b19-ad69-d8db2fede9fa"
      },
      "outputs": [
        {
          "output_type": "stream",
          "name": "stdout",
          "text": [
            "Drive already mounted at /content/drive; to attempt to forcibly remount, call drive.mount(\"/content/drive\", force_remount=True).\n"
          ]
        }
      ],
      "source": [
        "import librosa\n",
        "import librosa.display\n",
        "import torch\n",
        "import torchvision\n",
        "from torch.utils.data import Dataset, DataLoader\n",
        "import numpy as np\n",
        "import math\n",
        "import torch.nn as nn\n",
        "import matplotlib.pyplot as plt\n",
        "import string\n",
        "import io\n",
        "import os\n",
        "import unicodedata\n",
        "import string\n",
        "import glob\n",
        "\n",
        "import torch\n",
        "import random\n",
        "\n",
        "from google.colab import drive\n",
        "drive.mount('/content/drive')\n"
      ]
    },
    {
      "cell_type": "code",
      "source": [
        "input_size = 13\n",
        "hidden_size = 256\n",
        "#num_layers \n",
        "learning_rate = 0.001\n",
        "num_classes = 62  #26 + 26 + 10\n",
        "\n",
        "batch_size = 64\n",
        "# Use Mel-frequency ceptrum coefficients from wav signals\n",
        "def extract_mfcc(audio_path):\n",
        "  x, sr = librosa.load(audio_path)\n",
        "  mfccs = librosa.feature.mfcc(x, sr=sr,n_mfcc=input_size)\n",
        "  return mfccs.T"
      ],
      "metadata": {
        "id": "y0oUmfL15D2u"
      },
      "execution_count": null,
      "outputs": []
    },
    {
      "cell_type": "code",
      "source": [
        "t = string.ascii_letters+string.digits\n",
        "lookup = dict()\n",
        "for x, y in enumerate([*t]):\n",
        "  lookup[y] = x"
      ],
      "metadata": {
        "id": "EkK8WxkFz0DD"
      },
      "execution_count": null,
      "outputs": []
    },
    {
      "cell_type": "code",
      "source": [
        "class CAPTCHADataset(Dataset):\n",
        "  def __init__(self):\n",
        "    super().__init__()\n",
        "    file_path = '/content/drive/MyDrive/Deakin_2022_T3/SIT782_CapstoneB/CAPTCHAs/botdetect'\n",
        "    audio_dataset = []\n",
        "    for x in glob.glob(os.path.join(file_path,'*.wav')):\n",
        "      mfcc = extract_mfcc(x)\n",
        "#  print(mfcc.shape)\n",
        "      audio_dataset.append(torch.Tensor(mfcc))\n",
        "    self.x_data = torch.nn.utils.rnn.pad_sequence(audio_dataset,batch_first=True,padding_value=0)\n",
        "    with open(os.path.join(file_path, 'labels.txt')) as f:\n",
        "      self.y_data = [lookup[x.strip()] for x in f.readlines()]\n",
        "    self.min_len = min(len(self.x_data),len(self.y_data))\n",
        "    \n",
        "  def __getitem__(self, index):\n",
        "      sample = self.x_data[index], self.y_data[index]\n",
        "      return sample\n",
        "    \n",
        "  def __len__(self):\n",
        "      return self.min_len\n"
      ],
      "metadata": {
        "id": "PyQt0XsknOFJ"
      },
      "execution_count": null,
      "outputs": []
    },
    {
      "cell_type": "code",
      "source": [
        "dataset = CAPTCHADataset()"
      ],
      "metadata": {
        "id": "GUOlI-Niq9Ji"
      },
      "execution_count": null,
      "outputs": []
    },
    {
      "cell_type": "code",
      "source": [
        "data_loader = DataLoader(dataset=dataset, batch_size=batch_size, shuffle=True,num_workers=2)"
      ],
      "metadata": {
        "id": "CrjhG8qx6pb1"
      },
      "execution_count": null,
      "outputs": []
    },
    {
      "cell_type": "code",
      "source": [
        "device = torch.device('cuda' if torch.cuda.is_available() else 'cpu')\n",
        "num_epochs = 100\n",
        "num_layers=2\n",
        "num_iterations = math.ceil(len(dataset)/batch_size)\n",
        "class LSTM(nn.Module):\n",
        "  def __init__(self, input_size, hidden_size,num_layers, num_classes):\n",
        "    super().__init__()\n",
        "    self.hidden_size = hidden_size\n",
        "    self.num_layers = num_layers\n",
        "    self.lstm = nn.LSTM(input_size, hidden_size, num_layers, batch_first=True)\n",
        "    self.fc = nn.Linear(hidden_size, num_classes )\n",
        "\n",
        "  def forward(self, x):\n",
        "    h0 = torch.zeros(self.num_layers, x.size(0), self.hidden_size).to(device)\n",
        "    c0 = torch.zeros(self.num_layers, x.size(0), self.hidden_size).to(device)\n",
        "\n",
        "    out, _ = self.lstm(x,(h0,c0))\n",
        "    out = out[:, -1, :]\n",
        "\n",
        "    out = self.fc(out)\n",
        "    return out\n"
      ],
      "metadata": {
        "id": "xOqy_wR1hFiC"
      },
      "execution_count": null,
      "outputs": []
    },
    {
      "cell_type": "code",
      "source": [
        "model = LSTM(input_size, hidden_size, num_layers, num_classes)\n",
        "model = model.to(device)\n",
        "criterion = nn.CrossEntropyLoss()\n",
        "optimizer = torch.optim.Adam(model.parameters(), lr=learning_rate)\n",
        "\n",
        "for epoch in range(num_epochs):\n",
        "  for batch_idx, (data, targets) in enumerate(data_loader):\n",
        "    \n",
        "    data = data.to(device=device).squeeze(1)\n",
        "    targets = targets.to(device=device)\n",
        "    scores = model(data)\n",
        "    loss = criterion(scores, targets)\n",
        "    if (batch_idx) % 20 == 0:\n",
        "      print(batch_idx)\n",
        "      print(f'epoch {epoch+1}/{num_epochs}, step {batch_idx+1}/{num_iterations} loss {loss}')\n",
        "    optimizer.zero_grad()\n",
        "    loss.backward()\n",
        "    optimizer.step()"
      ],
      "metadata": {
        "id": "d8y7BbUp0tdW",
        "colab": {
          "base_uri": "https://localhost:8080/"
        },
        "outputId": "32ab74bd-b216-4659-e59d-b6898e12775f"
      },
      "execution_count": null,
      "outputs": [
        {
          "output_type": "stream",
          "name": "stdout",
          "text": [
            "0\n",
            "epoch 1/100, step 1/1 loss 4.136926174163818\n",
            "0\n",
            "epoch 2/100, step 1/1 loss 4.091273784637451\n",
            "0\n",
            "epoch 3/100, step 1/1 loss 4.043126583099365\n",
            "0\n",
            "epoch 4/100, step 1/1 loss 3.98577618598938\n",
            "0\n",
            "epoch 5/100, step 1/1 loss 3.912424087524414\n",
            "0\n",
            "epoch 6/100, step 1/1 loss 3.800797700881958\n",
            "0\n",
            "epoch 7/100, step 1/1 loss 3.6065165996551514\n",
            "0\n",
            "epoch 8/100, step 1/1 loss 3.1911020278930664\n",
            "0\n",
            "epoch 9/100, step 1/1 loss 2.5667312145233154\n",
            "0\n",
            "epoch 10/100, step 1/1 loss 2.28601336479187\n",
            "0\n",
            "epoch 11/100, step 1/1 loss 2.20454478263855\n",
            "0\n",
            "epoch 12/100, step 1/1 loss 2.154461622238159\n",
            "0\n",
            "epoch 13/100, step 1/1 loss 2.1384928226470947\n",
            "0\n",
            "epoch 14/100, step 1/1 loss 2.130995273590088\n",
            "0\n",
            "epoch 15/100, step 1/1 loss 2.11687970161438\n",
            "0\n",
            "epoch 16/100, step 1/1 loss 2.100524425506592\n",
            "0\n",
            "epoch 17/100, step 1/1 loss 2.088300943374634\n",
            "0\n",
            "epoch 18/100, step 1/1 loss 2.1676769256591797\n",
            "0\n",
            "epoch 19/100, step 1/1 loss 2.151745080947876\n",
            "0\n",
            "epoch 20/100, step 1/1 loss 2.0733630657196045\n",
            "0\n",
            "epoch 21/100, step 1/1 loss 2.0685713291168213\n",
            "0\n",
            "epoch 22/100, step 1/1 loss 2.064765691757202\n",
            "0\n",
            "epoch 23/100, step 1/1 loss 2.064182996749878\n",
            "0\n",
            "epoch 24/100, step 1/1 loss 2.0667471885681152\n",
            "0\n",
            "epoch 25/100, step 1/1 loss 2.069856882095337\n",
            "0\n",
            "epoch 26/100, step 1/1 loss 2.0708062648773193\n",
            "0\n",
            "epoch 27/100, step 1/1 loss 2.0688815116882324\n",
            "0\n",
            "epoch 28/100, step 1/1 loss 2.06352162361145\n",
            "0\n",
            "epoch 29/100, step 1/1 loss 2.0601723194122314\n",
            "0\n",
            "epoch 30/100, step 1/1 loss 2.057659149169922\n",
            "0\n",
            "epoch 31/100, step 1/1 loss 2.058262825012207\n",
            "0\n",
            "epoch 32/100, step 1/1 loss 2.0561954975128174\n",
            "0\n",
            "epoch 33/100, step 1/1 loss 2.0591793060302734\n",
            "0\n",
            "epoch 34/100, step 1/1 loss 2.0556044578552246\n",
            "0\n",
            "epoch 35/100, step 1/1 loss 2.0529401302337646\n",
            "0\n",
            "epoch 36/100, step 1/1 loss 2.054251194000244\n",
            "0\n",
            "epoch 37/100, step 1/1 loss 2.0591487884521484\n",
            "0\n",
            "epoch 38/100, step 1/1 loss 2.059441089630127\n",
            "0\n",
            "epoch 39/100, step 1/1 loss 2.0591232776641846\n",
            "0\n",
            "epoch 40/100, step 1/1 loss 2.0582761764526367\n",
            "0\n",
            "epoch 41/100, step 1/1 loss 2.0562610626220703\n",
            "0\n",
            "epoch 42/100, step 1/1 loss 2.0546441078186035\n",
            "0\n",
            "epoch 43/100, step 1/1 loss 2.0544371604919434\n",
            "0\n",
            "epoch 44/100, step 1/1 loss 2.0580644607543945\n",
            "0\n",
            "epoch 45/100, step 1/1 loss 2.057859182357788\n",
            "0\n",
            "epoch 46/100, step 1/1 loss 2.0574758052825928\n",
            "0\n",
            "epoch 47/100, step 1/1 loss 2.0571701526641846\n",
            "0\n",
            "epoch 48/100, step 1/1 loss 2.0571389198303223\n",
            "0\n",
            "epoch 49/100, step 1/1 loss 2.057385206222534\n",
            "0\n",
            "epoch 50/100, step 1/1 loss 2.0576956272125244\n",
            "0\n",
            "epoch 51/100, step 1/1 loss 2.0578315258026123\n",
            "0\n",
            "epoch 52/100, step 1/1 loss 2.0577054023742676\n",
            "0\n",
            "epoch 53/100, step 1/1 loss 2.057424783706665\n",
            "0\n",
            "epoch 54/100, step 1/1 loss 2.057175874710083\n",
            "0\n",
            "epoch 55/100, step 1/1 loss 2.0570671558380127\n",
            "0\n",
            "epoch 56/100, step 1/1 loss 2.0570528507232666\n",
            "0\n",
            "epoch 57/100, step 1/1 loss 2.0570333003997803\n",
            "0\n",
            "epoch 58/100, step 1/1 loss 2.0569698810577393\n",
            "0\n",
            "epoch 59/100, step 1/1 loss 2.0568912029266357\n",
            "0\n",
            "epoch 60/100, step 1/1 loss 2.0568490028381348\n",
            "0\n",
            "epoch 61/100, step 1/1 loss 2.056870222091675\n",
            "0\n",
            "epoch 62/100, step 1/1 loss 2.0569241046905518\n",
            "0\n",
            "epoch 63/100, step 1/1 loss 2.056950330734253\n",
            "0\n",
            "epoch 64/100, step 1/1 loss 2.0569283962249756\n",
            "0\n",
            "epoch 65/100, step 1/1 loss 2.0568814277648926\n",
            "0\n",
            "epoch 66/100, step 1/1 loss 2.056833505630493\n",
            "0\n",
            "epoch 67/100, step 1/1 loss 2.056788921356201\n",
            "0\n",
            "epoch 68/100, step 1/1 loss 2.0567445755004883\n",
            "0\n",
            "epoch 69/100, step 1/1 loss 2.0567026138305664\n",
            "0\n",
            "epoch 70/100, step 1/1 loss 2.05667781829834\n",
            "0\n",
            "epoch 71/100, step 1/1 loss 2.056675434112549\n",
            "0\n",
            "epoch 72/100, step 1/1 loss 2.056684732437134\n",
            "0\n",
            "epoch 73/100, step 1/1 loss 2.0566885471343994\n",
            "0\n",
            "epoch 74/100, step 1/1 loss 2.0566811561584473\n",
            "0\n",
            "epoch 75/100, step 1/1 loss 2.0566656589508057\n",
            "0\n",
            "epoch 76/100, step 1/1 loss 2.056654691696167\n",
            "0\n",
            "epoch 77/100, step 1/1 loss 2.056649923324585\n",
            "0\n",
            "epoch 78/100, step 1/1 loss 2.0566396713256836\n",
            "0\n",
            "epoch 79/100, step 1/1 loss 2.0566179752349854\n",
            "0\n",
            "epoch 80/100, step 1/1 loss 2.0565924644470215\n",
            "0\n",
            "epoch 81/100, step 1/1 loss 2.0565755367279053\n",
            "0\n",
            "epoch 82/100, step 1/1 loss 2.0565707683563232\n",
            "0\n",
            "epoch 83/100, step 1/1 loss 2.0565738677978516\n",
            "0\n",
            "epoch 84/100, step 1/1 loss 2.056572914123535\n",
            "0\n",
            "epoch 85/100, step 1/1 loss 2.056565523147583\n",
            "0\n",
            "epoch 86/100, step 1/1 loss 2.0565574169158936\n",
            "0\n",
            "epoch 87/100, step 1/1 loss 2.056551456451416\n",
            "0\n",
            "epoch 88/100, step 1/1 loss 2.056547164916992\n",
            "0\n",
            "epoch 89/100, step 1/1 loss 2.056540012359619\n",
            "0\n",
            "epoch 90/100, step 1/1 loss 2.0565285682678223\n",
            "0\n",
            "epoch 91/100, step 1/1 loss 2.0565173625946045\n",
            "0\n",
            "epoch 92/100, step 1/1 loss 2.0565102100372314\n"
          ]
        }
      ]
    },
    {
      "cell_type": "code",
      "source": [],
      "metadata": {
        "id": "sOVmWlBF0tLy"
      },
      "execution_count": null,
      "outputs": []
    },
    {
      "cell_type": "code",
      "source": [],
      "metadata": {
        "id": "9gAgtzk40tI_"
      },
      "execution_count": null,
      "outputs": []
    },
    {
      "cell_type": "code",
      "source": [],
      "metadata": {
        "id": "6vnyMBhH0tGZ"
      },
      "execution_count": null,
      "outputs": []
    },
    {
      "cell_type": "code",
      "source": [],
      "metadata": {
        "id": "BbNYqXyZ0tDw"
      },
      "execution_count": null,
      "outputs": []
    },
    {
      "cell_type": "code",
      "source": [],
      "metadata": {
        "id": "NrMB-3T10tBN"
      },
      "execution_count": null,
      "outputs": []
    },
    {
      "cell_type": "code",
      "source": [],
      "metadata": {
        "id": "5OSomlml0s-G"
      },
      "execution_count": null,
      "outputs": []
    }
  ]
}