{
 "cells": [
  {
   "cell_type": "code",
   "execution_count": 1,
   "id": "0ac84e5c",
   "metadata": {},
   "outputs": [],
   "source": [
    "import matplotlib.pyplot as plt\n",
    "import matplotlib.image as img\n",
    "import os\n",
    "import numpy as np\n",
    "import pandas as pd\n",
    "from tensorflow import keras as k\n",
    "from keras.utils import np_utils\n",
    "import cv2\n",
    "from PIL import Image\n",
    "from keras.preprocessing.image import ImageDataGenerator\n",
    "from keras.utils import img_to_array\n",
    "from sklearn.preprocessing import LabelEncoder, OneHotEncoder\n",
    "from sklearn.model_selection import train_test_split\n",
    "from keras.models import Sequential\n",
    "from keras.layers import Activation, MaxPooling2D, Flatten, Conv2D, Dropout, Dense\n",
    "from sklearn.svm import SVC\n",
    "from sklearn import metrics"
   ]
  },
  {
   "cell_type": "code",
   "execution_count": 2,
   "id": "75bd01aa",
   "metadata": {},
   "outputs": [],
   "source": [
    "X=[]\n",
    "y=[]\n",
    "\n",
    "# Looping through the folder for the images\n",
    "for dirname, _, filenames in os.walk(\"/Users/ceciliasammut/Desktop/samples\"):\n",
    "    for filename in filenames:\n",
    "        path=os.path.join(dirname, filename) \n",
    "        \n",
    "### Preprocessing\n",
    "\n",
    "        image = cv2.imread(path, cv2.IMREAD_GRAYSCALE)\n",
    "        image = cv2.adaptiveThreshold(image, 255, cv2.ADAPTIVE_THRESH_GAUSSIAN_C, cv2.THRESH_BINARY, 145, 0)\n",
    "        kernel = np.ones((5,5),np.uint8)\n",
    "        image = cv2.morphologyEx(image, cv2.MORPH_CLOSE, kernel)\n",
    "        kernel = np.ones((2,2),np.uint8)\n",
    "        image = cv2.dilate(image, kernel, iterations = 1)\n",
    "        image = cv2.GaussianBlur(image, (5,5), 0)\n",
    "        \n",
    "###Segmenting\n",
    "        x=[image[10:50,30:50],image[10:50,50:70],\n",
    "                 image[10:50,70:90],image[10:50,90:110],image[10:50,110:130]]\n",
    "\n",
    "# Adding labels to the individual segmented letters\n",
    "        for i in range(5):\n",
    "            X.append(img_to_array(Image.fromarray(x[i])))\n",
    "            y.append(path[len(path)-9:len(path)-4][i])\n",
    "\n",
    "X=np.array(X)\n",
    "y=np.array(y)\n",
    "\n",
    "X = pd.DataFrame(X.reshape(5355,800))\n",
    "X=X.astype('float32')\n",
    "X/=255"
   ]
  },
  {
   "cell_type": "code",
   "execution_count": 3,
   "id": "c06091ac",
   "metadata": {},
   "outputs": [],
   "source": [
    "#train_test split\n",
    "\n",
    "X_train, X_test, y_train, y_test = train_test_split(X, y, test_size = 0.2, random_state = 42)\n",
    "\n",
    "info = {y[i] : y[i] for i in range(len(y))}"
   ]
  },
  {
   "cell_type": "code",
   "execution_count": 4,
   "id": "4a6f05b4",
   "metadata": {},
   "outputs": [],
   "source": [
    "# model - fit - predict\n",
    "non_linear_model = SVC(kernel='rbf')\n",
    "non_linear_model.fit(X_train, y_train)\n",
    "y_pred = non_linear_model.predict(X_test)"
   ]
  },
  {
   "cell_type": "code",
   "execution_count": 5,
   "id": "f9400b17",
   "metadata": {},
   "outputs": [
    {
     "name": "stdout",
     "output_type": "stream",
     "text": [
      "accuracy: 0.8720821661998133 \n",
      "\n"
     ]
    }
   ],
   "source": [
    "# accuracy\n",
    "print(\"accuracy:\", metrics.accuracy_score(y_true=y_test, y_pred=y_pred), \"\\n\")"
   ]
  },
  {
   "cell_type": "code",
   "execution_count": 6,
   "id": "29a7b55c",
   "metadata": {},
   "outputs": [],
   "source": [
    "### predictor function\n",
    "def predictor (img_path) :\n",
    "    \n",
    "    img = cv2.imread(img_path, cv2.IMREAD_GRAYSCALE)\n",
    "    \n",
    "    plt.imshow(img, cmap='gray')\n",
    "    plt.axis('off')\n",
    "    plt.show()\n",
    "    \n",
    "    #preprocessing\n",
    "    image = cv2.adaptiveThreshold(img, 255, cv2.ADAPTIVE_THRESH_GAUSSIAN_C, cv2.THRESH_BINARY, 145, 0)\n",
    "    image = cv2.adaptiveThreshold(image, 255, cv2.ADAPTIVE_THRESH_GAUSSIAN_C, cv2.THRESH_BINARY, 145, 0)\n",
    "    kernel = np.ones((5,5),np.uint8)\n",
    "    image = cv2.morphologyEx(image, cv2.MORPH_CLOSE, kernel)\n",
    "    kernel = np.ones((2,2),np.uint8)\n",
    "    image = cv2.dilate(image, kernel, iterations = 1)\n",
    "    image = cv2.GaussianBlur(image, (5,5), 0)\n",
    "    \n",
    "    #segmentation\n",
    "    x = [image[10:50, 30:50], image[10:50, 50:70], image[10:50, 70:90],\n",
    "                  image[10:50, 90:110], image[10:50, 110:130]]\n",
    "    \n",
    "    X_pred = []\n",
    "    for i in range(5) :\n",
    "        X_pred.append(img_to_array(Image.fromarray(x[i])))\n",
    "    \n",
    "    X_pred = np.array(X_pred)\n",
    "    X_pred/= 255.0\n",
    "    X_pred = pd.DataFrame(X_pred.reshape(5,800))\n",
    "    \n",
    "    y_pred = non_linear_model.predict(X_pred)\n",
    "    \n",
    "    print('Prediction: ', end='')\n",
    "    for res in y_pred :\n",
    "        print(info[res], end='')\n",
    "        \n",
    "    print('\\nActual:    ', img_path[len(img_path)-9:len(img_path)-4])"
   ]
  },
  {
   "cell_type": "code",
   "execution_count": 7,
   "id": "278f3c69",
   "metadata": {},
   "outputs": [
    {
     "data": {
      "image/png": "[encoded data removed]",
      "text/plain": [
       "<Figure size 432x288 with 1 Axes>"
      ]
     },
     "metadata": {
      "needs_background": "light"
     },
     "output_type": "display_data"
    },
    {
     "name": "stdout",
     "output_type": "stream",
     "text": [
      "Prediction: 8n5pn\n",
      "Actual:     8n5pn\n"
     ]
    }
   ],
   "source": [
    "#predicting via file with pathway\n",
    "predictor(\"/Users/ceciliasammut/Desktop/samples/8n5pn.png\")"
   ]
  },
  {
   "cell_type": "code",
   "execution_count": null,
   "id": "95a9d996",
   "metadata": {},
   "outputs": [],
   "source": []
  }
 ],
 "metadata": {
  "kernelspec": {
   "display_name": "Python 3 (ipykernel)",
   "language": "python",
   "name": "python3"
  },
  "language_info": {
   "codemirror_mode": {
    "name": "ipython",
    "version": 3
   },
   "file_extension": ".py",
   "mimetype": "text/x-python",
   "name": "python",
   "nbconvert_exporter": "python",
   "pygments_lexer": "ipython3",
   "version": "3.9.7"
  }
 },
 "nbformat": 4,
 "nbformat_minor": 5
}
