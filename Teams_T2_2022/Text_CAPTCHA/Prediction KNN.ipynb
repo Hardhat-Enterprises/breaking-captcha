{
 "cells": [
  {
   "cell_type": "code",
   "execution_count": null,
   "id": "42bb1e97",
   "metadata": {},
   "outputs": [],
   "source": [
    "#import nessesary libraries\n",
    "import numpy as np\n",
    "import matplotlib.pyplot as plt"
   ]
  },
  {
   "cell_type": "code",
   "execution_count": null,
   "id": "516928e9",
   "metadata": {},
   "outputs": [],
   "source": [
    "#path to captchas\n",
    "dataImages = \"path to folder\""
   ]
  },
  {
   "cell_type": "code",
   "execution_count": null,
   "id": "0b4b65cb",
   "metadata": {},
   "outputs": [],
   "source": [
    "# prediction function\n",
    "def knnPredict(img):\n",
    "        dataImagesPredict = []\n",
    "\n",
    "        imgErode = c.processImg(img)\n",
    "        imageRegions = c.getImgRegion(imgErode)\n",
    "\n",
    "        for points in imageRegions:\n",
    "            x, y, w, h = points\n",
    "\n",
    "            image = imgErode[y:y + h, x:x + w]\n",
    "\n",
    "            image = c.resizeImg(image, 20, 20)\n",
    "            image = np.expand_dims(image, axis=2)\n",
    "\n",
    "            dataImagesPredict.append(image)\n",
    "\n",
    "        dataImagesPredict = np.array(dataImagesPredict)/255\n",
    "        print(dataImagesPredict.shape)\n",
    "        \n",
    "        a = dataImagesPredict.shape\n",
    "        dataImagesPredict = dataImagesPredict.reshape((a))\n",
    "\n",
    "        for element in dataImagesPredict:\n",
    "            prediction = knn.predict(dataImagesPredict)\n",
    "            \n",
    "        print(\"CAPTCHA TEXT:\", prediction)\n",
    "        plt.imshow(imgErode, cmap='gray')\n",
    "        plt.axis('off')\n",
    "        plt.show()\n",
    "        "
   ]
  }
 ],
 "metadata": {
  "kernelspec": {
   "display_name": "Python 3",
   "language": "python",
   "name": "python3"
  },
  "language_info": {
   "codemirror_mode": {
    "name": "ipython",
    "version": 3
   },
   "file_extension": ".py",
   "mimetype": "text/x-python",
   "name": "python",
   "nbconvert_exporter": "python",
   "pygments_lexer": "ipython3",
   "version": "3.8.8"
  }
 },
 "nbformat": 4,
 "nbformat_minor": 5
}
