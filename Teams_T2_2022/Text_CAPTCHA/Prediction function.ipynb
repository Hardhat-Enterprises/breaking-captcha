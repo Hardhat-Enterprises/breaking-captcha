# -*- coding: utf-8 -*-
"""
Created on Fri Sep 1 15:07:19 2022

@author: ol
"""

import numpy as np
import matplotlib.pyplot as plt

dataImages = 'pathtofolder'

"""c = captcha"""
c = dataImages

def knnPredict(img):
        dataImagesPredict = []

        imgErode = c.processImg(img)
        imageRegions = c.getImgRegion(imgErode)

        for points in imageRegions:
            x, y, w, h = points

            image = imgErode[y:y + h, x:x + w]

            image = c.resizeImg(image, 20, 20)
            image = np.expand_dims(image, axis=2)

            dataImagesPredict.append(image)

        dataImagesPredict = np.array(dataImagesPredict)/255
        print(dataImagesPredict.shape)
        
        a = dataImagesPredict.shape
        dataImagesPredict = dataImagesPredict.reshape((a))

        for element in dataImagesPredict:
            prediction = knn.predict(dataImagesPredict)
            
        print("CAPTCHA TEXT:", prediction)
        plt.imshow(imgErode, cmap='gray')
        plt.axis('off')
        plt.show()
        
