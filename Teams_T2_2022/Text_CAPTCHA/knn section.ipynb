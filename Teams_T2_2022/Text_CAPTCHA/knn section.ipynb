# -*- coding: utf-8 -*-
"""
Created on Thu Aug 18 16:35:50 2022

@author: ol
"""

import numpy as np
from sklearn.model_selection import train_test_split

dataImages = "path to folder"
dataLabels = "path to folder"

(Xtrain, Xtest, Ytrain, Ytest) = train_test_split(dataImages, dataLabels, test_size=, random_state=)

from sklearn.neighbors import KNeighborsClassifier
        
knn = KNeighborsClassifier(n_neighbors=)
knn.fit(Xtrain,Ytrain)

knn.fit(Xtrain,Ytrain)
y_pred = knn.predict(Xtest)