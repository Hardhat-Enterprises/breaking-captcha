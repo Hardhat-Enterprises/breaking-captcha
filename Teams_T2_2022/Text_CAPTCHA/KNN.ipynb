{
 "cells": [
  {
   "cell_type": "code",
   "execution_count": null,
   "id": "f247d883",
   "metadata": {},
   "outputs": [],
   "source": [
    "#import nessesary libraries \n",
    "import numpy as np\n",
    "from sklearn.model_selection import train_test_split\n",
    "from sklearn.neighbors import KNeighborsClassifier"
   ]
  },
  {
   "cell_type": "code",
   "execution_count": null,
   "id": "20e9d095",
   "metadata": {},
   "outputs": [],
   "source": [
    "#path to captchas (dataImages) and labels for captchas (dataLabels)\n",
    "dataImages = \"path to folder\"\n",
    "dataLabels = \"path to folder\""
   ]
  },
  {
   "cell_type": "code",
   "execution_count": null,
   "id": "67649152",
   "metadata": {},
   "outputs": [],
   "source": [
    "#training the KNN model and fitting the model\n",
    "(Xtrain, Xtest, Ytrain, Ytest) = train_test_split(dataImages, dataLabels, test_size=, random_state=)\n",
    "\n",
    "knn = KNeighborsClassifier(n_neighbors)\n",
    "knn.fit(Xtrain,Ytrain)\n",
    "\n",
    "knn.fit(Xtrain,Ytrain)\n",
    "y_pred = knn.predict(Xtest)"
   ]
  }
 ],
 "metadata": {
  "kernelspec": {
   "display_name": "Python 3",
   "language": "python",
   "name": "python3"
  },
  "language_info": {
   "codemirror_mode": {
    "name": "ipython",
    "version": 3
   },
   "file_extension": ".py",
   "mimetype": "text/x-python",
   "name": "python",
   "nbconvert_exporter": "python",
   "pygments_lexer": "ipython3",
   "version": "3.8.8"
  }
 },
 "nbformat": 4,
 "nbformat_minor": 5
}
