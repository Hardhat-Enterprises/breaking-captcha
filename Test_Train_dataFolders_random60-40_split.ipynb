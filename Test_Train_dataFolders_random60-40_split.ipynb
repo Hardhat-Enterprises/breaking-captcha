{
 "cells": [
  {
   "cell_type": "code",
   "execution_count": 35,
   "id": "75222408",
   "metadata": {},
   "outputs": [],
   "source": [
    "import os\n",
    "from glob2 import glob\n",
    "import shutil\n",
    "from sklearn.model_selection import train_test_split\n",
    "from pathlib import Path\n",
    "# do test train splitting\n",
    "\n",
    "# find image names\n",
    "glob_path = Path(r'C:\\Users\\User\\breaking-captcha-preprocessingTEXT\\Images2')\n",
    "\n",
    "image_list = [str(pp) for pp in glob_path.glob(\"**/*.png\")]\n",
    "\n"
   ]
  },
  {
   "cell_type": "code",
   "execution_count": 36,
   "id": "eaf7018b",
   "metadata": {},
   "outputs": [],
   "source": [
    "#print(image_list)"
   ]
  },
  {
   "cell_type": "code",
   "execution_count": 37,
   "id": "5808898b",
   "metadata": {},
   "outputs": [],
   "source": [
    "#image_files = glob(\".\\Images\\*.png\")\n",
    "# remove file extension\n",
    "image_names = [name.replace(\".png\",\"\") for name in image_list]\n",
    "# Use scikit learn function for convenience\n",
    "test_names, train_names = train_test_split(image_names, test_size=0.4)"
   ]
  },
  {
   "cell_type": "code",
   "execution_count": 38,
   "id": "8ad3d32e",
   "metadata": {},
   "outputs": [
    {
     "name": "stdout",
     "output_type": "stream",
     "text": [
      "3000\n"
     ]
    }
   ],
   "source": [
    "length_file = len(test_names)\n",
    "print(length_file)"
   ]
  },
  {
   "cell_type": "code",
   "execution_count": 39,
   "id": "444985ba",
   "metadata": {},
   "outputs": [],
   "source": [
    "#creating two new folder for the Test/Train data\n",
    "\n",
    "new_path = r'C:\\Users\\User\\breaking-captcha-preprocessingTEXT\\Images2\\Test'\n",
    "new_path2 = r'C:\\Users\\User\\breaking-captcha-preprocessingTEXT\\Images2\\Train'\n",
    "os.mkdir(new_path)\n",
    "os.mkdir(new_path2)"
   ]
  },
  {
   "cell_type": "code",
   "execution_count": 40,
   "id": "86bd1a82",
   "metadata": {},
   "outputs": [],
   "source": [
    "source_dir = Path(r'C:\\Users\\User\\breaking-captcha-preprocessingTEXT\\Images2')\n",
    "test_dir = Path(r'C:\\Users\\User\\breaking-captcha-preprocessingTEXT\\Images2\\Test')\n",
    "train_dir = Path(r'C:\\Users\\User\\breaking-captcha-preprocessingTEXT\\Images2\\Train')"
   ]
  },
  {
   "cell_type": "code",
   "execution_count": 41,
   "id": "d3d45967",
   "metadata": {},
   "outputs": [],
   "source": [
    "def batch_move_files(file_list, source_path, destination_path):\n",
    "    for file in file_list:\n",
    "        image = file+'.png'\n",
    "        shutil.move(os.path.join(source_path, image), destination_path)\n",
    "    return\n",
    "\n",
    "batch_move_files(test_names, source_dir, test_dir)\n",
    "batch_move_files(train_names, source_dir, train_dir)"
   ]
  },
  {
   "cell_type": "code",
   "execution_count": null,
   "id": "0b447cc3",
   "metadata": {},
   "outputs": [],
   "source": []
  }
 ],
 "metadata": {
  "kernelspec": {
   "display_name": "Python 3 (ipykernel)",
   "language": "python",
   "name": "python3"
  },
  "language_info": {
   "codemirror_mode": {
    "name": "ipython",
    "version": 3
   },
   "file_extension": ".py",
   "mimetype": "text/x-python",
   "name": "python",
   "nbconvert_exporter": "python",
   "pygments_lexer": "ipython3",
   "version": "3.9.12"
  }
 },
 "nbformat": 4,
 "nbformat_minor": 5
}
